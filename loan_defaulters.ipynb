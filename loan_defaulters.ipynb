{
 "cells": [
  {
   "cell_type": "code",
   "execution_count": 1,
   "id": "6631b453",
   "metadata": {},
   "outputs": [],
   "source": [
    "from pyspark.sql import SparkSession "
   ]
  },
  {
   "cell_type": "code",
   "execution_count": 2,
   "id": "098967f3",
   "metadata": {},
   "outputs": [],
   "source": [
    "spark = SparkSession .\\\n",
    "builder .\\\n",
    "appName(\"spark\") .\\\n",
    "config(\"spark.sql.warehouse.dir\",\"?user/itv016843/warehouse\") .\\\n",
    "enableHiveSupport() .\\\n",
    "master(\"yarn\") .\\\n",
    "getOrCreate()"
   ]
  },
  {
   "cell_type": "code",
   "execution_count": 3,
   "id": "9da1565b",
   "metadata": {},
   "outputs": [
    {
     "data": {
      "text/html": [
       "\n",
       "            <div>\n",
       "                <p><b>SparkSession - hive</b></p>\n",
       "                \n",
       "        <div>\n",
       "            <p><b>SparkContext</b></p>\n",
       "\n",
       "            <p><a href=\"http://g02.itversity.com:4040\">Spark UI</a></p>\n",
       "\n",
       "            <dl>\n",
       "              <dt>Version</dt>\n",
       "                <dd><code>v3.1.2</code></dd>\n",
       "              <dt>Master</dt>\n",
       "                <dd><code>yarn</code></dd>\n",
       "              <dt>AppName</dt>\n",
       "                <dd><code>spark</code></dd>\n",
       "            </dl>\n",
       "        </div>\n",
       "        \n",
       "            </div>\n",
       "        "
      ],
      "text/plain": [
       "<pyspark.sql.session.SparkSession at 0x7ff94d099a58>"
      ]
     },
     "execution_count": 3,
     "metadata": {},
     "output_type": "execute_result"
    }
   ],
   "source": [
    "spark"
   ]
  },
  {
   "cell_type": "code",
   "execution_count": null,
   "id": "2b554f6a",
   "metadata": {},
   "outputs": [],
   "source": []
  },
  {
   "cell_type": "code",
   "execution_count": 4,
   "id": "2fa23008",
   "metadata": {},
   "outputs": [],
   "source": [
    "from pyspark.sql.functions import *"
   ]
  },
  {
   "cell_type": "code",
   "execution_count": 5,
   "id": "184957ef",
   "metadata": {},
   "outputs": [],
   "source": [
    "from pyspark.sql import  *"
   ]
  },
  {
   "cell_type": "code",
   "execution_count": null,
   "id": "389bbfcf",
   "metadata": {},
   "outputs": [],
   "source": []
  },
  {
   "cell_type": "code",
   "execution_count": 6,
   "id": "b0d83636",
   "metadata": {},
   "outputs": [
    {
     "name": "stdout",
     "output_type": "stream",
     "text": [
      "Found 4 items\n",
      "drwxr-xr-x   - itv005857 supergroup          0 2023-09-15 14:40 /public/trendytech/lendingclubproject/raw/customers_data_csv\n",
      "drwxr-xr-x   - itv005857 supergroup          0 2023-09-17 22:57 /public/trendytech/lendingclubproject/raw/loans_data_csv\n",
      "drwxr-xr-x   - itv005857 supergroup          0 2023-09-18 07:32 /public/trendytech/lendingclubproject/raw/loans_defaulters_csv\n",
      "drwxr-xr-x   - itv005857 supergroup          0 2023-09-18 07:31 /public/trendytech/lendingclubproject/raw/loans_repayments_csv\n"
     ]
    }
   ],
   "source": [
    "! hadoop fs -ls /public/trendytech/lendingclubproject/raw"
   ]
  },
  {
   "cell_type": "code",
   "execution_count": 7,
   "id": "2961d77f",
   "metadata": {},
   "outputs": [],
   "source": [
    "delinq_schema = 'member_id string,delinq_2yrs float,delinq_amnt float,pub_rec float,pub_rec_bankruptcies float,inq_last_6mths float,total_rec_late_fee float,mths_since_last_delinq float,mths_since_last_record float'"
   ]
  },
  {
   "cell_type": "code",
   "execution_count": 8,
   "id": "e7c47184",
   "metadata": {},
   "outputs": [],
   "source": [
    "df1 = spark.read \\\n",
    ".format(\"csv\") \\\n",
    ".option(\"header\",True) \\\n",
    ".schema(delinq_schema) \\\n",
    ".load(\"/public/trendytech/lendingclubproject/raw/loans_defaulters_csv\")"
   ]
  },
  {
   "cell_type": "code",
   "execution_count": 9,
   "id": "cbe4ffbf",
   "metadata": {},
   "outputs": [
    {
     "data": {
      "text/html": [
       "<table border='1'>\n",
       "<tr><th>member_id</th><th>delinq_2yrs</th><th>delinq_amnt</th><th>pub_rec</th><th>pub_rec_bankruptcies</th><th>inq_last_6mths</th><th>total_rec_late_fee</th><th>mths_since_last_delinq</th><th>mths_since_last_record</th></tr>\n",
       "<tr><td>673da0da820de70f9...</td><td>0.0</td><td>0.0</td><td>0.0</td><td>0.0</td><td>1.0</td><td>0.0</td><td>33.0</td><td>null</td></tr>\n",
       "<tr><td>f5725a82fea842f9b...</td><td>0.0</td><td>0.0</td><td>0.0</td><td>0.0</td><td>2.0</td><td>0.0</td><td>49.0</td><td>null</td></tr>\n",
       "<tr><td>0e697722917e34328...</td><td>0.0</td><td>0.0</td><td>0.0</td><td>0.0</td><td>2.0</td><td>0.0</td><td>33.0</td><td>null</td></tr>\n",
       "<tr><td>e995ef7b48b9a42db...</td><td>0.0</td><td>0.0</td><td>0.0</td><td>0.0</td><td>1.0</td><td>0.0</td><td>null</td><td>null</td></tr>\n",
       "<tr><td>a3b9c8c1aaa89b52a...</td><td>0.0</td><td>0.0</td><td>0.0</td><td>0.0</td><td>1.0</td><td>0.0</td><td>45.0</td><td>null</td></tr>\n",
       "</table>\n"
      ],
      "text/plain": [
       "+--------------------+-----------+-----------+-------+--------------------+--------------+------------------+----------------------+----------------------+\n",
       "|           member_id|delinq_2yrs|delinq_amnt|pub_rec|pub_rec_bankruptcies|inq_last_6mths|total_rec_late_fee|mths_since_last_delinq|mths_since_last_record|\n",
       "+--------------------+-----------+-----------+-------+--------------------+--------------+------------------+----------------------+----------------------+\n",
       "|673da0da820de70f9...|        0.0|        0.0|    0.0|                 0.0|           1.0|               0.0|                  33.0|                  null|\n",
       "|f5725a82fea842f9b...|        0.0|        0.0|    0.0|                 0.0|           2.0|               0.0|                  49.0|                  null|\n",
       "|0e697722917e34328...|        0.0|        0.0|    0.0|                 0.0|           2.0|               0.0|                  33.0|                  null|\n",
       "|e995ef7b48b9a42db...|        0.0|        0.0|    0.0|                 0.0|           1.0|               0.0|                  null|                  null|\n",
       "|a3b9c8c1aaa89b52a...|        0.0|        0.0|    0.0|                 0.0|           1.0|               0.0|                  45.0|                  null|\n",
       "+--------------------+-----------+-----------+-------+--------------------+--------------+------------------+----------------------+----------------------+"
      ]
     },
     "execution_count": 9,
     "metadata": {},
     "output_type": "execute_result"
    }
   ],
   "source": [
    "df1.limit(5)"
   ]
  },
  {
   "cell_type": "code",
   "execution_count": 10,
   "id": "6784ed0b",
   "metadata": {},
   "outputs": [
    {
     "data": {
      "text/html": [
       "<table border='1'>\n",
       "<tr><th>delinq_2yrs</th><th>count</th></tr>\n",
       "<tr><td>20.04</td><td>1</td></tr>\n",
       "<tr><td>18.53</td><td>1</td></tr>\n",
       "<tr><td>18.0</td><td>30</td></tr>\n",
       "<tr><td>26.24</td><td>1</td></tr>\n",
       "<tr><td>6.52</td><td>1</td></tr>\n",
       "<tr><td>9.0</td><td>818</td></tr>\n",
       "<tr><td>21.72</td><td>1</td></tr>\n",
       "<tr><td>17.17</td><td>1</td></tr>\n",
       "<tr><td>58.0</td><td>1</td></tr>\n",
       "<tr><td>5.0</td><td>6599</td></tr>\n",
       "<tr><td>39.0</td><td>1</td></tr>\n",
       "<tr><td>9.44</td><td>1</td></tr>\n",
       "<tr><td>17.0</td><td>30</td></tr>\n",
       "<tr><td>30.0</td><td>2</td></tr>\n",
       "<tr><td>26.0</td><td>3</td></tr>\n",
       "<tr><td>29.0</td><td>2</td></tr>\n",
       "<tr><td>9.56</td><td>1</td></tr>\n",
       "<tr><td>23.0</td><td>2</td></tr>\n",
       "<tr><td>1.41</td><td>1</td></tr>\n",
       "<tr><td>17.18</td><td>1</td></tr>\n",
       "</table>\n",
       "only showing top 20 rows\n"
      ],
      "text/plain": [
       "+-----------+-----+\n",
       "|delinq_2yrs|count|\n",
       "+-----------+-----+\n",
       "|      20.04|    1|\n",
       "|      18.53|    1|\n",
       "|       18.0|   30|\n",
       "|      26.24|    1|\n",
       "|       6.52|    1|\n",
       "|      21.72|    1|\n",
       "|        9.0|  818|\n",
       "|      17.17|    1|\n",
       "|       58.0|    1|\n",
       "|        5.0| 6599|\n",
       "|       39.0|    1|\n",
       "|       9.44|    1|\n",
       "|       17.0|   30|\n",
       "|       30.0|    2|\n",
       "|       26.0|    3|\n",
       "|       29.0|    2|\n",
       "|       9.56|    1|\n",
       "|       23.0|    2|\n",
       "|       1.41|    1|\n",
       "|      17.18|    1|\n",
       "+-----------+-----+\n",
       "only showing top 20 rows"
      ]
     },
     "execution_count": 10,
     "metadata": {},
     "output_type": "execute_result"
    }
   ],
   "source": [
    "df1.groupBy(\"delinq_2yrs\").count()"
   ]
  },
  {
   "cell_type": "code",
   "execution_count": 11,
   "id": "ffb72407",
   "metadata": {},
   "outputs": [
    {
     "data": {
      "text/html": [
       "<table border='1'>\n",
       "<tr><th>delinq_2yrs</th><th>count</th></tr>\n",
       "<tr><td>20.04</td><td>1</td></tr>\n",
       "<tr><td>18.53</td><td>1</td></tr>\n",
       "<tr><td>26.24</td><td>1</td></tr>\n",
       "<tr><td>6.52</td><td>1</td></tr>\n",
       "<tr><td>17.17</td><td>1</td></tr>\n",
       "</table>\n"
      ],
      "text/plain": [
       "+-----------+-----+\n",
       "|delinq_2yrs|count|\n",
       "+-----------+-----+\n",
       "|      20.04|    1|\n",
       "|      18.53|    1|\n",
       "|       18.0|   30|\n",
       "|      26.24|    1|\n",
       "|       6.52|    1|\n",
       "+-----------+-----+"
      ]
     },
     "execution_count": 11,
     "metadata": {},
     "output_type": "execute_result"
    }
   ],
   "source": [
    "df1.groupBy(\"delinq_2yrs\").count().limit(5)"
   ]
  },
  {
   "cell_type": "code",
   "execution_count": 12,
   "id": "236671e3",
   "metadata": {},
   "outputs": [],
   "source": [
    "df2 = df1.withColumn(\"Time\",current_timestamp())"
   ]
  },
  {
   "cell_type": "code",
   "execution_count": 13,
   "id": "2094d3e1",
   "metadata": {},
   "outputs": [
    {
     "data": {
      "text/html": [
       "<table border='1'>\n",
       "<tr><th>member_id</th><th>delinq_2yrs</th><th>delinq_amnt</th><th>pub_rec</th><th>pub_rec_bankruptcies</th><th>inq_last_6mths</th><th>total_rec_late_fee</th><th>mths_since_last_delinq</th><th>mths_since_last_record</th><th>Time</th></tr>\n",
       "<tr><td>673da0da820de70f9...</td><td>0.0</td><td>0.0</td><td>0.0</td><td>0.0</td><td>1.0</td><td>0.0</td><td>33.0</td><td>null</td><td>2025-07-26 05:04:...</td></tr>\n",
       "<tr><td>f5725a82fea842f9b...</td><td>0.0</td><td>0.0</td><td>0.0</td><td>0.0</td><td>2.0</td><td>0.0</td><td>49.0</td><td>null</td><td>2025-07-26 05:04:...</td></tr>\n",
       "<tr><td>0e697722917e34328...</td><td>0.0</td><td>0.0</td><td>0.0</td><td>0.0</td><td>2.0</td><td>0.0</td><td>33.0</td><td>null</td><td>2025-07-26 05:04:...</td></tr>\n",
       "<tr><td>e995ef7b48b9a42db...</td><td>0.0</td><td>0.0</td><td>0.0</td><td>0.0</td><td>1.0</td><td>0.0</td><td>null</td><td>null</td><td>2025-07-26 05:04:...</td></tr>\n",
       "<tr><td>a3b9c8c1aaa89b52a...</td><td>0.0</td><td>0.0</td><td>0.0</td><td>0.0</td><td>1.0</td><td>0.0</td><td>45.0</td><td>null</td><td>2025-07-26 05:04:...</td></tr>\n",
       "</table>\n"
      ],
      "text/plain": [
       "+--------------------+-----------+-----------+-------+--------------------+--------------+------------------+----------------------+----------------------+--------------------+\n",
       "|           member_id|delinq_2yrs|delinq_amnt|pub_rec|pub_rec_bankruptcies|inq_last_6mths|total_rec_late_fee|mths_since_last_delinq|mths_since_last_record|                Time|\n",
       "+--------------------+-----------+-----------+-------+--------------------+--------------+------------------+----------------------+----------------------+--------------------+\n",
       "|9cb79aa7323e81be1...|        2.0|        0.0|    0.0|                 0.0|           0.0|               0.0|                  11.0|                  null|2025-07-26 05:04:...|\n",
       "|0dd2bbc517e3c8f9e...|        0.0|        0.0|    1.0|                 1.0|           3.0|               0.0|                  null|                 115.0|2025-07-26 05:04:...|\n",
       "|458458599d3df3bfc...|        0.0|        0.0|    1.0|                 1.0|           1.0|               0.0|                  null|                  76.0|2025-07-26 05:04:...|\n",
       "|05ea141ec28b5c7f7...|        0.0|        0.0|    0.0|                 0.0|           0.0|               0.0|                  null|                  null|2025-07-26 05:04:...|\n",
       "|aac68850fdac09fd0...|        1.0|        0.0|    0.0|                 0.0|           0.0|               0.0|                  21.0|                  null|2025-07-26 05:04:...|\n",
       "+--------------------+-----------+-----------+-------+--------------------+--------------+------------------+----------------------+----------------------+--------------------+"
      ]
     },
     "execution_count": 13,
     "metadata": {},
     "output_type": "execute_result"
    }
   ],
   "source": [
    "df2.limit(5)"
   ]
  },
  {
   "cell_type": "code",
   "execution_count": null,
   "id": "d0e2a1c1",
   "metadata": {},
   "outputs": [],
   "source": []
  },
  {
   "cell_type": "code",
   "execution_count": 14,
   "id": "e032c2b0",
   "metadata": {},
   "outputs": [],
   "source": [
    "df3 = df2.withColumn(\"delinq_2yrs\",col(\"delinq_2yrs\").cast(\"int\"))"
   ]
  },
  {
   "cell_type": "code",
   "execution_count": 16,
   "id": "cbb890b8",
   "metadata": {},
   "outputs": [],
   "source": [
    "df4 = df3.withColumn(\"delinq_amnt\",col(\"delinq_amnt\").cast(\"int\"))"
   ]
  },
  {
   "cell_type": "code",
   "execution_count": 17,
   "id": "512337a0",
   "metadata": {},
   "outputs": [
    {
     "data": {
      "text/html": [
       "<table border='1'>\n",
       "<tr><th>member_id</th><th>delinq_2yrs</th><th>delinq_amnt</th><th>pub_rec</th><th>pub_rec_bankruptcies</th><th>inq_last_6mths</th><th>total_rec_late_fee</th><th>mths_since_last_delinq</th><th>mths_since_last_record</th><th>Time</th></tr>\n",
       "<tr><td>673da0da820de70f9...</td><td>0</td><td>0</td><td>0.0</td><td>0.0</td><td>1.0</td><td>0.0</td><td>33.0</td><td>null</td><td>2025-07-26 05:05:...</td></tr>\n",
       "<tr><td>f5725a82fea842f9b...</td><td>0</td><td>0</td><td>0.0</td><td>0.0</td><td>2.0</td><td>0.0</td><td>49.0</td><td>null</td><td>2025-07-26 05:05:...</td></tr>\n",
       "<tr><td>0e697722917e34328...</td><td>0</td><td>0</td><td>0.0</td><td>0.0</td><td>2.0</td><td>0.0</td><td>33.0</td><td>null</td><td>2025-07-26 05:05:...</td></tr>\n",
       "<tr><td>e995ef7b48b9a42db...</td><td>0</td><td>0</td><td>0.0</td><td>0.0</td><td>1.0</td><td>0.0</td><td>null</td><td>null</td><td>2025-07-26 05:05:...</td></tr>\n",
       "<tr><td>a3b9c8c1aaa89b52a...</td><td>0</td><td>0</td><td>0.0</td><td>0.0</td><td>1.0</td><td>0.0</td><td>45.0</td><td>null</td><td>2025-07-26 05:05:...</td></tr>\n",
       "</table>\n"
      ],
      "text/plain": [
       "+--------------------+-----------+-----------+-------+--------------------+--------------+------------------+----------------------+----------------------+--------------------+\n",
       "|           member_id|delinq_2yrs|delinq_amnt|pub_rec|pub_rec_bankruptcies|inq_last_6mths|total_rec_late_fee|mths_since_last_delinq|mths_since_last_record|                Time|\n",
       "+--------------------+-----------+-----------+-------+--------------------+--------------+------------------+----------------------+----------------------+--------------------+\n",
       "|673da0da820de70f9...|          0|          0|    0.0|                 0.0|           1.0|               0.0|                  33.0|                  null|2025-07-26 05:05:...|\n",
       "|f5725a82fea842f9b...|          0|          0|    0.0|                 0.0|           2.0|               0.0|                  49.0|                  null|2025-07-26 05:05:...|\n",
       "|0e697722917e34328...|          0|          0|    0.0|                 0.0|           2.0|               0.0|                  33.0|                  null|2025-07-26 05:05:...|\n",
       "|e995ef7b48b9a42db...|          0|          0|    0.0|                 0.0|           1.0|               0.0|                  null|                  null|2025-07-26 05:05:...|\n",
       "|a3b9c8c1aaa89b52a...|          0|          0|    0.0|                 0.0|           1.0|               0.0|                  45.0|                  null|2025-07-26 05:05:...|\n",
       "+--------------------+-----------+-----------+-------+--------------------+--------------+------------------+----------------------+----------------------+--------------------+"
      ]
     },
     "execution_count": 17,
     "metadata": {},
     "output_type": "execute_result"
    }
   ],
   "source": [
    "df4.limit(5)"
   ]
  },
  {
   "cell_type": "code",
   "execution_count": 19,
   "id": "a0b0828d",
   "metadata": {},
   "outputs": [],
   "source": [
    "df5 = df4.withColumn(\"mths_since_last_delinq\",col(\"mths_since_last_delinq\").cast(\"int\"))"
   ]
  },
  {
   "cell_type": "code",
   "execution_count": 20,
   "id": "f7a5089c",
   "metadata": {},
   "outputs": [
    {
     "data": {
      "text/html": [
       "<table border='1'>\n",
       "<tr><th>member_id</th><th>delinq_2yrs</th><th>delinq_amnt</th><th>pub_rec</th><th>pub_rec_bankruptcies</th><th>inq_last_6mths</th><th>total_rec_late_fee</th><th>mths_since_last_delinq</th><th>mths_since_last_record</th><th>Time</th></tr>\n",
       "<tr><td>673da0da820de70f9...</td><td>0</td><td>0</td><td>0.0</td><td>0.0</td><td>1.0</td><td>0.0</td><td>33</td><td>null</td><td>2025-07-26 05:06:...</td></tr>\n",
       "<tr><td>f5725a82fea842f9b...</td><td>0</td><td>0</td><td>0.0</td><td>0.0</td><td>2.0</td><td>0.0</td><td>49</td><td>null</td><td>2025-07-26 05:06:...</td></tr>\n",
       "<tr><td>0e697722917e34328...</td><td>0</td><td>0</td><td>0.0</td><td>0.0</td><td>2.0</td><td>0.0</td><td>33</td><td>null</td><td>2025-07-26 05:06:...</td></tr>\n",
       "<tr><td>e995ef7b48b9a42db...</td><td>0</td><td>0</td><td>0.0</td><td>0.0</td><td>1.0</td><td>0.0</td><td>null</td><td>null</td><td>2025-07-26 05:06:...</td></tr>\n",
       "<tr><td>a3b9c8c1aaa89b52a...</td><td>0</td><td>0</td><td>0.0</td><td>0.0</td><td>1.0</td><td>0.0</td><td>45</td><td>null</td><td>2025-07-26 05:06:...</td></tr>\n",
       "</table>\n"
      ],
      "text/plain": [
       "+--------------------+-----------+-----------+-------+--------------------+--------------+------------------+----------------------+----------------------+--------------------+\n",
       "|           member_id|delinq_2yrs|delinq_amnt|pub_rec|pub_rec_bankruptcies|inq_last_6mths|total_rec_late_fee|mths_since_last_delinq|mths_since_last_record|                Time|\n",
       "+--------------------+-----------+-----------+-------+--------------------+--------------+------------------+----------------------+----------------------+--------------------+\n",
       "|9cb79aa7323e81be1...|          2|          0|    0.0|                 0.0|           0.0|               0.0|                    11|                  null|2025-07-26 05:06:...|\n",
       "|0dd2bbc517e3c8f9e...|          0|          0|    1.0|                 1.0|           3.0|               0.0|                  null|                 115.0|2025-07-26 05:06:...|\n",
       "|458458599d3df3bfc...|          0|          0|    1.0|                 1.0|           1.0|               0.0|                  null|                  76.0|2025-07-26 05:06:...|\n",
       "|05ea141ec28b5c7f7...|          0|          0|    0.0|                 0.0|           0.0|               0.0|                  null|                  null|2025-07-26 05:06:...|\n",
       "|aac68850fdac09fd0...|          1|          0|    0.0|                 0.0|           0.0|               0.0|                    21|                  null|2025-07-26 05:06:...|\n",
       "+--------------------+-----------+-----------+-------+--------------------+--------------+------------------+----------------------+----------------------+--------------------+"
      ]
     },
     "execution_count": 20,
     "metadata": {},
     "output_type": "execute_result"
    }
   ],
   "source": [
    "df5.limit(5)"
   ]
  },
  {
   "cell_type": "code",
   "execution_count": 21,
   "id": "db6fd724",
   "metadata": {},
   "outputs": [],
   "source": [
    "df5.createOrReplaceTempView(\"data\")"
   ]
  },
  {
   "cell_type": "code",
   "execution_count": 22,
   "id": "d55957a8",
   "metadata": {},
   "outputs": [
    {
     "data": {
      "text/html": [
       "<table border='1'>\n",
       "<tr><th></th></tr>\n",
       "</table>\n"
      ],
      "text/plain": [
       "++\n",
       "||\n",
       "++\n",
       "++"
      ]
     },
     "execution_count": 22,
     "metadata": {},
     "output_type": "execute_result"
    }
   ],
   "source": [
    "spark.sql(\"use ajdb1\")"
   ]
  },
  {
   "cell_type": "code",
   "execution_count": 27,
   "id": "18fd8f61",
   "metadata": {},
   "outputs": [],
   "source": [
    "df6 = spark.sql(\"select member_id,delinq_2yrs,delinq_amnt,mths_since_last_delinq from data where delinq_2yrs > 0\") "
   ]
  },
  {
   "cell_type": "code",
   "execution_count": 28,
   "id": "631c9ca0",
   "metadata": {},
   "outputs": [],
   "source": [
    "df6.write \\\n",
    ".format(\"csv\") \\\n",
    ".mode(\"overwrite\") \\\n",
    ".option(\"header\",True) \\\n",
    ".option(\"path\",\"/user/itv016843/cleaned/delinq\") \\\n",
    ".save()"
   ]
  },
  {
   "cell_type": "code",
   "execution_count": 29,
   "id": "90eb9ffd",
   "metadata": {},
   "outputs": [
    {
     "data": {
      "text/html": [
       "<table border='1'>\n",
       "<tr><th>member_id</th><th>delinq_2yrs</th><th>delinq_amnt</th><th>pub_rec</th><th>pub_rec_bankruptcies</th><th>inq_last_6mths</th><th>total_rec_late_fee</th><th>mths_since_last_delinq</th><th>mths_since_last_record</th><th>Time</th></tr>\n",
       "<tr><td>673da0da820de70f9...</td><td>0</td><td>0</td><td>0.0</td><td>0.0</td><td>1.0</td><td>0.0</td><td>33</td><td>null</td><td>2025-07-26 05:12:...</td></tr>\n",
       "<tr><td>f5725a82fea842f9b...</td><td>0</td><td>0</td><td>0.0</td><td>0.0</td><td>2.0</td><td>0.0</td><td>49</td><td>null</td><td>2025-07-26 05:12:...</td></tr>\n",
       "<tr><td>0e697722917e34328...</td><td>0</td><td>0</td><td>0.0</td><td>0.0</td><td>2.0</td><td>0.0</td><td>33</td><td>null</td><td>2025-07-26 05:12:...</td></tr>\n",
       "<tr><td>e995ef7b48b9a42db...</td><td>0</td><td>0</td><td>0.0</td><td>0.0</td><td>1.0</td><td>0.0</td><td>null</td><td>null</td><td>2025-07-26 05:12:...</td></tr>\n",
       "<tr><td>a3b9c8c1aaa89b52a...</td><td>0</td><td>0</td><td>0.0</td><td>0.0</td><td>1.0</td><td>0.0</td><td>45</td><td>null</td><td>2025-07-26 05:12:...</td></tr>\n",
       "</table>\n"
      ],
      "text/plain": [
       "+--------------------+-----------+-----------+-------+--------------------+--------------+------------------+----------------------+----------------------+--------------------+\n",
       "|           member_id|delinq_2yrs|delinq_amnt|pub_rec|pub_rec_bankruptcies|inq_last_6mths|total_rec_late_fee|mths_since_last_delinq|mths_since_last_record|                Time|\n",
       "+--------------------+-----------+-----------+-------+--------------------+--------------+------------------+----------------------+----------------------+--------------------+\n",
       "|673da0da820de70f9...|          0|          0|    0.0|                 0.0|           1.0|               0.0|                    33|                  null|2025-07-26 05:12:...|\n",
       "|f5725a82fea842f9b...|          0|          0|    0.0|                 0.0|           2.0|               0.0|                    49|                  null|2025-07-26 05:12:...|\n",
       "|0e697722917e34328...|          0|          0|    0.0|                 0.0|           2.0|               0.0|                    33|                  null|2025-07-26 05:12:...|\n",
       "|e995ef7b48b9a42db...|          0|          0|    0.0|                 0.0|           1.0|               0.0|                  null|                  null|2025-07-26 05:12:...|\n",
       "|a3b9c8c1aaa89b52a...|          0|          0|    0.0|                 0.0|           1.0|               0.0|                    45|                  null|2025-07-26 05:12:...|\n",
       "+--------------------+-----------+-----------+-------+--------------------+--------------+------------------+----------------------+----------------------+--------------------+"
      ]
     },
     "execution_count": 29,
     "metadata": {},
     "output_type": "execute_result"
    }
   ],
   "source": [
    "df5.limit(5)"
   ]
  },
  {
   "cell_type": "code",
   "execution_count": 34,
   "id": "5a6c78f5",
   "metadata": {},
   "outputs": [],
   "source": [
    "df7 = spark.sql(\"select member_id,int(pub_rec),int(pub_rec_bankruptcies),int(inq_last_6mths) from data where pub_rec_bankruptcies > 0\")"
   ]
  },
  {
   "cell_type": "code",
   "execution_count": 35,
   "id": "38943528",
   "metadata": {},
   "outputs": [
    {
     "data": {
      "text/html": [
       "<table border='1'>\n",
       "<tr><th>member_id</th><th>pub_rec</th><th>pub_rec_bankruptcies</th><th>inq_last_6mths</th></tr>\n",
       "<tr><td>0dd2bbc517e3c8f9e...</td><td>1</td><td>1</td><td>3</td></tr>\n",
       "<tr><td>458458599d3df3bfc...</td><td>1</td><td>1</td><td>1</td></tr>\n",
       "<tr><td>09a1c6855801dad88...</td><td>1</td><td>1</td><td>0</td></tr>\n",
       "<tr><td>56d4375718ad6940d...</td><td>1</td><td>1</td><td>0</td></tr>\n",
       "<tr><td>41a307b3c2c66aad8...</td><td>1</td><td>1</td><td>0</td></tr>\n",
       "<tr><td>3a4aac093cddcdb0c...</td><td>1</td><td>1</td><td>0</td></tr>\n",
       "<tr><td>d0e339cf3578b24e9...</td><td>1</td><td>1</td><td>0</td></tr>\n",
       "<tr><td>4c5cc017a06ad9cee...</td><td>1</td><td>1</td><td>0</td></tr>\n",
       "<tr><td>7d746a6d68e460263...</td><td>1</td><td>1</td><td>2</td></tr>\n",
       "<tr><td>c6729bc4f914f5c5f...</td><td>1</td><td>1</td><td>0</td></tr>\n",
       "<tr><td>1c8993dac843415db...</td><td>1</td><td>1</td><td>2</td></tr>\n",
       "<tr><td>add9fe174b2e90115...</td><td>1</td><td>1</td><td>1</td></tr>\n",
       "<tr><td>d7fefe2fe5f7932c9...</td><td>1</td><td>1</td><td>0</td></tr>\n",
       "<tr><td>56a45f54311a6b495...</td><td>1</td><td>1</td><td>0</td></tr>\n",
       "<tr><td>cbf4b3ca6415124d6...</td><td>1</td><td>1</td><td>0</td></tr>\n",
       "<tr><td>35621675790a3c062...</td><td>1</td><td>1</td><td>0</td></tr>\n",
       "<tr><td>898f5caa25d3e2279...</td><td>1</td><td>1</td><td>0</td></tr>\n",
       "<tr><td>0bf7539cf7f7809c4...</td><td>1</td><td>1</td><td>0</td></tr>\n",
       "<tr><td>ec08664e5c7914c7c...</td><td>1</td><td>1</td><td>1</td></tr>\n",
       "<tr><td>3987bc7232be0013b...</td><td>1</td><td>1</td><td>0</td></tr>\n",
       "</table>\n",
       "only showing top 20 rows\n"
      ],
      "text/plain": [
       "+--------------------+-------+--------------------+--------------+\n",
       "|           member_id|pub_rec|pub_rec_bankruptcies|inq_last_6mths|\n",
       "+--------------------+-------+--------------------+--------------+\n",
       "|0dd2bbc517e3c8f9e...|      1|                   1|             3|\n",
       "|458458599d3df3bfc...|      1|                   1|             1|\n",
       "|09a1c6855801dad88...|      1|                   1|             0|\n",
       "|56d4375718ad6940d...|      1|                   1|             0|\n",
       "|41a307b3c2c66aad8...|      1|                   1|             0|\n",
       "|3a4aac093cddcdb0c...|      1|                   1|             0|\n",
       "|d0e339cf3578b24e9...|      1|                   1|             0|\n",
       "|4c5cc017a06ad9cee...|      1|                   1|             0|\n",
       "|7d746a6d68e460263...|      1|                   1|             2|\n",
       "|c6729bc4f914f5c5f...|      1|                   1|             0|\n",
       "|1c8993dac843415db...|      1|                   1|             2|\n",
       "|add9fe174b2e90115...|      1|                   1|             1|\n",
       "|d7fefe2fe5f7932c9...|      1|                   1|             0|\n",
       "|56a45f54311a6b495...|      1|                   1|             0|\n",
       "|cbf4b3ca6415124d6...|      1|                   1|             0|\n",
       "|35621675790a3c062...|      1|                   1|             0|\n",
       "|898f5caa25d3e2279...|      1|                   1|             0|\n",
       "|0bf7539cf7f7809c4...|      1|                   1|             0|\n",
       "|ec08664e5c7914c7c...|      1|                   1|             1|\n",
       "|3987bc7232be0013b...|      1|                   1|             0|\n",
       "+--------------------+-------+--------------------+--------------+\n",
       "only showing top 20 rows"
      ]
     },
     "execution_count": 35,
     "metadata": {},
     "output_type": "execute_result"
    }
   ],
   "source": [
    "df7"
   ]
  },
  {
   "cell_type": "code",
   "execution_count": null,
   "id": "a46129ae",
   "metadata": {},
   "outputs": [],
   "source": [
    "df7.write \\\n",
    ".format(\"csv\") \\\n",
    ".mode(\"overwrite\") \\\n",
    ".option(\"header\",True) \\\n",
    "."
   ]
  }
 ],
 "metadata": {
  "kernelspec": {
   "display_name": "Pyspark 3",
   "language": "python",
   "name": "pyspark3"
  },
  "language_info": {
   "codemirror_mode": {
    "name": "ipython",
    "version": 3
   },
   "file_extension": ".py",
   "mimetype": "text/x-python",
   "name": "python",
   "nbconvert_exporter": "python",
   "pygments_lexer": "ipython3",
   "version": "3.6.12"
  }
 },
 "nbformat": 4,
 "nbformat_minor": 5
}
