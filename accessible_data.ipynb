{
 "cells": [
  {
   "cell_type": "code",
   "execution_count": 1,
   "id": "398af5c9",
   "metadata": {},
   "outputs": [],
   "source": [
    "from pyspark.sql import SparkSession"
   ]
  },
  {
   "cell_type": "code",
   "execution_count": 2,
   "id": "45de4e95",
   "metadata": {},
   "outputs": [],
   "source": [
    "spark = SparkSession .\\\n",
    "builder .\\\n",
    "appName(\"spark\") .\\\n",
    "config(\"spark.sql.warehouse.dir\",\"/user/itv016843/warehouse\") .\\\n",
    "enableHiveSupport() .\\\n",
    "master(\"yarn\") .\\\n",
    "getOrCreate()"
   ]
  },
  {
   "cell_type": "code",
   "execution_count": 3,
   "id": "41cb2c38",
   "metadata": {},
   "outputs": [
    {
     "data": {
      "text/html": [
       "\n",
       "            <div>\n",
       "                <p><b>SparkSession - hive</b></p>\n",
       "                \n",
       "        <div>\n",
       "            <p><b>SparkContext</b></p>\n",
       "\n",
       "            <p><a href=\"http://g02.itversity.com:4040\">Spark UI</a></p>\n",
       "\n",
       "            <dl>\n",
       "              <dt>Version</dt>\n",
       "                <dd><code>v3.1.2</code></dd>\n",
       "              <dt>Master</dt>\n",
       "                <dd><code>yarn</code></dd>\n",
       "              <dt>AppName</dt>\n",
       "                <dd><code>spark</code></dd>\n",
       "            </dl>\n",
       "        </div>\n",
       "        \n",
       "            </div>\n",
       "        "
      ],
      "text/plain": [
       "<pyspark.sql.session.SparkSession at 0x7f5ef86cdb00>"
      ]
     },
     "execution_count": 3,
     "metadata": {},
     "output_type": "execute_result"
    }
   ],
   "source": [
    "spark"
   ]
  },
  {
   "cell_type": "code",
   "execution_count": null,
   "id": "496df5e1",
   "metadata": {},
   "outputs": [],
   "source": []
  },
  {
   "cell_type": "code",
   "execution_count": 4,
   "id": "5984e8dd",
   "metadata": {},
   "outputs": [
    {
     "data": {
      "text/html": [
       "<table border='1'>\n",
       "<tr><th></th></tr>\n",
       "</table>\n"
      ],
      "text/plain": [
       "++\n",
       "||\n",
       "++\n",
       "++"
      ]
     },
     "execution_count": 4,
     "metadata": {},
     "output_type": "execute_result"
    }
   ],
   "source": [
    "spark.sql(\"use data_analyst\")"
   ]
  },
  {
   "cell_type": "code",
   "execution_count": 6,
   "id": "27ff6baa",
   "metadata": {},
   "outputs": [
    {
     "data": {
      "text/html": [
       "<table border='1'>\n",
       "<tr><th>database</th><th>tableName</th><th>isTemporary</th></tr>\n",
       "<tr><td>data_analyst</td><td>customers</td><td>false</td></tr>\n",
       "<tr><td>data_analyst</td><td>loans_delinq</td><td>false</td></tr>\n",
       "<tr><td>data_analyst</td><td>loans_enq</td><td>false</td></tr>\n",
       "<tr><td>data_analyst</td><td>loans_repayments</td><td>false</td></tr>\n",
       "</table>\n"
      ],
      "text/plain": [
       "+------------+----------------+-----------+\n",
       "|    database|       tableName|isTemporary|\n",
       "+------------+----------------+-----------+\n",
       "|data_analyst|       customers|      false|\n",
       "|data_analyst|    loans_delinq|      false|\n",
       "|data_analyst|       loans_enq|      false|\n",
       "|data_analyst|loans_repayments|      false|\n",
       "+------------+----------------+-----------+"
      ]
     },
     "execution_count": 6,
     "metadata": {},
     "output_type": "execute_result"
    }
   ],
   "source": [
    "spark.sql(\"show tables\")"
   ]
  },
  {
   "cell_type": "code",
   "execution_count": null,
   "id": "94fd6af6",
   "metadata": {},
   "outputs": [],
   "source": []
  },
  {
   "cell_type": "code",
   "execution_count": 11,
   "id": "cd4928ea",
   "metadata": {},
   "outputs": [
    {
     "data": {
      "text/html": [
       "<table border='1'>\n",
       "<tr><th>member_id</th><th>emp_title</th><th>emp_length</th><th>home_ownership</th><th>annual_income</th><th>address_state</th><th>address_zipcode</th><th>address_country</th><th>grade</th><th>sub_grade</th><th>verification_status</th><th>total_high_credit_limit</th><th>application_type</th><th>join_annual_income</th><th>verification_status_joint</th><th>ingest_date</th></tr>\n",
       "<tr><td>45c47c49ef9346a50...</td><td>area sales manager</td><td>5</td><td>MORTGAGE</td><td>48000.0</td><td>NY</td><td>131xx</td><td>USA</td><td>C</td><td>C2</td><td>Source Verified</td><td>221587.0</td><td>Joint App</td><td>90000.0</td><td>Source Verified</td><td>2023-09-15 17:18:...</td></tr>\n",
       "<tr><td>ae8702f966762bdde...</td><td>Manager</td><td>7</td><td>MORTGAGE</td><td>105000.0</td><td>NJ</td><td>087xx</td><td>USA</td><td>C</td><td>C3</td><td>Source Verified</td><td>51300.0</td><td>Individual</td><td>null</td><td>null</td><td>2023-09-15 17:18:...</td></tr>\n",
       "<tr><td>bfdd1a23cef47a143...</td><td>Admitting</td><td>9</td><td>MORTGAGE</td><td>70000.0</td><td>OR</td><td>970xx</td><td>USA</td><td>B</td><td>B2</td><td>Source Verified</td><td>331700.0</td><td>Individual</td><td>null</td><td>null</td><td>2023-09-15 17:18:...</td></tr>\n",
       "</table>\n"
      ],
      "text/plain": [
       "+--------------------+-------------------+----------+--------------+-------------+-------------+---------------+---------------+-----+---------+-------------------+-----------------------+----------------+------------------+-------------------------+--------------------+\n",
       "|           member_id|          emp_title|emp_length|home_ownership|annual_income|address_state|address_zipcode|address_country|grade|sub_grade|verification_status|total_high_credit_limit|application_type|join_annual_income|verification_status_joint|         ingest_date|\n",
       "+--------------------+-------------------+----------+--------------+-------------+-------------+---------------+---------------+-----+---------+-------------------+-----------------------+----------------+------------------+-------------------------+--------------------+\n",
       "|de8d40bb549f3e676...|     Slot Club Lead|        10|          RENT|      42000.0|           CO|          800xx|            USA|    A|       A5|    Source Verified|                19200.0|      Individual|              null|                     null|2023-09-15 17:18:...|\n",
       "|cb2bfe6ba8d8040ea...|Development Manager|         1|      MORTGAGE|     120000.0|           NJ|          080xx|            USA|    B|       B2|           Verified|               521247.0|      Individual|              null|                     null|2023-09-15 17:18:...|\n",
       "|fd6cd0f257e376951...|         Chef/Baker|         5|          RENT|      25000.0|           GA|          310xx|            USA|    E|       E2|    Source Verified|                18200.0|      Individual|              null|                     null|2023-09-15 17:18:...|\n",
       "+--------------------+-------------------+----------+--------------+-------------+-------------+---------------+---------------+-----+---------+-------------------+-----------------------+----------------+------------------+-------------------------+--------------------+"
      ]
     },
     "execution_count": 11,
     "metadata": {},
     "output_type": "execute_result"
    }
   ],
   "source": [
    "spark.sql(\"select * from customers limit 3\")"
   ]
  },
  {
   "cell_type": "code",
   "execution_count": 10,
   "id": "25bafe4d",
   "metadata": {},
   "outputs": [
    {
     "data": {
      "text/html": [
       "<table border='1'>\n",
       "<tr><th>member_id</th><th>delinq_2yrs</th><th>delinq_amnt</th><th>mths_since_last_delinq</th></tr>\n",
       "<tr><td>9cb79aa7323e81be1...</td><td>2</td><td>0.0</td><td>0</td></tr>\n",
       "<tr><td>aac68850fdac09fd0...</td><td>1</td><td>0.0</td><td>0</td></tr>\n",
       "<tr><td>c89986155a070db2e...</td><td>1</td><td>0.0</td><td>15</td></tr>\n",
       "</table>\n"
      ],
      "text/plain": [
       "+--------------------+-----------+-----------+----------------------+\n",
       "|           member_id|delinq_2yrs|delinq_amnt|mths_since_last_delinq|\n",
       "+--------------------+-----------+-----------+----------------------+\n",
       "|9cb79aa7323e81be1...|          2|        0.0|                     0|\n",
       "|aac68850fdac09fd0...|          1|        0.0|                     0|\n",
       "|c89986155a070db2e...|          1|        0.0|                    15|\n",
       "+--------------------+-----------+-----------+----------------------+"
      ]
     },
     "execution_count": 10,
     "metadata": {},
     "output_type": "execute_result"
    }
   ],
   "source": [
    "spark.sql(\"select * from loans_delinq limit 3\")"
   ]
  },
  {
   "cell_type": "code",
   "execution_count": 12,
   "id": "b2230540",
   "metadata": {},
   "outputs": [
    {
     "data": {
      "text/html": [
       "<table border='1'>\n",
       "<tr><th>member_id</th><th>pub_rec</th><th>pub_rec_bankruptcies</th><th>inq_last_6mths</th></tr>\n",
       "<tr><td>673da0da820de70f9...</td><td>0</td><td>0</td><td>1</td></tr>\n",
       "<tr><td>f5725a82fea842f9b...</td><td>0</td><td>0</td><td>2</td></tr>\n",
       "<tr><td>0e697722917e34328...</td><td>0</td><td>0</td><td>2</td></tr>\n",
       "</table>\n"
      ],
      "text/plain": [
       "+--------------------+-------+--------------------+--------------+\n",
       "|           member_id|pub_rec|pub_rec_bankruptcies|inq_last_6mths|\n",
       "+--------------------+-------+--------------------+--------------+\n",
       "|673da0da820de70f9...|      0|                   0|             1|\n",
       "|f5725a82fea842f9b...|      0|                   0|             2|\n",
       "|0e697722917e34328...|      0|                   0|             2|\n",
       "+--------------------+-------+--------------------+--------------+"
      ]
     },
     "execution_count": 12,
     "metadata": {},
     "output_type": "execute_result"
    }
   ],
   "source": [
    "spark.sql(\"select * from loans_enq limit 3\")"
   ]
  },
  {
   "cell_type": "code",
   "execution_count": 13,
   "id": "76ad26d0",
   "metadata": {},
   "outputs": [
    {
     "data": {
      "text/html": [
       "<table border='1'>\n",
       "<tr><th>loan_id</th><th>total_principal_received</th><th>total_interest_received</th><th>total_late_fee_received</th><th>total_payment_received</th><th>last_payment_amount</th><th>last_payment_date</th><th>next_payment_date</th><th>ingest_date</th></tr>\n",
       "<tr><td>28674390</td><td>7884.28</td><td>5178.41</td><td>0.0</td><td>14329.62</td><td>482.23</td><td>Nov-2016</td><td>null</td><td>2023-09-19 05:25:...</td></tr>\n",
       "<tr><td>28563513</td><td>9000.0</td><td>955.61</td><td>0.0</td><td>9955.61</td><td>6420.29</td><td>Nov-2015</td><td>null</td><td>2023-09-19 05:25:...</td></tr>\n",
       "<tr><td>28694706</td><td>22125.0</td><td>751.39</td><td>0.0</td><td>22876.39</td><td>22073.85</td><td>Dec-2014</td><td>null</td><td>2023-09-19 05:25:...</td></tr>\n",
       "</table>\n"
      ],
      "text/plain": [
       "+---------+------------------------+-----------------------+-----------------------+----------------------+-------------------+-----------------+-----------------+--------------------+\n",
       "|  loan_id|total_principal_received|total_interest_received|total_late_fee_received|total_payment_received|last_payment_amount|last_payment_date|next_payment_date|         ingest_date|\n",
       "+---------+------------------------+-----------------------+-----------------------+----------------------+-------------------+-----------------+-----------------+--------------------+\n",
       "|141581221|                 1055.81|                 2591.7|                    0.0|               3647.51|             709.23|         Mar-2019|         Apr-2019|2023-09-19 05:25:...|\n",
       "|141506948|                 1252.75|                 306.04|                    0.0|               1558.79|             312.63|         Mar-2019|         Apr-2019|2023-09-19 05:25:...|\n",
       "|141357400|                  626.37|                 354.96|                    0.0|                981.33|             197.27|         Mar-2019|         Apr-2019|2023-09-19 05:25:...|\n",
       "+---------+------------------------+-----------------------+-----------------------+----------------------+-------------------+-----------------+-----------------+--------------------+"
      ]
     },
     "execution_count": 13,
     "metadata": {},
     "output_type": "execute_result"
    }
   ],
   "source": [
    "spark.sql(\"select * from loans_repayments limit 3\")"
   ]
  },
  {
   "cell_type": "code",
   "execution_count": 22,
   "id": "132625c5",
   "metadata": {},
   "outputs": [
    {
     "data": {
      "text/html": [
       "<table border='1'>\n",
       "<tr><th></th></tr>\n",
       "</table>\n"
      ],
      "text/plain": [
       "++\n",
       "||\n",
       "++\n",
       "++"
      ]
     },
     "execution_count": 22,
     "metadata": {},
     "output_type": "execute_result"
    }
   ],
   "source": [
    "spark.sql(\"\"\"create Or Replace view final as \n",
    "select\n",
    "    c.member_id,\n",
    "    c.emp_title,\n",
    "    c.emp_length,\n",
    "    c.home_ownership,\n",
    "    c.annual_income,\n",
    "    c.address_state,\n",
    "    c.address_zipcode,\n",
    "    c.address_country,\n",
    "    c.grade,\n",
    "    c.sub_grade,\n",
    "    c.verification_status,\n",
    "    c.total_high_credit_limit,\n",
    "    c.application_type,\n",
    "    c.join_annual_income,\n",
    "    c.verification_status_joint,\n",
    "    c.ingest_date AS customer_ingest_date,\n",
    "    l1.member_id as deli,\n",
    "    l2.member_id as loan_del,\n",
    "    l1.delinq_2yrs,\n",
    "    l1.delinq_amnt,\n",
    "    l1.mths_since_last_delinq,\n",
    "    l2.pub_rec,\n",
    "    l2.pub_rec_bankruptcies,\n",
    "    l2.inq_last_6mths\n",
    "    \n",
    "    from customers as c left join loans_delinq as l1 on c.member_id = l1.member_id \n",
    "    left join loans_enq as l2 on l1.member_id = l2.member_id \n",
    "\n",
    "\"\"\")"
   ]
  },
  {
   "cell_type": "code",
   "execution_count": 24,
   "id": "7781b5b7",
   "metadata": {},
   "outputs": [
    {
     "data": {
      "text/html": [
       "<table border='1'>\n",
       "<tr><th>member_id</th><th>emp_title</th><th>emp_length</th><th>home_ownership</th><th>annual_income</th><th>address_state</th><th>address_zipcode</th><th>address_country</th><th>grade</th><th>sub_grade</th><th>verification_status</th><th>total_high_credit_limit</th><th>application_type</th><th>join_annual_income</th><th>verification_status_joint</th><th>customer_ingest_date</th><th>deli</th><th>loan_del</th><th>delinq_2yrs</th><th>delinq_amnt</th><th>mths_since_last_delinq</th><th>pub_rec</th><th>pub_rec_bankruptcies</th><th>inq_last_6mths</th></tr>\n",
       "<tr><td>000c8875b71a6b47c...</td><td>Director of Gvt O...</td><td>1</td><td>MORTGAGE</td><td>100000.0</td><td>CA</td><td>920xx</td><td>USA</td><td>A</td><td>A4</td><td>Not Verified</td><td>761500.0</td><td>Individual</td><td>null</td><td>null</td><td>2023-09-15 17:18:...</td><td>000c8875b71a6b47c...</td><td>000c8875b71a6b47c...</td><td>1</td><td>0.0</td><td>0</td><td>0</td><td>0</td><td>0</td></tr>\n",
       "<tr><td>003769d7f54c7859e...</td><td>Trainer</td><td>10</td><td>MORTGAGE</td><td>35000.0</td><td>NC</td><td>282xx</td><td>USA</td><td>E</td><td>E1</td><td>Verified</td><td>184961.0</td><td>Individual</td><td>null</td><td>null</td><td>2023-09-15 17:18:...</td><td>003769d7f54c7859e...</td><td>003769d7f54c7859e...</td><td>1</td><td>0.0</td><td>0</td><td>0</td><td>0</td><td>0</td></tr>\n",
       "<tr><td>003e1e6cbd2920bbb...</td><td>Operations Superv...</td><td>9</td><td>MORTGAGE</td><td>92000.0</td><td>LA</td><td>705xx</td><td>USA</td><td>A</td><td>A5</td><td>Source Verified</td><td>375806.0</td><td>Individual</td><td>null</td><td>null</td><td>2023-09-15 17:18:...</td><td>003e1e6cbd2920bbb...</td><td>003e1e6cbd2920bbb...</td><td>1</td><td>0.0</td><td>0</td><td>1</td><td>1</td><td>0</td></tr>\n",
       "<tr><td>004017b21bd4d6271...</td><td>Regional Rehab Di...</td><td>9</td><td>MORTGAGE</td><td>113000.0</td><td>NC</td><td>276xx</td><td>USA</td><td>C</td><td>C1</td><td>Not Verified</td><td>120587.0</td><td>Individual</td><td>null</td><td>null</td><td>2023-09-15 17:18:...</td><td>004017b21bd4d6271...</td><td>004017b21bd4d6271...</td><td>6</td><td>0.0</td><td>15</td><td>0</td><td>0</td><td>0</td></tr>\n",
       "<tr><td>005b4c3db3fce07dc...</td><td>office manager</td><td>9</td><td>MORTGAGE</td><td>61000.0</td><td>FL</td><td>334xx</td><td>USA</td><td>B</td><td>B5</td><td>Source Verified</td><td>28386.0</td><td>Individual</td><td>null</td><td>null</td><td>2023-09-15 17:18:...</td><td>005b4c3db3fce07dc...</td><td>005b4c3db3fce07dc...</td><td>1</td><td>0.0</td><td>0</td><td>1</td><td>0</td><td>1</td></tr>\n",
       "<tr><td>00710707c563c2119...</td><td>owner</td><td>3</td><td>MORTGAGE</td><td>109000.0</td><td>FL</td><td>324xx</td><td>USA</td><td>B</td><td>B5</td><td>Source Verified</td><td>356897.0</td><td>Individual</td><td>null</td><td>null</td><td>2023-09-15 17:18:...</td><td>00710707c563c2119...</td><td>00710707c563c2119...</td><td>1</td><td>0.0</td><td>0</td><td>0</td><td>0</td><td>0</td></tr>\n",
       "<tr><td>007da79904f69970d...</td><td>Senior Agile Coach</td><td>1</td><td>RENT</td><td>195000.0</td><td>CA</td><td>950xx</td><td>USA</td><td>A</td><td>A1</td><td>Verified</td><td>93098.0</td><td>Individual</td><td>null</td><td>null</td><td>2023-09-15 17:18:...</td><td>007da79904f69970d...</td><td>007da79904f69970d...</td><td>1</td><td>0.0</td><td>0</td><td>0</td><td>0</td><td>0</td></tr>\n",
       "<tr><td>00f435a80d0440ece...</td><td>Security</td><td>1</td><td>MORTGAGE</td><td>200000.0</td><td>NY</td><td>109xx</td><td>USA</td><td>C</td><td>C2</td><td>Source Verified</td><td>441644.0</td><td>Individual</td><td>null</td><td>null</td><td>2023-09-15 17:18:...</td><td>00f435a80d0440ece...</td><td>00f435a80d0440ece...</td><td>3</td><td>0.0</td><td>0</td><td>0</td><td>0</td><td>0</td></tr>\n",
       "<tr><td>00fc2ae3ffb1213e4...</td><td>Service Tech.</td><td>10</td><td>MORTGAGE</td><td>44000.0</td><td>IL</td><td>600xx</td><td>USA</td><td>C</td><td>C3</td><td>Source Verified</td><td>165788.0</td><td>Individual</td><td>null</td><td>null</td><td>2023-09-15 17:18:...</td><td>00fc2ae3ffb1213e4...</td><td>00fc2ae3ffb1213e4...</td><td>2</td><td>0.0</td><td>0</td><td>0</td><td>0</td><td>0</td></tr>\n",
       "<tr><td>00fc8144cb210ba8c...</td><td>Operations manager</td><td>3</td><td>MORTGAGE</td><td>64000.0</td><td>VA</td><td>233xx</td><td>USA</td><td>C</td><td>C1</td><td>Source Verified</td><td>265491.0</td><td>Individual</td><td>null</td><td>null</td><td>2023-09-15 17:18:...</td><td>00fc8144cb210ba8c...</td><td>00fc8144cb210ba8c...</td><td>1</td><td>0.0</td><td>0</td><td>1</td><td>1</td><td>0</td></tr>\n",
       "<tr><td>01121d7f3f6f27495...</td><td>Director of Integ...</td><td>3</td><td>MORTGAGE</td><td>84000.0</td><td>CO</td><td>804xx</td><td>USA</td><td>B</td><td>B2</td><td>Source Verified</td><td>330992.0</td><td>Individual</td><td>null</td><td>null</td><td>2023-09-15 17:18:...</td><td>01121d7f3f6f27495...</td><td>01121d7f3f6f27495...</td><td>2</td><td>0.0</td><td>0</td><td>0</td><td>0</td><td>0</td></tr>\n",
       "<tr><td>0112e15adaf0c0029...</td><td>Cell Technician</td><td>5</td><td>MORTGAGE</td><td>75000.0</td><td>MN</td><td>550xx</td><td>USA</td><td>C</td><td>C3</td><td>Source Verified</td><td>52813.0</td><td>Individual</td><td>null</td><td>null</td><td>2023-09-15 17:18:...</td><td>0112e15adaf0c0029...</td><td>0112e15adaf0c0029...</td><td>1</td><td>0.0</td><td>0</td><td>0</td><td>0</td><td>0</td></tr>\n",
       "<tr><td>017ce564dc0d6f975...</td><td>food service aide 1</td><td>1</td><td>MORTGAGE</td><td>40700.0</td><td>MD</td><td>206xx</td><td>USA</td><td>A</td><td>A5</td><td>Source Verified</td><td>565255.0</td><td>Joint App</td><td>112700.0</td><td>Source Verified</td><td>2023-09-15 17:18:...</td><td>017ce564dc0d6f975...</td><td>017ce564dc0d6f975...</td><td>2</td><td>0.0</td><td>0</td><td>0</td><td>0</td><td>2</td></tr>\n",
       "<tr><td>017d1fd3d6169ee29...</td><td>Driver Equipment ...</td><td>10</td><td>MORTGAGE</td><td>58000.0</td><td>CT</td><td>060xx</td><td>USA</td><td>B</td><td>B3</td><td>Not Verified</td><td>174550.0</td><td>Individual</td><td>null</td><td>null</td><td>2023-09-15 17:18:...</td><td>017d1fd3d6169ee29...</td><td>017d1fd3d6169ee29...</td><td>0</td><td>0.0</td><td>44</td><td>1</td><td>1</td><td>1</td></tr>\n",
       "<tr><td>018a82c47453bf02d...</td><td>AGM</td><td>9</td><td>RENT</td><td>60000.0</td><td>GA</td><td>300xx</td><td>USA</td><td>A</td><td>A2</td><td>Not Verified</td><td>56147.0</td><td>Individual</td><td>null</td><td>null</td><td>2023-09-15 17:18:...</td><td>018a82c47453bf02d...</td><td>018a82c47453bf02d...</td><td>0</td><td>0.0</td><td>15</td><td>1</td><td>0</td><td>0</td></tr>\n",
       "<tr><td>018b0f369c2d63913...</td><td>us postal service</td><td>10</td><td>MORTGAGE</td><td>93504.0</td><td>OR</td><td>970xx</td><td>USA</td><td>D</td><td>D1</td><td>Source Verified</td><td>357603.0</td><td>Individual</td><td>null</td><td>null</td><td>2023-09-15 17:18:...</td><td>018b0f369c2d63913...</td><td>018b0f369c2d63913...</td><td>0</td><td>0.0</td><td>45</td><td>0</td><td>0</td><td>3</td></tr>\n",
       "<tr><td>01b2223757c3b62e7...</td><td>null</td><td>6</td><td>MORTGAGE</td><td>40000.0</td><td>AL</td><td>357xx</td><td>USA</td><td>D</td><td>D1</td><td>Verified</td><td>89300.0</td><td>Individual</td><td>null</td><td>null</td><td>2023-09-15 17:18:...</td><td>01b2223757c3b62e7...</td><td>01b2223757c3b62e7...</td><td>1</td><td>0.0</td><td>0</td><td>0</td><td>0</td><td>2</td></tr>\n",
       "<tr><td>01b2223757c3b62e7...</td><td>null</td><td>6</td><td>MORTGAGE</td><td>40000.0</td><td>AL</td><td>357xx</td><td>USA</td><td>D</td><td>D1</td><td>Verified</td><td>89300.0</td><td>Individual</td><td>null</td><td>null</td><td>2023-09-15 17:18:...</td><td>01b2223757c3b62e7...</td><td>01b2223757c3b62e7...</td><td>1</td><td>0.0</td><td>0</td><td>0</td><td>0</td><td>6</td></tr>\n",
       "<tr><td>01b2223757c3b62e7...</td><td>null</td><td>6</td><td>MORTGAGE</td><td>40000.0</td><td>AL</td><td>357xx</td><td>USA</td><td>D</td><td>D1</td><td>Verified</td><td>239267.0</td><td>Individual</td><td>null</td><td>null</td><td>2023-09-15 17:18:...</td><td>01b2223757c3b62e7...</td><td>01b2223757c3b62e7...</td><td>1</td><td>0.0</td><td>0</td><td>0</td><td>0</td><td>2</td></tr>\n",
       "<tr><td>01b2223757c3b62e7...</td><td>null</td><td>6</td><td>MORTGAGE</td><td>40000.0</td><td>AL</td><td>357xx</td><td>USA</td><td>D</td><td>D1</td><td>Verified</td><td>239267.0</td><td>Individual</td><td>null</td><td>null</td><td>2023-09-15 17:18:...</td><td>01b2223757c3b62e7...</td><td>01b2223757c3b62e7...</td><td>1</td><td>0.0</td><td>0</td><td>0</td><td>0</td><td>6</td></tr>\n",
       "</table>\n",
       "only showing top 20 rows\n"
      ],
      "text/plain": [
       "+--------------------+--------------------+----------+--------------+-------------+-------------+---------------+---------------+-----+---------+-------------------+-----------------------+----------------+------------------+-------------------------+--------------------+--------------------+--------------------+-----------+-----------+----------------------+-------+--------------------+--------------+\n",
       "|           member_id|           emp_title|emp_length|home_ownership|annual_income|address_state|address_zipcode|address_country|grade|sub_grade|verification_status|total_high_credit_limit|application_type|join_annual_income|verification_status_joint|customer_ingest_date|                deli|            loan_del|delinq_2yrs|delinq_amnt|mths_since_last_delinq|pub_rec|pub_rec_bankruptcies|inq_last_6mths|\n",
       "+--------------------+--------------------+----------+--------------+-------------+-------------+---------------+---------------+-----+---------+-------------------+-----------------------+----------------+------------------+-------------------------+--------------------+--------------------+--------------------+-----------+-----------+----------------------+-------+--------------------+--------------+\n",
       "|000c8875b71a6b47c...|Director of Gvt O...|         1|      MORTGAGE|     100000.0|           CA|          920xx|            USA|    A|       A4|       Not Verified|               761500.0|      Individual|              null|                     null|2023-09-15 17:18:...|000c8875b71a6b47c...|000c8875b71a6b47c...|          1|        0.0|                     0|      0|                   0|             0|\n",
       "|003769d7f54c7859e...|             Trainer|        10|      MORTGAGE|      35000.0|           NC|          282xx|            USA|    E|       E1|           Verified|               184961.0|      Individual|              null|                     null|2023-09-15 17:18:...|003769d7f54c7859e...|003769d7f54c7859e...|          1|        0.0|                     0|      0|                   0|             0|\n",
       "|003e1e6cbd2920bbb...|Operations Superv...|         9|      MORTGAGE|      92000.0|           LA|          705xx|            USA|    A|       A5|    Source Verified|               375806.0|      Individual|              null|                     null|2023-09-15 17:18:...|003e1e6cbd2920bbb...|003e1e6cbd2920bbb...|          1|        0.0|                     0|      1|                   1|             0|\n",
       "|004017b21bd4d6271...|Regional Rehab Di...|         9|      MORTGAGE|     113000.0|           NC|          276xx|            USA|    C|       C1|       Not Verified|               120587.0|      Individual|              null|                     null|2023-09-15 17:18:...|004017b21bd4d6271...|004017b21bd4d6271...|          6|        0.0|                    15|      0|                   0|             0|\n",
       "|005b4c3db3fce07dc...|      office manager|         9|      MORTGAGE|      61000.0|           FL|          334xx|            USA|    B|       B5|    Source Verified|                28386.0|      Individual|              null|                     null|2023-09-15 17:18:...|005b4c3db3fce07dc...|005b4c3db3fce07dc...|          1|        0.0|                     0|      1|                   0|             1|\n",
       "|00710707c563c2119...|               owner|         3|      MORTGAGE|     109000.0|           FL|          324xx|            USA|    B|       B5|    Source Verified|               356897.0|      Individual|              null|                     null|2023-09-15 17:18:...|00710707c563c2119...|00710707c563c2119...|          1|        0.0|                     0|      0|                   0|             0|\n",
       "|007da79904f69970d...|  Senior Agile Coach|         1|          RENT|     195000.0|           CA|          950xx|            USA|    A|       A1|           Verified|                93098.0|      Individual|              null|                     null|2023-09-15 17:18:...|007da79904f69970d...|007da79904f69970d...|          1|        0.0|                     0|      0|                   0|             0|\n",
       "|00f435a80d0440ece...|            Security|         1|      MORTGAGE|     200000.0|           NY|          109xx|            USA|    C|       C2|    Source Verified|               441644.0|      Individual|              null|                     null|2023-09-15 17:18:...|00f435a80d0440ece...|00f435a80d0440ece...|          3|        0.0|                     0|      0|                   0|             0|\n",
       "|00fc2ae3ffb1213e4...|       Service Tech.|        10|      MORTGAGE|      44000.0|           IL|          600xx|            USA|    C|       C3|    Source Verified|               165788.0|      Individual|              null|                     null|2023-09-15 17:18:...|00fc2ae3ffb1213e4...|00fc2ae3ffb1213e4...|          2|        0.0|                     0|      0|                   0|             0|\n",
       "|00fc8144cb210ba8c...|  Operations manager|         3|      MORTGAGE|      64000.0|           VA|          233xx|            USA|    C|       C1|    Source Verified|               265491.0|      Individual|              null|                     null|2023-09-15 17:18:...|00fc8144cb210ba8c...|00fc8144cb210ba8c...|          1|        0.0|                     0|      1|                   1|             0|\n",
       "|01121d7f3f6f27495...|Director of Integ...|         3|      MORTGAGE|      84000.0|           CO|          804xx|            USA|    B|       B2|    Source Verified|               330992.0|      Individual|              null|                     null|2023-09-15 17:18:...|01121d7f3f6f27495...|01121d7f3f6f27495...|          2|        0.0|                     0|      0|                   0|             0|\n",
       "|0112e15adaf0c0029...|     Cell Technician|         5|      MORTGAGE|      75000.0|           MN|          550xx|            USA|    C|       C3|    Source Verified|                52813.0|      Individual|              null|                     null|2023-09-15 17:18:...|0112e15adaf0c0029...|0112e15adaf0c0029...|          1|        0.0|                     0|      0|                   0|             0|\n",
       "|017ce564dc0d6f975...| food service aide 1|         1|      MORTGAGE|      40700.0|           MD|          206xx|            USA|    A|       A5|    Source Verified|               565255.0|       Joint App|          112700.0|          Source Verified|2023-09-15 17:18:...|017ce564dc0d6f975...|017ce564dc0d6f975...|          2|        0.0|                     0|      0|                   0|             2|\n",
       "|017d1fd3d6169ee29...|Driver Equipment ...|        10|      MORTGAGE|      58000.0|           CT|          060xx|            USA|    B|       B3|       Not Verified|               174550.0|      Individual|              null|                     null|2023-09-15 17:18:...|017d1fd3d6169ee29...|017d1fd3d6169ee29...|          0|        0.0|                    44|      1|                   1|             1|\n",
       "|018a82c47453bf02d...|                 AGM|         9|          RENT|      60000.0|           GA|          300xx|            USA|    A|       A2|       Not Verified|                56147.0|      Individual|              null|                     null|2023-09-15 17:18:...|018a82c47453bf02d...|018a82c47453bf02d...|          0|        0.0|                    15|      1|                   0|             0|\n",
       "|018b0f369c2d63913...|   us postal service|        10|      MORTGAGE|      93504.0|           OR|          970xx|            USA|    D|       D1|    Source Verified|               357603.0|      Individual|              null|                     null|2023-09-15 17:18:...|018b0f369c2d63913...|018b0f369c2d63913...|          0|        0.0|                    45|      0|                   0|             3|\n",
       "|01b2223757c3b62e7...|                null|         6|      MORTGAGE|      40000.0|           AL|          357xx|            USA|    D|       D1|           Verified|               239267.0|      Individual|              null|                     null|2023-09-15 17:18:...|01b2223757c3b62e7...|01b2223757c3b62e7...|          1|        0.0|                     0|      0|                   0|             2|\n",
       "|01b2223757c3b62e7...|                null|         6|      MORTGAGE|      40000.0|           AL|          357xx|            USA|    D|       D1|           Verified|               239267.0|      Individual|              null|                     null|2023-09-15 17:18:...|01b2223757c3b62e7...|01b2223757c3b62e7...|          1|        0.0|                     0|      0|                   0|             6|\n",
       "|01b2223757c3b62e7...|                null|         6|      MORTGAGE|      40000.0|           AL|          357xx|            USA|    D|       D1|           Verified|                89300.0|      Individual|              null|                     null|2023-09-15 17:18:...|01b2223757c3b62e7...|01b2223757c3b62e7...|          1|        0.0|                     0|      0|                   0|             2|\n",
       "|01b2223757c3b62e7...|                null|         6|      MORTGAGE|      40000.0|           AL|          357xx|            USA|    D|       D1|           Verified|                89300.0|      Individual|              null|                     null|2023-09-15 17:18:...|01b2223757c3b62e7...|01b2223757c3b62e7...|          1|        0.0|                     0|      0|                   0|             6|\n",
       "+--------------------+--------------------+----------+--------------+-------------+-------------+---------------+---------------+-----+---------+-------------------+-----------------------+----------------+------------------+-------------------------+--------------------+--------------------+--------------------+-----------+-----------+----------------------+-------+--------------------+--------------+\n",
       "only showing top 20 rows"
      ]
     },
     "execution_count": 24,
     "metadata": {},
     "output_type": "execute_result"
    }
   ],
   "source": [
    "spark.sql(\"select * from final\")"
   ]
  },
  {
   "cell_type": "code",
   "execution_count": 23,
   "id": "21eaab8a",
   "metadata": {},
   "outputs": [
    {
     "data": {
      "text/html": [
       "<table border='1'>\n",
       "<tr><th>database</th><th>tableName</th><th>isTemporary</th></tr>\n",
       "<tr><td>data_analyst</td><td>customers</td><td>false</td></tr>\n",
       "<tr><td>data_analyst</td><td>final</td><td>false</td></tr>\n",
       "<tr><td>data_analyst</td><td>loans_delinq</td><td>false</td></tr>\n",
       "<tr><td>data_analyst</td><td>loans_enq</td><td>false</td></tr>\n",
       "<tr><td>data_analyst</td><td>loans_repayments</td><td>false</td></tr>\n",
       "</table>\n"
      ],
      "text/plain": [
       "+------------+----------------+-----------+\n",
       "|    database|       tableName|isTemporary|\n",
       "+------------+----------------+-----------+\n",
       "|data_analyst|       customers|      false|\n",
       "|data_analyst|           final|      false|\n",
       "|data_analyst|    loans_delinq|      false|\n",
       "|data_analyst|       loans_enq|      false|\n",
       "|data_analyst|loans_repayments|      false|\n",
       "+------------+----------------+-----------+"
      ]
     },
     "execution_count": 23,
     "metadata": {},
     "output_type": "execute_result"
    }
   ],
   "source": [
    "spark.sql(\"show tables\")"
   ]
  },
  {
   "cell_type": "code",
   "execution_count": 25,
   "id": "e5f0dca4",
   "metadata": {},
   "outputs": [
    {
     "data": {
      "text/html": [
       "<table border='1'>\n",
       "<tr><th></th></tr>\n",
       "</table>\n"
      ],
      "text/plain": [
       "++\n",
       "||\n",
       "++\n",
       "++"
      ]
     },
     "execution_count": 25,
     "metadata": {},
     "output_type": "execute_result"
    }
   ],
   "source": [
    "spark.sql(\"\"\"create table final1 as \n",
    "select\n",
    "    c.member_id,\n",
    "    c.emp_title,\n",
    "    c.emp_length,\n",
    "    c.home_ownership,\n",
    "    c.annual_income,\n",
    "    c.address_state,\n",
    "    c.address_zipcode,\n",
    "    c.address_country,\n",
    "    c.grade,\n",
    "    c.sub_grade,\n",
    "    c.verification_status,\n",
    "    c.total_high_credit_limit,\n",
    "    c.application_type,\n",
    "    c.join_annual_income,\n",
    "    c.verification_status_joint,\n",
    "    c.ingest_date AS customer_ingest_date,\n",
    "    l1.member_id as deli,\n",
    "    l2.member_id as loan_del,\n",
    "    l1.delinq_2yrs,\n",
    "    l1.delinq_amnt,\n",
    "    l1.mths_since_last_delinq,\n",
    "    l2.pub_rec,\n",
    "    l2.pub_rec_bankruptcies,\n",
    "    l2.inq_last_6mths\n",
    "    \n",
    "    from customers as c left join loans_delinq as l1 on c.member_id = l1.member_id \n",
    "    left join loans_enq as l2 on l1.member_id = l2.member_id \n",
    "\n",
    "\"\"\")"
   ]
  },
  {
   "cell_type": "code",
   "execution_count": null,
   "id": "d0051231",
   "metadata": {},
   "outputs": [],
   "source": [
    "spark.sql(\"selec\")"
   ]
  }
 ],
 "metadata": {
  "kernelspec": {
   "display_name": "Pyspark 3",
   "language": "python",
   "name": "pyspark3"
  },
  "language_info": {
   "codemirror_mode": {
    "name": "ipython",
    "version": 3
   },
   "file_extension": ".py",
   "mimetype": "text/x-python",
   "name": "python",
   "nbconvert_exporter": "python",
   "pygments_lexer": "ipython3",
   "version": "3.6.12"
  }
 },
 "nbformat": 4,
 "nbformat_minor": 5
}
