{
 "cells": [
  {
   "cell_type": "code",
   "execution_count": 50,
   "id": "ef55fb5a",
   "metadata": {},
   "outputs": [],
   "source": [
    "from pyspark.sql import SparkSession "
   ]
  },
  {
   "cell_type": "code",
   "execution_count": 51,
   "id": "467fdd8b",
   "metadata": {},
   "outputs": [],
   "source": [
    "spark = SparkSession .\\\n",
    "builder .\\\n",
    "appName('spark') .\\\n",
    "config(\"spark.sql.waerhouse.dir\",\"/user/itv016843/warehouse\") .\\\n",
    "enableHiveSupport() .\\\n",
    "master(\"yarn\") .\\\n",
    "getOrCreate()"
   ]
  },
  {
   "cell_type": "code",
   "execution_count": 52,
   "id": "2b37d4ae",
   "metadata": {},
   "outputs": [
    {
     "data": {
      "text/html": [
       "\n",
       "            <div>\n",
       "                <p><b>SparkSession - hive</b></p>\n",
       "                \n",
       "        <div>\n",
       "            <p><b>SparkContext</b></p>\n",
       "\n",
       "            <p><a href=\"http://g02.itversity.com:4040\">Spark UI</a></p>\n",
       "\n",
       "            <dl>\n",
       "              <dt>Version</dt>\n",
       "                <dd><code>v3.1.2</code></dd>\n",
       "              <dt>Master</dt>\n",
       "                <dd><code>yarn</code></dd>\n",
       "              <dt>AppName</dt>\n",
       "                <dd><code>spark</code></dd>\n",
       "            </dl>\n",
       "        </div>\n",
       "        \n",
       "            </div>\n",
       "        "
      ],
      "text/plain": [
       "<pyspark.sql.session.SparkSession at 0x7f0dc8448710>"
      ]
     },
     "execution_count": 52,
     "metadata": {},
     "output_type": "execute_result"
    }
   ],
   "source": [
    "spark"
   ]
  },
  {
   "cell_type": "code",
   "execution_count": null,
   "id": "9758e58a",
   "metadata": {},
   "outputs": [],
   "source": []
  },
  {
   "cell_type": "code",
   "execution_count": 55,
   "id": "905e06be",
   "metadata": {},
   "outputs": [
    {
     "data": {
      "text/html": [
       "<table border='1'>\n",
       "<tr><th></th></tr>\n",
       "</table>\n"
      ],
      "text/plain": [
       "++\n",
       "||\n",
       "++\n",
       "++"
      ]
     },
     "execution_count": 55,
     "metadata": {},
     "output_type": "execute_result"
    }
   ],
   "source": [
    "spark.sql(\"use data_analyst\")"
   ]
  },
  {
   "cell_type": "code",
   "execution_count": 56,
   "id": "8fa9991f",
   "metadata": {},
   "outputs": [
    {
     "data": {
      "text/html": [
       "<table border='1'>\n",
       "<tr><th>database</th><th>tableName</th><th>isTemporary</th></tr>\n",
       "<tr><td>data_analyst</td><td>customers</td><td>false</td></tr>\n",
       "<tr><td>data_analyst</td><td>loans</td><td>false</td></tr>\n",
       "<tr><td>data_analyst</td><td>loans_defaulters_...</td><td>false</td></tr>\n",
       "<tr><td>data_analyst</td><td>loans_defaulters_...</td><td>false</td></tr>\n",
       "<tr><td>data_analyst</td><td>loans_repayments</td><td>false</td></tr>\n",
       "<tr><td>data_analyst</td><td>qa_data</td><td>false</td></tr>\n",
       "</table>\n"
      ],
      "text/plain": [
       "+------------+--------------------+-----------+\n",
       "|    database|           tableName|isTemporary|\n",
       "+------------+--------------------+-----------+\n",
       "|data_analyst|           customers|      false|\n",
       "|data_analyst|               loans|      false|\n",
       "|data_analyst|loans_defaulters_...|      false|\n",
       "|data_analyst|loans_defaulters_...|      false|\n",
       "|data_analyst|    loans_repayments|      false|\n",
       "|data_analyst|             qa_data|      false|\n",
       "+------------+--------------------+-----------+"
      ]
     },
     "execution_count": 56,
     "metadata": {},
     "output_type": "execute_result"
    }
   ],
   "source": [
    "spark.sql(\"show tables\")"
   ]
  },
  {
   "cell_type": "code",
   "execution_count": 57,
   "id": "afce4c89",
   "metadata": {},
   "outputs": [],
   "source": [
    "df2 = spark.sql(\"select member_id,count(*) as total from customers group by member_id having count(*) > 1 order by total desc\")"
   ]
  },
  {
   "cell_type": "code",
   "execution_count": 58,
   "id": "9cb4be4b",
   "metadata": {},
   "outputs": [],
   "source": [
    "df2.write \\\n",
    ".format(\"csv\") \\\n",
    ".mode(\"overwrite\") \\\n",
    ".option(\"header\",True) \\\n",
    ".option(\"path\",\"/user/itv016843/bad1\") \\\n",
    ".save()"
   ]
  },
  {
   "cell_type": "code",
   "execution_count": 59,
   "id": "ca552c89",
   "metadata": {},
   "outputs": [],
   "source": [
    "df3 = spark.sql(\"select member_id,count(*) as total from loans_defaulters_delinq group by member_id having count(*) > 1 order by total desc\")"
   ]
  },
  {
   "cell_type": "code",
   "execution_count": 60,
   "id": "d8233a98",
   "metadata": {},
   "outputs": [
    {
     "data": {
      "text/plain": [
       "173"
      ]
     },
     "execution_count": 60,
     "metadata": {},
     "output_type": "execute_result"
    }
   ],
   "source": [
    "df3.count()"
   ]
  },
  {
   "cell_type": "code",
   "execution_count": 61,
   "id": "b98626f1",
   "metadata": {},
   "outputs": [],
   "source": [
    "df3.write \\\n",
    ".format(\"csv\") \\\n",
    ".mode(\"overwrite\") \\\n",
    ".option(\"header\",True) \\\n",
    ".option(\"path\",\"/user/itv016843/bad2\") \\\n",
    ".save()"
   ]
  },
  {
   "cell_type": "code",
   "execution_count": 62,
   "id": "8a84374f",
   "metadata": {},
   "outputs": [],
   "source": [
    "df4 = spark.sql(\"select member_id,count(*) as total from loans_defaulters_records_enq group by member_id having count(*) > 1 order by total desc\")"
   ]
  },
  {
   "cell_type": "code",
   "execution_count": 64,
   "id": "62155316",
   "metadata": {},
   "outputs": [],
   "source": [
    "df4.write \\\n",
    ".format(\"csv\") \\\n",
    ".mode(\"overwrite\") \\\n",
    ".option(\"header\",True) \\\n",
    ".option(\"path\",\"/user/itv016843/bad3\") \\\n",
    ".save()"
   ]
  },
  {
   "cell_type": "code",
   "execution_count": 65,
   "id": "5e332e2d",
   "metadata": {},
   "outputs": [],
   "source": [
    "df5 = spark.read \\\n",
    ".format(\"csv\") \\\n",
    ".option(\"header\",True) \\\n",
    ".load(\"/user/itv016843/bad1\")\n"
   ]
  },
  {
   "cell_type": "code",
   "execution_count": 66,
   "id": "144242de",
   "metadata": {},
   "outputs": [],
   "source": [
    "df5.createOrReplaceTempView(\"bad1\")"
   ]
  },
  {
   "cell_type": "code",
   "execution_count": 67,
   "id": "8c7141ef",
   "metadata": {},
   "outputs": [],
   "source": [
    "df6 = spark.read \\\n",
    ".format(\"csv\") \\\n",
    ".option(\"header\",True) \\\n",
    ".load(\"/user/itv016843/bad2\")\n"
   ]
  },
  {
   "cell_type": "code",
   "execution_count": 68,
   "id": "e495b9dd",
   "metadata": {},
   "outputs": [],
   "source": [
    "df6.createOrReplaceTempView(\"bad2\")"
   ]
  },
  {
   "cell_type": "code",
   "execution_count": 69,
   "id": "5b4b68cd",
   "metadata": {},
   "outputs": [],
   "source": [
    "df7 = spark.read \\\n",
    ".format(\"csv\") \\\n",
    ".option(\"header\",True) \\\n",
    ".load(\"/user/itv016843/bad3\")"
   ]
  },
  {
   "cell_type": "code",
   "execution_count": 70,
   "id": "2952e768",
   "metadata": {},
   "outputs": [],
   "source": [
    "df7.createOrReplaceTempView(\"bad3\")"
   ]
  },
  {
   "cell_type": "code",
   "execution_count": 71,
   "id": "7f1ffac4",
   "metadata": {},
   "outputs": [
    {
     "data": {
      "text/html": [
       "<table border='1'>\n",
       "<tr><th>database</th><th>tableName</th><th>isTemporary</th></tr>\n",
       "<tr><td>data_analyst</td><td>customers</td><td>false</td></tr>\n",
       "<tr><td>data_analyst</td><td>loans</td><td>false</td></tr>\n",
       "<tr><td>data_analyst</td><td>loans_defaulters_...</td><td>false</td></tr>\n",
       "<tr><td>data_analyst</td><td>loans_defaulters_...</td><td>false</td></tr>\n",
       "<tr><td>data_analyst</td><td>loans_repayments</td><td>false</td></tr>\n",
       "<tr><td>data_analyst</td><td>qa_data</td><td>false</td></tr>\n",
       "<tr><td></td><td>bad1</td><td>true</td></tr>\n",
       "<tr><td></td><td>bad2</td><td>true</td></tr>\n",
       "<tr><td></td><td>bad3</td><td>true</td></tr>\n",
       "</table>\n"
      ],
      "text/plain": [
       "+------------+--------------------+-----------+\n",
       "|    database|           tableName|isTemporary|\n",
       "+------------+--------------------+-----------+\n",
       "|data_analyst|           customers|      false|\n",
       "|data_analyst|               loans|      false|\n",
       "|data_analyst|loans_defaulters_...|      false|\n",
       "|data_analyst|loans_defaulters_...|      false|\n",
       "|data_analyst|    loans_repayments|      false|\n",
       "|data_analyst|             qa_data|      false|\n",
       "|            |                bad1|       true|\n",
       "|            |                bad2|       true|\n",
       "|            |                bad3|       true|\n",
       "+------------+--------------------+-----------+"
      ]
     },
     "execution_count": 71,
     "metadata": {},
     "output_type": "execute_result"
    }
   ],
   "source": [
    "spark.sql(\"show tables\")"
   ]
  },
  {
   "cell_type": "code",
   "execution_count": 72,
   "id": "433f1b11",
   "metadata": {},
   "outputs": [],
   "source": [
    "df5 = df2.select(\"member_id\") \\\n",
    ".union(df3.select(\"member_id\")) \\\n",
    ".union(df4.select(\"member_id\"))"
   ]
  },
  {
   "cell_type": "code",
   "execution_count": 76,
   "id": "196f8fcc",
   "metadata": {},
   "outputs": [],
   "source": [
    "df6 = df5.distinct()"
   ]
  },
  {
   "cell_type": "code",
   "execution_count": 81,
   "id": "0ba98c93",
   "metadata": {},
   "outputs": [],
   "source": [
    "df6.write \\\n",
    ".format(\"csv\") \\\n",
    ".mode(\"overwrite\") \\\n",
    ".option(\"header\",True) \\\n",
    ".option(\"path\",\"/user/itv016843/bad_data\") \\\n",
    ".save()"
   ]
  },
  {
   "cell_type": "code",
   "execution_count": null,
   "id": "05344093",
   "metadata": {},
   "outputs": [],
   "source": []
  },
  {
   "cell_type": "code",
   "execution_count": 80,
   "id": "c3623895",
   "metadata": {},
   "outputs": [
    {
     "data": {
      "text/html": [
       "<table border='1'>\n",
       "<tr><th>database</th><th>tableName</th><th>isTemporary</th></tr>\n",
       "<tr><td>data_analyst</td><td>customers</td><td>false</td></tr>\n",
       "<tr><td>data_analyst</td><td>loans</td><td>false</td></tr>\n",
       "<tr><td>data_analyst</td><td>loans_defaulters_...</td><td>false</td></tr>\n",
       "<tr><td>data_analyst</td><td>loans_defaulters_...</td><td>false</td></tr>\n",
       "<tr><td>data_analyst</td><td>loans_repayments</td><td>false</td></tr>\n",
       "<tr><td>data_analyst</td><td>qa_data</td><td>false</td></tr>\n",
       "<tr><td></td><td>bad1</td><td>true</td></tr>\n",
       "<tr><td></td><td>bad2</td><td>true</td></tr>\n",
       "<tr><td></td><td>bad3</td><td>true</td></tr>\n",
       "</table>\n"
      ],
      "text/plain": [
       "+------------+--------------------+-----------+\n",
       "|    database|           tableName|isTemporary|\n",
       "+------------+--------------------+-----------+\n",
       "|data_analyst|           customers|      false|\n",
       "|data_analyst|               loans|      false|\n",
       "|data_analyst|loans_defaulters_...|      false|\n",
       "|data_analyst|loans_defaulters_...|      false|\n",
       "|data_analyst|    loans_repayments|      false|\n",
       "|data_analyst|             qa_data|      false|\n",
       "|            |                bad1|       true|\n",
       "|            |                bad2|       true|\n",
       "|            |                bad3|       true|\n",
       "+------------+--------------------+-----------+"
      ]
     },
     "execution_count": 80,
     "metadata": {},
     "output_type": "execute_result"
    }
   ],
   "source": [
    "spark.sql(\"show tables\")"
   ]
  },
  {
   "cell_type": "code",
   "execution_count": 82,
   "id": "710c75af",
   "metadata": {},
   "outputs": [],
   "source": [
    "bad = spark.read \\\n",
    ".format(\"csv\") \\\n",
    ".option(\"header\",True) \\\n",
    ".load(\"/user/itv016843/bad_data\")"
   ]
  },
  {
   "cell_type": "code",
   "execution_count": 90,
   "id": "e31ef7fc",
   "metadata": {},
   "outputs": [
    {
     "data": {
      "text/html": [
       "<table border='1'>\n",
       "<tr><th>member_id</th></tr>\n",
       "<tr><td>11099eff1a2ced61f...</td></tr>\n",
       "<tr><td>b0b069b23773292a8...</td></tr>\n",
       "<tr><td>2e6ad5a0aaaf31adb...</td></tr>\n",
       "<tr><td>793681798e3c70fb0...</td></tr>\n",
       "<tr><td>8347b69d3676e357a...</td></tr>\n",
       "</table>\n"
      ],
      "text/plain": [
       "+--------------------+\n",
       "|           member_id|\n",
       "+--------------------+\n",
       "|11099eff1a2ced61f...|\n",
       "|b0b069b23773292a8...|\n",
       "|2e6ad5a0aaaf31adb...|\n",
       "|793681798e3c70fb0...|\n",
       "|8347b69d3676e357a...|\n",
       "+--------------------+"
      ]
     },
     "execution_count": 90,
     "metadata": {},
     "output_type": "execute_result"
    }
   ],
   "source": [
    "bad.limit(5)"
   ]
  },
  {
   "cell_type": "code",
   "execution_count": 85,
   "id": "286acf3a",
   "metadata": {},
   "outputs": [],
   "source": [
    "bad.createOrReplaceTempView(\"badd\")"
   ]
  },
  {
   "cell_type": "code",
   "execution_count": 86,
   "id": "bb1db55d",
   "metadata": {},
   "outputs": [
    {
     "data": {
      "text/html": [
       "<table border='1'>\n",
       "<tr><th>database</th><th>tableName</th><th>isTemporary</th></tr>\n",
       "<tr><td>data_analyst</td><td>customers</td><td>false</td></tr>\n",
       "<tr><td>data_analyst</td><td>loans</td><td>false</td></tr>\n",
       "<tr><td>data_analyst</td><td>loans_defaulters_...</td><td>false</td></tr>\n",
       "<tr><td>data_analyst</td><td>loans_defaulters_...</td><td>false</td></tr>\n",
       "<tr><td>data_analyst</td><td>loans_repayments</td><td>false</td></tr>\n",
       "<tr><td>data_analyst</td><td>qa_data</td><td>false</td></tr>\n",
       "<tr><td></td><td>bad1</td><td>true</td></tr>\n",
       "<tr><td></td><td>bad2</td><td>true</td></tr>\n",
       "<tr><td></td><td>bad3</td><td>true</td></tr>\n",
       "<tr><td></td><td>badd</td><td>true</td></tr>\n",
       "</table>\n"
      ],
      "text/plain": [
       "+------------+--------------------+-----------+\n",
       "|    database|           tableName|isTemporary|\n",
       "+------------+--------------------+-----------+\n",
       "|data_analyst|           customers|      false|\n",
       "|data_analyst|               loans|      false|\n",
       "|data_analyst|loans_defaulters_...|      false|\n",
       "|data_analyst|loans_defaulters_...|      false|\n",
       "|data_analyst|    loans_repayments|      false|\n",
       "|data_analyst|             qa_data|      false|\n",
       "|            |                bad1|       true|\n",
       "|            |                bad2|       true|\n",
       "|            |                bad3|       true|\n",
       "|            |                badd|       true|\n",
       "+------------+--------------------+-----------+"
      ]
     },
     "execution_count": 86,
     "metadata": {},
     "output_type": "execute_result"
    }
   ],
   "source": [
    "spark.sql(\"show tables\")"
   ]
  },
  {
   "cell_type": "code",
   "execution_count": 89,
   "id": "8750a540",
   "metadata": {},
   "outputs": [],
   "source": [
    "final = spark.sql(\"select * from customers where member_id not in(select member_id from badd)\")"
   ]
  },
  {
   "cell_type": "code",
   "execution_count": 91,
   "id": "b7702420",
   "metadata": {},
   "outputs": [
    {
     "data": {
      "text/html": [
       "<table border='1'>\n",
       "<tr><th>member_id</th><th>emp_title</th><th>emp_length</th><th>home_ownership</th><th>annual_income</th><th>address_state</th><th>address_zipcode</th><th>address_country</th><th>grade</th><th>sub_grade</th><th>verification_status</th><th>total_high_credit_limit</th><th>application_type</th><th>join_annual_income</th><th>verification_status_joint</th><th>ingest_date</th></tr>\n",
       "</table>\n"
      ],
      "text/plain": [
       "+---------+---------+----------+--------------+-------------+-------------+---------------+---------------+-----+---------+-------------------+-----------------------+----------------+------------------+-------------------------+-----------+\n",
       "|member_id|emp_title|emp_length|home_ownership|annual_income|address_state|address_zipcode|address_country|grade|sub_grade|verification_status|total_high_credit_limit|application_type|join_annual_income|verification_status_joint|ingest_date|\n",
       "+---------+---------+----------+--------------+-------------+-------------+---------------+---------------+-----+---------+-------------------+-----------------------+----------------+------------------+-------------------------+-----------+\n",
       "+---------+---------+----------+--------------+-------------+-------------+---------------+---------------+-----+---------+-------------------+-----------------------+----------------+------------------+-------------------------+-----------+"
      ]
     },
     "execution_count": 91,
     "metadata": {},
     "output_type": "execute_result"
    }
   ],
   "source": [
    "final.filter(\"member_id like '11099eff1a2ced61f%' \")"
   ]
  },
  {
   "cell_type": "code",
   "execution_count": null,
   "id": "2c08afe3",
   "metadata": {},
   "outputs": [],
   "source": []
  }
 ],
 "metadata": {
  "kernelspec": {
   "display_name": "Pyspark 3",
   "language": "python",
   "name": "pyspark3"
  },
  "language_info": {
   "codemirror_mode": {
    "name": "ipython",
    "version": 3
   },
   "file_extension": ".py",
   "mimetype": "text/x-python",
   "name": "python",
   "nbconvert_exporter": "python",
   "pygments_lexer": "ipython3",
   "version": "3.6.12"
  }
 },
 "nbformat": 4,
 "nbformat_minor": 5
}
