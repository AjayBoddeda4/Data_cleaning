{
 "cells": [
  {
   "cell_type": "code",
   "execution_count": 1,
   "id": "b26ea294",
   "metadata": {},
   "outputs": [],
   "source": [
    "from pyspark.sql import SparkSession"
   ]
  },
  {
   "cell_type": "code",
   "execution_count": 2,
   "id": "a0d93972",
   "metadata": {},
   "outputs": [],
   "source": [
    "spark = SparkSession .\\\n",
    "builder .\\\n",
    "appName(\"spark\") .\\\n",
    "config(\"spark.sql.warehouse.dir\",\"/user/itv016843/warehouse\") .\\\n",
    "enableHiveSupport() .\\\n",
    "master(\"yarn\") .\\\n",
    "getOrCreate()"
   ]
  },
  {
   "cell_type": "code",
   "execution_count": 3,
   "id": "3731d3c4",
   "metadata": {},
   "outputs": [
    {
     "data": {
      "text/html": [
       "\n",
       "            <div>\n",
       "                <p><b>SparkSession - hive</b></p>\n",
       "                \n",
       "        <div>\n",
       "            <p><b>SparkContext</b></p>\n",
       "\n",
       "            <p><a href=\"http://g02.itversity.com:4040\">Spark UI</a></p>\n",
       "\n",
       "            <dl>\n",
       "              <dt>Version</dt>\n",
       "                <dd><code>v3.1.2</code></dd>\n",
       "              <dt>Master</dt>\n",
       "                <dd><code>yarn</code></dd>\n",
       "              <dt>AppName</dt>\n",
       "                <dd><code>spark</code></dd>\n",
       "            </dl>\n",
       "        </div>\n",
       "        \n",
       "            </div>\n",
       "        "
      ],
      "text/plain": [
       "<pyspark.sql.session.SparkSession at 0x7f8ef9d8eb00>"
      ]
     },
     "execution_count": 3,
     "metadata": {},
     "output_type": "execute_result"
    }
   ],
   "source": [
    "spark"
   ]
  },
  {
   "cell_type": "code",
   "execution_count": null,
   "id": "393b4e35",
   "metadata": {},
   "outputs": [],
   "source": []
  },
  {
   "cell_type": "code",
   "execution_count": 4,
   "id": "3a8f7f6b",
   "metadata": {},
   "outputs": [],
   "source": [
    "from pyspark.sql.functions import *"
   ]
  },
  {
   "cell_type": "code",
   "execution_count": 5,
   "id": "d35b612c",
   "metadata": {},
   "outputs": [],
   "source": [
    "from pyspark.sql import *"
   ]
  },
  {
   "cell_type": "markdown",
   "id": "ac125c7e",
   "metadata": {},
   "source": [
    "# while dealing with data the best practice is to add the current time when the data is cleaning "
   ]
  },
  {
   "cell_type": "code",
   "execution_count": 6,
   "id": "be995547",
   "metadata": {},
   "outputs": [
    {
     "name": "stdout",
     "output_type": "stream",
     "text": [
      "Found 4 items\n",
      "drwxr-xr-x   - itv005857 supergroup          0 2023-09-15 14:40 /public/trendytech/lendingclubproject/raw/customers_data_csv\n",
      "drwxr-xr-x   - itv005857 supergroup          0 2023-09-17 22:57 /public/trendytech/lendingclubproject/raw/loans_data_csv\n",
      "drwxr-xr-x   - itv005857 supergroup          0 2023-09-18 07:32 /public/trendytech/lendingclubproject/raw/loans_defaulters_csv\n",
      "drwxr-xr-x   - itv005857 supergroup          0 2023-09-18 07:31 /public/trendytech/lendingclubproject/raw/loans_repayments_csv\n"
     ]
    }
   ],
   "source": [
    "! hadoop fs -ls /public/trendytech/lendingclubproject/raw"
   ]
  },
  {
   "cell_type": "code",
   "execution_count": null,
   "id": "f6460855",
   "metadata": {},
   "outputs": [],
   "source": []
  },
  {
   "cell_type": "code",
   "execution_count": 7,
   "id": "7055ede5",
   "metadata": {},
   "outputs": [],
   "source": [
    "df1 = spark.read \\\n",
    ".format(\"csv\") \\\n",
    ".option(\"header\",True) \\\n",
    ".load(\"/public/trendytech/lendingclubproject/raw/customers_data_csv\")"
   ]
  },
  {
   "cell_type": "code",
   "execution_count": 8,
   "id": "a17a878d",
   "metadata": {},
   "outputs": [
    {
     "data": {
      "text/html": [
       "<table border='1'>\n",
       "<tr><th>member_id</th><th>emp_title</th><th>emp_length</th><th>home_ownership</th><th>annual_inc</th><th>addr_state</th><th>zip_code</th><th>country</th><th>grade</th><th>sub_grade</th><th>verification_status</th><th>tot_hi_cred_lim</th><th>application_type</th><th>annual_inc_joint</th><th>verification_status_joint</th></tr>\n",
       "<tr><td>b59d80da191f5b573...</td><td>null</td><td>null</td><td>RENT</td><td>50000.0</td><td>OR</td><td>973xx</td><td>USA</td><td>A</td><td>A5</td><td>Source Verified</td><td>8600.0</td><td>Individual</td><td>null</td><td>null</td></tr>\n",
       "<tr><td>202d9f56ecb7c3bc9...</td><td>police officer</td><td>7 years</td><td>OWN</td><td>85000.0</td><td>TX</td><td>799xx</td><td>USA</td><td>A</td><td>A5</td><td>Source Verified</td><td>272384.0</td><td>Individual</td><td>null</td><td>null</td></tr>\n",
       "<tr><td>e5a140c0922b554b9...</td><td>community living ...</td><td>6 years</td><td>RENT</td><td>48000.0</td><td>NY</td><td>146xx</td><td>USA</td><td>B</td><td>B2</td><td>Source Verified</td><td>85092.0</td><td>Individual</td><td>null</td><td>null</td></tr>\n",
       "<tr><td>e12aefc548f750777...</td><td>Office</td><td>10+ years</td><td>OWN</td><td>33000.0</td><td>CT</td><td>067xx</td><td>USA</td><td>F</td><td>F1</td><td>Verified</td><td>7100.0</td><td>Individual</td><td>null</td><td>null</td></tr>\n",
       "<tr><td>1b3a50d854fbbf97e...</td><td>Special Tooling I...</td><td>10+ years</td><td>MORTGAGE</td><td>81000.0</td><td>TX</td><td>791xx</td><td>USA</td><td>E</td><td>E5</td><td>Verified</td><td>190274.0</td><td>Individual</td><td>null</td><td>null</td></tr>\n",
       "</table>\n"
      ],
      "text/plain": [
       "+--------------------+--------------------+----------+--------------+----------+----------+--------+-------+-----+---------+-------------------+---------------+----------------+----------------+-------------------------+\n",
       "|           member_id|           emp_title|emp_length|home_ownership|annual_inc|addr_state|zip_code|country|grade|sub_grade|verification_status|tot_hi_cred_lim|application_type|annual_inc_joint|verification_status_joint|\n",
       "+--------------------+--------------------+----------+--------------+----------+----------+--------+-------+-----+---------+-------------------+---------------+----------------+----------------+-------------------------+\n",
       "|b59d80da191f5b573...|                null|      null|          RENT|   50000.0|        OR|   973xx|    USA|    A|       A5|    Source Verified|         8600.0|      Individual|            null|                     null|\n",
       "|202d9f56ecb7c3bc9...|      police officer|   7 years|           OWN|   85000.0|        TX|   799xx|    USA|    A|       A5|    Source Verified|       272384.0|      Individual|            null|                     null|\n",
       "|e5a140c0922b554b9...|community living ...|   6 years|          RENT|   48000.0|        NY|   146xx|    USA|    B|       B2|    Source Verified|        85092.0|      Individual|            null|                     null|\n",
       "|e12aefc548f750777...|              Office| 10+ years|           OWN|   33000.0|        CT|   067xx|    USA|    F|       F1|           Verified|         7100.0|      Individual|            null|                     null|\n",
       "|1b3a50d854fbbf97e...|Special Tooling I...| 10+ years|      MORTGAGE|   81000.0|        TX|   791xx|    USA|    E|       E5|           Verified|       190274.0|      Individual|            null|                     null|\n",
       "+--------------------+--------------------+----------+--------------+----------+----------+--------+-------+-----+---------+-------------------+---------------+----------------+----------------+-------------------------+"
      ]
     },
     "execution_count": 8,
     "metadata": {},
     "output_type": "execute_result"
    }
   ],
   "source": [
    "df1.limit(5)"
   ]
  },
  {
   "cell_type": "raw",
   "id": "1dc5a727",
   "metadata": {},
   "source": [
    " Data cleaning is the imp part so now we are doing it here the main part of data cleaning is \"null\" values delete it first and distinct values  and changing data types "
   ]
  },
  {
   "cell_type": "markdown",
   "id": "33784229",
   "metadata": {},
   "source": [
    "# lets see in how many ways we can clean the null values"
   ]
  },
  {
   "cell_type": "markdown",
   "id": "6ca3ef65",
   "metadata": {},
   "source": [
    "# TYPE 1"
   ]
  },
  {
   "cell_type": "code",
   "execution_count": 9,
   "id": "524f9b26",
   "metadata": {},
   "outputs": [],
   "source": [
    "df1.createOrReplaceTempView(\"cust_data\")"
   ]
  },
  {
   "cell_type": "code",
   "execution_count": 10,
   "id": "44e31507",
   "metadata": {},
   "outputs": [
    {
     "data": {
      "text/html": [
       "<table border='1'>\n",
       "<tr><th></th></tr>\n",
       "</table>\n"
      ],
      "text/plain": [
       "++\n",
       "||\n",
       "++\n",
       "++"
      ]
     },
     "execution_count": 10,
     "metadata": {},
     "output_type": "execute_result"
    }
   ],
   "source": [
    "spark.sql(\"use ajdb1\")"
   ]
  },
  {
   "cell_type": "code",
   "execution_count": 11,
   "id": "74c20175",
   "metadata": {},
   "outputs": [
    {
     "data": {
      "text/html": [
       "<table border='1'>\n",
       "<tr><th>database</th><th>tableName</th><th>isTemporary</th></tr>\n",
       "<tr><td></td><td>cust_data</td><td>true</td></tr>\n",
       "</table>\n"
      ],
      "text/plain": [
       "+--------+---------+-----------+\n",
       "|database|tableName|isTemporary|\n",
       "+--------+---------+-----------+\n",
       "|        |cust_data|       true|\n",
       "+--------+---------+-----------+"
      ]
     },
     "execution_count": 11,
     "metadata": {},
     "output_type": "execute_result"
    }
   ],
   "source": [
    "spark.sql(\"show tables\")"
   ]
  },
  {
   "cell_type": "code",
   "execution_count": 12,
   "id": "b1f66e07",
   "metadata": {},
   "outputs": [
    {
     "data": {
      "text/html": [
       "<table border='1'>\n",
       "<tr><th>member_id</th><th>emp_title</th><th>emp_length</th><th>home_ownership</th><th>annual_inc</th><th>addr_state</th><th>zip_code</th><th>country</th><th>grade</th><th>sub_grade</th><th>verification_status</th><th>tot_hi_cred_lim</th><th>application_type</th><th>annual_inc_joint</th><th>verification_status_joint</th></tr>\n",
       "<tr><td>b59d80da191f5b573...</td><td>null</td><td>null</td><td>RENT</td><td>50000.0</td><td>OR</td><td>973xx</td><td>USA</td><td>A</td><td>A5</td><td>Source Verified</td><td>8600.0</td><td>Individual</td><td>null</td><td>null</td></tr>\n",
       "<tr><td>202d9f56ecb7c3bc9...</td><td>police officer</td><td>7 years</td><td>OWN</td><td>85000.0</td><td>TX</td><td>799xx</td><td>USA</td><td>A</td><td>A5</td><td>Source Verified</td><td>272384.0</td><td>Individual</td><td>null</td><td>null</td></tr>\n",
       "<tr><td>e5a140c0922b554b9...</td><td>community living ...</td><td>6 years</td><td>RENT</td><td>48000.0</td><td>NY</td><td>146xx</td><td>USA</td><td>B</td><td>B2</td><td>Source Verified</td><td>85092.0</td><td>Individual</td><td>null</td><td>null</td></tr>\n",
       "</table>\n"
      ],
      "text/plain": [
       "+--------------------+--------------------+----------+--------------+----------+----------+--------+-------+-----+---------+-------------------+---------------+----------------+----------------+-------------------------+\n",
       "|           member_id|           emp_title|emp_length|home_ownership|annual_inc|addr_state|zip_code|country|grade|sub_grade|verification_status|tot_hi_cred_lim|application_type|annual_inc_joint|verification_status_joint|\n",
       "+--------------------+--------------------+----------+--------------+----------+----------+--------+-------+-----+---------+-------------------+---------------+----------------+----------------+-------------------------+\n",
       "|b59d80da191f5b573...|                null|      null|          RENT|   50000.0|        OR|   973xx|    USA|    A|       A5|    Source Verified|         8600.0|      Individual|            null|                     null|\n",
       "|202d9f56ecb7c3bc9...|      police officer|   7 years|           OWN|   85000.0|        TX|   799xx|    USA|    A|       A5|    Source Verified|       272384.0|      Individual|            null|                     null|\n",
       "|e5a140c0922b554b9...|community living ...|   6 years|          RENT|   48000.0|        NY|   146xx|    USA|    B|       B2|    Source Verified|        85092.0|      Individual|            null|                     null|\n",
       "+--------------------+--------------------+----------+--------------+----------+----------+--------+-------+-----+---------+-------------------+---------------+----------------+----------------+-------------------------+"
      ]
     },
     "execution_count": 12,
     "metadata": {},
     "output_type": "execute_result"
    }
   ],
   "source": [
    "df1.limit(3)  # To know which columns to clean i always see table "
   ]
  },
  {
   "cell_type": "code",
   "execution_count": null,
   "id": "9715c5bd",
   "metadata": {},
   "outputs": [],
   "source": []
  },
  {
   "cell_type": "code",
   "execution_count": 13,
   "id": "95ecbedc",
   "metadata": {},
   "outputs": [
    {
     "data": {
      "text/html": [
       "<table border='1'>\n",
       "<tr><th>member_id</th><th>emp_title</th><th>emp_length</th><th>home_ownership</th><th>annual_inc</th><th>addr_state</th><th>zip_code</th><th>country</th><th>grade</th><th>sub_grade</th><th>verification_status</th><th>tot_hi_cred_lim</th><th>application_type</th><th>annual_inc_joint</th><th>verification_status_joint</th></tr>\n",
       "<tr><td>e3b0c44298fc1c149...</td><td>null</td><td>null</td><td>null</td><td>null</td><td>null</td><td>null</td><td>USA</td><td>null</td><td>null</td><td>null</td><td>null</td><td>null</td><td>null</td><td>null</td></tr>\n",
       "<tr><td>e3b0c44298fc1c149...</td><td>null</td><td>null</td><td>null</td><td>null</td><td>null</td><td>null</td><td>USA</td><td>null</td><td>null</td><td>null</td><td>null</td><td>null</td><td>null</td><td>null</td></tr>\n",
       "<tr><td>e3b0c44298fc1c149...</td><td>null</td><td>null</td><td>null</td><td>null</td><td>null</td><td>null</td><td>USA</td><td>null</td><td>null</td><td>null</td><td>null</td><td>null</td><td>null</td><td>null</td></tr>\n",
       "<tr><td>e3b0c44298fc1c149...</td><td>null</td><td>null</td><td>null</td><td>null</td><td>null</td><td>null</td><td>USA</td><td>null</td><td>null</td><td>null</td><td>null</td><td>null</td><td>null</td><td>null</td></tr>\n",
       "<tr><td>e3b0c44298fc1c149...</td><td>null</td><td>null</td><td>null</td><td>null</td><td>null</td><td>null</td><td>USA</td><td>null</td><td>null</td><td>null</td><td>null</td><td>null</td><td>null</td><td>null</td></tr>\n",
       "<tr><td>e3b0c44298fc1c149...</td><td>null</td><td>null</td><td>null</td><td>null</td><td>null</td><td>null</td><td>USA</td><td>null</td><td>null</td><td>null</td><td>null</td><td>null</td><td>null</td><td>null</td></tr>\n",
       "<tr><td>e3b0c44298fc1c149...</td><td>null</td><td>null</td><td>null</td><td>null</td><td>null</td><td>null</td><td>USA</td><td>null</td><td>null</td><td>null</td><td>null</td><td>null</td><td>null</td><td>null</td></tr>\n",
       "<tr><td>e3b0c44298fc1c149...</td><td>null</td><td>null</td><td>null</td><td>null</td><td>null</td><td>null</td><td>USA</td><td>null</td><td>null</td><td>null</td><td>null</td><td>null</td><td>null</td><td>null</td></tr>\n",
       "<tr><td>e3b0c44298fc1c149...</td><td>null</td><td>null</td><td>null</td><td>null</td><td>null</td><td>null</td><td>USA</td><td>null</td><td>null</td><td>null</td><td>null</td><td>null</td><td>null</td><td>null</td></tr>\n",
       "<tr><td>e3b0c44298fc1c149...</td><td>null</td><td>null</td><td>null</td><td>null</td><td>null</td><td>null</td><td>USA</td><td>null</td><td>null</td><td>null</td><td>null</td><td>null</td><td>null</td><td>null</td></tr>\n",
       "<tr><td>e3b0c44298fc1c149...</td><td>null</td><td>null</td><td>null</td><td>null</td><td>null</td><td>null</td><td>USA</td><td>null</td><td>null</td><td>null</td><td>null</td><td>null</td><td>null</td><td>null</td></tr>\n",
       "<tr><td>e3b0c44298fc1c149...</td><td>null</td><td>null</td><td>null</td><td>null</td><td>null</td><td>null</td><td>USA</td><td>null</td><td>null</td><td>null</td><td>null</td><td>null</td><td>null</td><td>null</td></tr>\n",
       "<tr><td>e3b0c44298fc1c149...</td><td>null</td><td>null</td><td>null</td><td>null</td><td>null</td><td>null</td><td>USA</td><td>null</td><td>null</td><td>null</td><td>null</td><td>null</td><td>null</td><td>null</td></tr>\n",
       "<tr><td>e3b0c44298fc1c149...</td><td>null</td><td>null</td><td>null</td><td>null</td><td>null</td><td>null</td><td>USA</td><td>null</td><td>null</td><td>null</td><td>null</td><td>null</td><td>null</td><td>null</td></tr>\n",
       "<tr><td>e3b0c44298fc1c149...</td><td>null</td><td>null</td><td>null</td><td>null</td><td>null</td><td>null</td><td>USA</td><td>null</td><td>null</td><td>null</td><td>null</td><td>null</td><td>null</td><td>null</td></tr>\n",
       "<tr><td>e3b0c44298fc1c149...</td><td>null</td><td>null</td><td>null</td><td>null</td><td>null</td><td>null</td><td>USA</td><td>null</td><td>null</td><td>null</td><td>null</td><td>null</td><td>null</td><td>null</td></tr>\n",
       "<tr><td>e3b0c44298fc1c149...</td><td>null</td><td>null</td><td>null</td><td>null</td><td>null</td><td>null</td><td>USA</td><td>null</td><td>null</td><td>null</td><td>null</td><td>null</td><td>null</td><td>null</td></tr>\n",
       "<tr><td>e3b0c44298fc1c149...</td><td>null</td><td>null</td><td>null</td><td>null</td><td>null</td><td>null</td><td>USA</td><td>null</td><td>null</td><td>null</td><td>null</td><td>null</td><td>null</td><td>null</td></tr>\n",
       "<tr><td>e3b0c44298fc1c149...</td><td>null</td><td>null</td><td>null</td><td>null</td><td>null</td><td>null</td><td>USA</td><td>null</td><td>null</td><td>null</td><td>null</td><td>null</td><td>null</td><td>null</td></tr>\n",
       "<tr><td>e3b0c44298fc1c149...</td><td>null</td><td>null</td><td>null</td><td>null</td><td>null</td><td>null</td><td>USA</td><td>null</td><td>null</td><td>null</td><td>null</td><td>null</td><td>null</td><td>null</td></tr>\n",
       "</table>\n",
       "only showing top 20 rows\n"
      ],
      "text/plain": [
       "+--------------------+---------+----------+--------------+----------+----------+--------+-------+-----+---------+-------------------+---------------+----------------+----------------+-------------------------+\n",
       "|           member_id|emp_title|emp_length|home_ownership|annual_inc|addr_state|zip_code|country|grade|sub_grade|verification_status|tot_hi_cred_lim|application_type|annual_inc_joint|verification_status_joint|\n",
       "+--------------------+---------+----------+--------------+----------+----------+--------+-------+-----+---------+-------------------+---------------+----------------+----------------+-------------------------+\n",
       "|e3b0c44298fc1c149...|     null|      null|          null|      null|      null|    null|    USA| null|     null|               null|           null|            null|            null|                     null|\n",
       "|e3b0c44298fc1c149...|     null|      null|          null|      null|      null|    null|    USA| null|     null|               null|           null|            null|            null|                     null|\n",
       "|e3b0c44298fc1c149...|     null|      null|          null|      null|      null|    null|    USA| null|     null|               null|           null|            null|            null|                     null|\n",
       "|e3b0c44298fc1c149...|     null|      null|          null|      null|      null|    null|    USA| null|     null|               null|           null|            null|            null|                     null|\n",
       "|e3b0c44298fc1c149...|     null|      null|          null|      null|      null|    null|    USA| null|     null|               null|           null|            null|            null|                     null|\n",
       "|e3b0c44298fc1c149...|     null|      null|          null|      null|      null|    null|    USA| null|     null|               null|           null|            null|            null|                     null|\n",
       "|e3b0c44298fc1c149...|     null|      null|          null|      null|      null|    null|    USA| null|     null|               null|           null|            null|            null|                     null|\n",
       "|e3b0c44298fc1c149...|     null|      null|          null|      null|      null|    null|    USA| null|     null|               null|           null|            null|            null|                     null|\n",
       "|e3b0c44298fc1c149...|     null|      null|          null|      null|      null|    null|    USA| null|     null|               null|           null|            null|            null|                     null|\n",
       "|e3b0c44298fc1c149...|     null|      null|          null|      null|      null|    null|    USA| null|     null|               null|           null|            null|            null|                     null|\n",
       "|e3b0c44298fc1c149...|     null|      null|          null|      null|      null|    null|    USA| null|     null|               null|           null|            null|            null|                     null|\n",
       "|e3b0c44298fc1c149...|     null|      null|          null|      null|      null|    null|    USA| null|     null|               null|           null|            null|            null|                     null|\n",
       "|e3b0c44298fc1c149...|     null|      null|          null|      null|      null|    null|    USA| null|     null|               null|           null|            null|            null|                     null|\n",
       "|e3b0c44298fc1c149...|     null|      null|          null|      null|      null|    null|    USA| null|     null|               null|           null|            null|            null|                     null|\n",
       "|e3b0c44298fc1c149...|     null|      null|          null|      null|      null|    null|    USA| null|     null|               null|           null|            null|            null|                     null|\n",
       "|e3b0c44298fc1c149...|     null|      null|          null|      null|      null|    null|    USA| null|     null|               null|           null|            null|            null|                     null|\n",
       "|e3b0c44298fc1c149...|     null|      null|          null|      null|      null|    null|    USA| null|     null|               null|           null|            null|            null|                     null|\n",
       "|e3b0c44298fc1c149...|     null|      null|          null|      null|      null|    null|    USA| null|     null|               null|           null|            null|            null|                     null|\n",
       "|e3b0c44298fc1c149...|     null|      null|          null|      null|      null|    null|    USA| null|     null|               null|           null|            null|            null|                     null|\n",
       "|e3b0c44298fc1c149...|     null|      null|          null|      null|      null|    null|    USA| null|     null|               null|           null|            null|            null|                     null|\n",
       "+--------------------+---------+----------+--------------+----------+----------+--------+-------+-----+---------+-------------------+---------------+----------------+----------------+-------------------------+\n",
       "only showing top 20 rows"
      ]
     },
     "execution_count": 13,
     "metadata": {},
     "output_type": "execute_result"
    }
   ],
   "source": [
    "df1.filter(\"annual_inc is null\")"
   ]
  },
  {
   "cell_type": "code",
   "execution_count": 14,
   "id": "a34213ad",
   "metadata": {},
   "outputs": [
    {
     "data": {
      "text/plain": [
       "37"
      ]
     },
     "execution_count": 14,
     "metadata": {},
     "output_type": "execute_result"
    }
   ],
   "source": [
    "spark.sql(\"select * from cust_data where annual_inc is null\").count()"
   ]
  },
  {
   "cell_type": "code",
   "execution_count": 15,
   "id": "eea28641",
   "metadata": {},
   "outputs": [
    {
     "data": {
      "text/plain": [
       "2260701"
      ]
     },
     "execution_count": 15,
     "metadata": {},
     "output_type": "execute_result"
    }
   ],
   "source": [
    "df1.count()"
   ]
  },
  {
   "cell_type": "code",
   "execution_count": 16,
   "id": "6d5d216b",
   "metadata": {},
   "outputs": [
    {
     "data": {
      "text/plain": [
       "2260664"
      ]
     },
     "execution_count": 16,
     "metadata": {},
     "output_type": "execute_result"
    }
   ],
   "source": [
    "df1.count() - spark.sql(\"select * from cust_data where annual_inc is null\").count()"
   ]
  },
  {
   "cell_type": "code",
   "execution_count": 17,
   "id": "adc8b5cb",
   "metadata": {},
   "outputs": [],
   "source": [
    "df2 = spark.sql(\"select * from cust_data where annual_inc is not null\")"
   ]
  },
  {
   "cell_type": "code",
   "execution_count": 18,
   "id": "1a077a30",
   "metadata": {},
   "outputs": [
    {
     "data": {
      "text/plain": [
       "2260664"
      ]
     },
     "execution_count": 18,
     "metadata": {},
     "output_type": "execute_result"
    }
   ],
   "source": [
    "df2.count()"
   ]
  },
  {
   "cell_type": "code",
   "execution_count": 19,
   "id": "9ba92d97",
   "metadata": {},
   "outputs": [
    {
     "data": {
      "text/html": [
       "<table border='1'>\n",
       "<tr><th>member_id</th><th>emp_title</th><th>emp_length</th><th>home_ownership</th><th>annual_inc</th><th>addr_state</th><th>zip_code</th><th>country</th><th>grade</th><th>sub_grade</th><th>verification_status</th><th>tot_hi_cred_lim</th><th>application_type</th><th>annual_inc_joint</th><th>verification_status_joint</th></tr>\n",
       "<tr><td>b59d80da191f5b573...</td><td>null</td><td>null</td><td>RENT</td><td>50000.0</td><td>OR</td><td>973xx</td><td>USA</td><td>A</td><td>A5</td><td>Source Verified</td><td>8600.0</td><td>Individual</td><td>null</td><td>null</td></tr>\n",
       "<tr><td>202d9f56ecb7c3bc9...</td><td>police officer</td><td>7 years</td><td>OWN</td><td>85000.0</td><td>TX</td><td>799xx</td><td>USA</td><td>A</td><td>A5</td><td>Source Verified</td><td>272384.0</td><td>Individual</td><td>null</td><td>null</td></tr>\n",
       "<tr><td>e5a140c0922b554b9...</td><td>community living ...</td><td>6 years</td><td>RENT</td><td>48000.0</td><td>NY</td><td>146xx</td><td>USA</td><td>B</td><td>B2</td><td>Source Verified</td><td>85092.0</td><td>Individual</td><td>null</td><td>null</td></tr>\n",
       "<tr><td>e12aefc548f750777...</td><td>Office</td><td>10+ years</td><td>OWN</td><td>33000.0</td><td>CT</td><td>067xx</td><td>USA</td><td>F</td><td>F1</td><td>Verified</td><td>7100.0</td><td>Individual</td><td>null</td><td>null</td></tr>\n",
       "<tr><td>1b3a50d854fbbf97e...</td><td>Special Tooling I...</td><td>10+ years</td><td>MORTGAGE</td><td>81000.0</td><td>TX</td><td>791xx</td><td>USA</td><td>E</td><td>E5</td><td>Verified</td><td>190274.0</td><td>Individual</td><td>null</td><td>null</td></tr>\n",
       "</table>\n"
      ],
      "text/plain": [
       "+--------------------+--------------------+----------+--------------+----------+----------+--------+-------+-----+---------+-------------------+---------------+----------------+----------------+-------------------------+\n",
       "|           member_id|           emp_title|emp_length|home_ownership|annual_inc|addr_state|zip_code|country|grade|sub_grade|verification_status|tot_hi_cred_lim|application_type|annual_inc_joint|verification_status_joint|\n",
       "+--------------------+--------------------+----------+--------------+----------+----------+--------+-------+-----+---------+-------------------+---------------+----------------+----------------+-------------------------+\n",
       "|b59d80da191f5b573...|                null|      null|          RENT|   50000.0|        OR|   973xx|    USA|    A|       A5|    Source Verified|         8600.0|      Individual|            null|                     null|\n",
       "|202d9f56ecb7c3bc9...|      police officer|   7 years|           OWN|   85000.0|        TX|   799xx|    USA|    A|       A5|    Source Verified|       272384.0|      Individual|            null|                     null|\n",
       "|e5a140c0922b554b9...|community living ...|   6 years|          RENT|   48000.0|        NY|   146xx|    USA|    B|       B2|    Source Verified|        85092.0|      Individual|            null|                     null|\n",
       "|e12aefc548f750777...|              Office| 10+ years|           OWN|   33000.0|        CT|   067xx|    USA|    F|       F1|           Verified|         7100.0|      Individual|            null|                     null|\n",
       "|1b3a50d854fbbf97e...|Special Tooling I...| 10+ years|      MORTGAGE|   81000.0|        TX|   791xx|    USA|    E|       E5|           Verified|       190274.0|      Individual|            null|                     null|\n",
       "+--------------------+--------------------+----------+--------------+----------+----------+--------+-------+-----+---------+-------------------+---------------+----------------+----------------+-------------------------+"
      ]
     },
     "execution_count": 19,
     "metadata": {},
     "output_type": "execute_result"
    }
   ],
   "source": [
    "df2.limit(5)"
   ]
  },
  {
   "cell_type": "code",
   "execution_count": null,
   "id": "9519cedf",
   "metadata": {},
   "outputs": [],
   "source": []
  },
  {
   "cell_type": "markdown",
   "id": "4cdbad9b",
   "metadata": {},
   "source": [
    "# TYPE 2"
   ]
  },
  {
   "cell_type": "code",
   "execution_count": 20,
   "id": "3d29977b",
   "metadata": {},
   "outputs": [
    {
     "data": {
      "text/html": [
       "<table border='1'>\n",
       "<tr><th>member_id</th><th>emp_title</th><th>emp_length</th><th>home_ownership</th><th>annual_inc</th><th>addr_state</th><th>zip_code</th><th>country</th><th>grade</th><th>sub_grade</th><th>verification_status</th><th>tot_hi_cred_lim</th><th>application_type</th><th>annual_inc_joint</th><th>verification_status_joint</th></tr>\n",
       "<tr><td>b59d80da191f5b573...</td><td>null</td><td>null</td><td>RENT</td><td>50000.0</td><td>OR</td><td>973xx</td><td>USA</td><td>A</td><td>A5</td><td>Source Verified</td><td>8600.0</td><td>Individual</td><td>null</td><td>null</td></tr>\n",
       "<tr><td>202d9f56ecb7c3bc9...</td><td>police officer</td><td>7 years</td><td>OWN</td><td>85000.0</td><td>TX</td><td>799xx</td><td>USA</td><td>A</td><td>A5</td><td>Source Verified</td><td>272384.0</td><td>Individual</td><td>null</td><td>null</td></tr>\n",
       "<tr><td>e5a140c0922b554b9...</td><td>community living ...</td><td>6 years</td><td>RENT</td><td>48000.0</td><td>NY</td><td>146xx</td><td>USA</td><td>B</td><td>B2</td><td>Source Verified</td><td>85092.0</td><td>Individual</td><td>null</td><td>null</td></tr>\n",
       "<tr><td>e12aefc548f750777...</td><td>Office</td><td>10+ years</td><td>OWN</td><td>33000.0</td><td>CT</td><td>067xx</td><td>USA</td><td>F</td><td>F1</td><td>Verified</td><td>7100.0</td><td>Individual</td><td>null</td><td>null</td></tr>\n",
       "<tr><td>1b3a50d854fbbf97e...</td><td>Special Tooling I...</td><td>10+ years</td><td>MORTGAGE</td><td>81000.0</td><td>TX</td><td>791xx</td><td>USA</td><td>E</td><td>E5</td><td>Verified</td><td>190274.0</td><td>Individual</td><td>null</td><td>null</td></tr>\n",
       "</table>\n"
      ],
      "text/plain": [
       "+--------------------+--------------------+----------+--------------+----------+----------+--------+-------+-----+---------+-------------------+---------------+----------------+----------------+-------------------------+\n",
       "|           member_id|           emp_title|emp_length|home_ownership|annual_inc|addr_state|zip_code|country|grade|sub_grade|verification_status|tot_hi_cred_lim|application_type|annual_inc_joint|verification_status_joint|\n",
       "+--------------------+--------------------+----------+--------------+----------+----------+--------+-------+-----+---------+-------------------+---------------+----------------+----------------+-------------------------+\n",
       "|b59d80da191f5b573...|                null|      null|          RENT|   50000.0|        OR|   973xx|    USA|    A|       A5|    Source Verified|         8600.0|      Individual|            null|                     null|\n",
       "|202d9f56ecb7c3bc9...|      police officer|   7 years|           OWN|   85000.0|        TX|   799xx|    USA|    A|       A5|    Source Verified|       272384.0|      Individual|            null|                     null|\n",
       "|e5a140c0922b554b9...|community living ...|   6 years|          RENT|   48000.0|        NY|   146xx|    USA|    B|       B2|    Source Verified|        85092.0|      Individual|            null|                     null|\n",
       "|e12aefc548f750777...|              Office| 10+ years|           OWN|   33000.0|        CT|   067xx|    USA|    F|       F1|           Verified|         7100.0|      Individual|            null|                     null|\n",
       "|1b3a50d854fbbf97e...|Special Tooling I...| 10+ years|      MORTGAGE|   81000.0|        TX|   791xx|    USA|    E|       E5|           Verified|       190274.0|      Individual|            null|                     null|\n",
       "+--------------------+--------------------+----------+--------------+----------+----------+--------+-------+-----+---------+-------------------+---------------+----------------+----------------+-------------------------+"
      ]
     },
     "execution_count": 20,
     "metadata": {},
     "output_type": "execute_result"
    }
   ],
   "source": [
    "df1.limit(5)"
   ]
  },
  {
   "cell_type": "markdown",
   "id": "5b4d4029",
   "metadata": {},
   "source": [
    "# ADD time"
   ]
  },
  {
   "cell_type": "code",
   "execution_count": 21,
   "id": "abf6b4db",
   "metadata": {},
   "outputs": [],
   "source": [
    "df3 = df1.withColumn(\"Time\",current_timestamp())"
   ]
  },
  {
   "cell_type": "code",
   "execution_count": 22,
   "id": "b420ee5c",
   "metadata": {},
   "outputs": [
    {
     "data": {
      "text/html": [
       "<table border='1'>\n",
       "<tr><th>Time</th></tr>\n",
       "<tr><td>2025-07-26 01:49:...</td></tr>\n",
       "<tr><td>2025-07-26 01:49:...</td></tr>\n",
       "<tr><td>2025-07-26 01:49:...</td></tr>\n",
       "<tr><td>2025-07-26 01:49:...</td></tr>\n",
       "<tr><td>2025-07-26 01:49:...</td></tr>\n",
       "</table>\n"
      ],
      "text/plain": [
       "+--------------------+\n",
       "|                Time|\n",
       "+--------------------+\n",
       "|2025-07-26 01:49:...|\n",
       "|2025-07-26 01:49:...|\n",
       "|2025-07-26 01:49:...|\n",
       "|2025-07-26 01:49:...|\n",
       "|2025-07-26 01:49:...|\n",
       "+--------------------+"
      ]
     },
     "execution_count": 22,
     "metadata": {},
     "output_type": "execute_result"
    }
   ],
   "source": [
    "df3.select(\"Time\").limit(5)"
   ]
  },
  {
   "cell_type": "code",
   "execution_count": 23,
   "id": "41692bb5",
   "metadata": {},
   "outputs": [
    {
     "data": {
      "text/html": [
       "<table border='1'>\n",
       "<tr><th>member_id</th><th>emp_title</th><th>emp_length</th><th>home_ownership</th><th>annual_inc</th><th>addr_state</th><th>zip_code</th><th>country</th><th>grade</th><th>sub_grade</th><th>verification_status</th><th>tot_hi_cred_lim</th><th>application_type</th><th>annual_inc_joint</th><th>verification_status_joint</th><th>Time</th></tr>\n",
       "<tr><td>ca82956941012fe97...</td><td>Server/Bartender</td><td>3 years</td><td>RENT</td><td>52000.0</td><td>FL</td><td>327xx</td><td>USA</td><td>C</td><td>C1</td><td>Verified</td><td>28821.0</td><td>Individual</td><td>null</td><td>null</td><td>2025-07-26 01:49:...</td></tr>\n",
       "<tr><td>0227159d28405afab...</td><td>Transportation co...</td><td>10+ years</td><td>MORTGAGE</td><td>85000.0</td><td>MD</td><td>211xx</td><td>USA</td><td>D</td><td>D5</td><td>Verified</td><td>34247.0</td><td>Individual</td><td>null</td><td>null</td><td>2025-07-26 01:49:...</td></tr>\n",
       "<tr><td>eac9f08513f9e824d...</td><td>Registered Nurse</td><td>3 years</td><td>MORTGAGE</td><td>75000.0</td><td>WI</td><td>548xx</td><td>USA</td><td>C</td><td>C5</td><td>Not Verified</td><td>120306.0</td><td>Individual</td><td>null</td><td>null</td><td>2025-07-26 01:49:...</td></tr>\n",
       "<tr><td>648fd1642abdd66c6...</td><td>null</td><td>null</td><td>RENT</td><td>12000.0</td><td>FL</td><td>330xx</td><td>USA</td><td>E</td><td>E2</td><td>Verified</td><td>2500.0</td><td>Individual</td><td>null</td><td>null</td><td>2025-07-26 01:49:...</td></tr>\n",
       "<tr><td>c0b13a5a4e9714749...</td><td>Office Manager</td><td>10+ years</td><td>RENT</td><td>89000.0</td><td>IL</td><td>623xx</td><td>USA</td><td>D</td><td>D4</td><td>Source Verified</td><td>76292.0</td><td>Individual</td><td>null</td><td>null</td><td>2025-07-26 01:49:...</td></tr>\n",
       "</table>\n"
      ],
      "text/plain": [
       "+--------------------+--------------------+----------+--------------+----------+----------+--------+-------+-----+---------+-------------------+---------------+----------------+----------------+-------------------------+--------------------+\n",
       "|           member_id|           emp_title|emp_length|home_ownership|annual_inc|addr_state|zip_code|country|grade|sub_grade|verification_status|tot_hi_cred_lim|application_type|annual_inc_joint|verification_status_joint|                Time|\n",
       "+--------------------+--------------------+----------+--------------+----------+----------+--------+-------+-----+---------+-------------------+---------------+----------------+----------------+-------------------------+--------------------+\n",
       "|b59d80da191f5b573...|                null|      null|          RENT|   50000.0|        OR|   973xx|    USA|    A|       A5|    Source Verified|         8600.0|      Individual|            null|                     null|2025-07-26 01:49:...|\n",
       "|202d9f56ecb7c3bc9...|      police officer|   7 years|           OWN|   85000.0|        TX|   799xx|    USA|    A|       A5|    Source Verified|       272384.0|      Individual|            null|                     null|2025-07-26 01:49:...|\n",
       "|e5a140c0922b554b9...|community living ...|   6 years|          RENT|   48000.0|        NY|   146xx|    USA|    B|       B2|    Source Verified|        85092.0|      Individual|            null|                     null|2025-07-26 01:49:...|\n",
       "|e12aefc548f750777...|              Office| 10+ years|           OWN|   33000.0|        CT|   067xx|    USA|    F|       F1|           Verified|         7100.0|      Individual|            null|                     null|2025-07-26 01:49:...|\n",
       "|1b3a50d854fbbf97e...|Special Tooling I...| 10+ years|      MORTGAGE|   81000.0|        TX|   791xx|    USA|    E|       E5|           Verified|       190274.0|      Individual|            null|                     null|2025-07-26 01:49:...|\n",
       "+--------------------+--------------------+----------+--------------+----------+----------+--------+-------+-----+---------+-------------------+---------------+----------------+----------------+-------------------------+--------------------+"
      ]
     },
     "execution_count": 23,
     "metadata": {},
     "output_type": "execute_result"
    }
   ],
   "source": [
    "df3.limit(5)"
   ]
  },
  {
   "cell_type": "code",
   "execution_count": 24,
   "id": "12dd4471",
   "metadata": {},
   "outputs": [
    {
     "data": {
      "text/html": [
       "<table border='1'>\n",
       "<tr><th>member_id</th><th>emp_title</th><th>emp_length</th><th>home_ownership</th><th>annual_inc</th><th>addr_state</th><th>zip_code</th><th>country</th><th>grade</th><th>sub_grade</th><th>verification_status</th><th>tot_hi_cred_lim</th><th>application_type</th><th>annual_inc_joint</th><th>verification_status_joint</th><th>Time</th></tr>\n",
       "<tr><td>e3b0c44298fc1c149...</td><td>null</td><td>null</td><td>null</td><td>null</td><td>null</td><td>null</td><td>USA</td><td>null</td><td>null</td><td>null</td><td>null</td><td>null</td><td>null</td><td>null</td><td>2025-07-26 01:49:...</td></tr>\n",
       "<tr><td>e3b0c44298fc1c149...</td><td>null</td><td>null</td><td>null</td><td>null</td><td>null</td><td>null</td><td>USA</td><td>null</td><td>null</td><td>null</td><td>null</td><td>null</td><td>null</td><td>null</td><td>2025-07-26 01:49:...</td></tr>\n",
       "<tr><td>e3b0c44298fc1c149...</td><td>null</td><td>null</td><td>null</td><td>null</td><td>null</td><td>null</td><td>USA</td><td>null</td><td>null</td><td>null</td><td>null</td><td>null</td><td>null</td><td>null</td><td>2025-07-26 01:49:...</td></tr>\n",
       "<tr><td>e3b0c44298fc1c149...</td><td>null</td><td>null</td><td>null</td><td>null</td><td>null</td><td>null</td><td>USA</td><td>null</td><td>null</td><td>null</td><td>null</td><td>null</td><td>null</td><td>null</td><td>2025-07-26 01:49:...</td></tr>\n",
       "<tr><td>e3b0c44298fc1c149...</td><td>null</td><td>null</td><td>null</td><td>null</td><td>null</td><td>null</td><td>USA</td><td>null</td><td>null</td><td>null</td><td>null</td><td>null</td><td>null</td><td>null</td><td>2025-07-26 01:49:...</td></tr>\n",
       "<tr><td>e3b0c44298fc1c149...</td><td>null</td><td>null</td><td>null</td><td>null</td><td>null</td><td>null</td><td>USA</td><td>null</td><td>null</td><td>null</td><td>null</td><td>null</td><td>null</td><td>null</td><td>2025-07-26 01:49:...</td></tr>\n",
       "<tr><td>e3b0c44298fc1c149...</td><td>null</td><td>null</td><td>null</td><td>null</td><td>null</td><td>null</td><td>USA</td><td>null</td><td>null</td><td>null</td><td>null</td><td>null</td><td>null</td><td>null</td><td>2025-07-26 01:49:...</td></tr>\n",
       "<tr><td>e3b0c44298fc1c149...</td><td>null</td><td>null</td><td>null</td><td>null</td><td>null</td><td>null</td><td>USA</td><td>null</td><td>null</td><td>null</td><td>null</td><td>null</td><td>null</td><td>null</td><td>2025-07-26 01:49:...</td></tr>\n",
       "<tr><td>e3b0c44298fc1c149...</td><td>null</td><td>null</td><td>null</td><td>null</td><td>null</td><td>null</td><td>USA</td><td>null</td><td>null</td><td>null</td><td>null</td><td>null</td><td>null</td><td>null</td><td>2025-07-26 01:49:...</td></tr>\n",
       "<tr><td>e3b0c44298fc1c149...</td><td>null</td><td>null</td><td>null</td><td>null</td><td>null</td><td>null</td><td>USA</td><td>null</td><td>null</td><td>null</td><td>null</td><td>null</td><td>null</td><td>null</td><td>2025-07-26 01:49:...</td></tr>\n",
       "<tr><td>e3b0c44298fc1c149...</td><td>null</td><td>null</td><td>null</td><td>null</td><td>null</td><td>null</td><td>USA</td><td>null</td><td>null</td><td>null</td><td>null</td><td>null</td><td>null</td><td>null</td><td>2025-07-26 01:49:...</td></tr>\n",
       "<tr><td>e3b0c44298fc1c149...</td><td>null</td><td>null</td><td>null</td><td>null</td><td>null</td><td>null</td><td>USA</td><td>null</td><td>null</td><td>null</td><td>null</td><td>null</td><td>null</td><td>null</td><td>2025-07-26 01:49:...</td></tr>\n",
       "<tr><td>e3b0c44298fc1c149...</td><td>null</td><td>null</td><td>null</td><td>null</td><td>null</td><td>null</td><td>USA</td><td>null</td><td>null</td><td>null</td><td>null</td><td>null</td><td>null</td><td>null</td><td>2025-07-26 01:49:...</td></tr>\n",
       "<tr><td>e3b0c44298fc1c149...</td><td>null</td><td>null</td><td>null</td><td>null</td><td>null</td><td>null</td><td>USA</td><td>null</td><td>null</td><td>null</td><td>null</td><td>null</td><td>null</td><td>null</td><td>2025-07-26 01:49:...</td></tr>\n",
       "<tr><td>e3b0c44298fc1c149...</td><td>null</td><td>null</td><td>null</td><td>null</td><td>null</td><td>null</td><td>USA</td><td>null</td><td>null</td><td>null</td><td>null</td><td>null</td><td>null</td><td>null</td><td>2025-07-26 01:49:...</td></tr>\n",
       "<tr><td>e3b0c44298fc1c149...</td><td>null</td><td>null</td><td>null</td><td>null</td><td>null</td><td>null</td><td>USA</td><td>null</td><td>null</td><td>null</td><td>null</td><td>null</td><td>null</td><td>null</td><td>2025-07-26 01:49:...</td></tr>\n",
       "<tr><td>e3b0c44298fc1c149...</td><td>null</td><td>null</td><td>null</td><td>null</td><td>null</td><td>null</td><td>USA</td><td>null</td><td>null</td><td>null</td><td>null</td><td>null</td><td>null</td><td>null</td><td>2025-07-26 01:49:...</td></tr>\n",
       "<tr><td>e3b0c44298fc1c149...</td><td>null</td><td>null</td><td>null</td><td>null</td><td>null</td><td>null</td><td>USA</td><td>null</td><td>null</td><td>null</td><td>null</td><td>null</td><td>null</td><td>null</td><td>2025-07-26 01:49:...</td></tr>\n",
       "<tr><td>e3b0c44298fc1c149...</td><td>null</td><td>null</td><td>null</td><td>null</td><td>null</td><td>null</td><td>USA</td><td>null</td><td>null</td><td>null</td><td>null</td><td>null</td><td>null</td><td>null</td><td>2025-07-26 01:49:...</td></tr>\n",
       "<tr><td>e3b0c44298fc1c149...</td><td>null</td><td>null</td><td>null</td><td>null</td><td>null</td><td>null</td><td>USA</td><td>null</td><td>null</td><td>null</td><td>null</td><td>null</td><td>null</td><td>null</td><td>2025-07-26 01:49:...</td></tr>\n",
       "</table>\n",
       "only showing top 20 rows\n"
      ],
      "text/plain": [
       "+--------------------+---------+----------+--------------+----------+----------+--------+-------+-----+---------+-------------------+---------------+----------------+----------------+-------------------------+--------------------+\n",
       "|           member_id|emp_title|emp_length|home_ownership|annual_inc|addr_state|zip_code|country|grade|sub_grade|verification_status|tot_hi_cred_lim|application_type|annual_inc_joint|verification_status_joint|                Time|\n",
       "+--------------------+---------+----------+--------------+----------+----------+--------+-------+-----+---------+-------------------+---------------+----------------+----------------+-------------------------+--------------------+\n",
       "|e3b0c44298fc1c149...|     null|      null|          null|      null|      null|    null|    USA| null|     null|               null|           null|            null|            null|                     null|2025-07-26 01:49:...|\n",
       "|e3b0c44298fc1c149...|     null|      null|          null|      null|      null|    null|    USA| null|     null|               null|           null|            null|            null|                     null|2025-07-26 01:49:...|\n",
       "|e3b0c44298fc1c149...|     null|      null|          null|      null|      null|    null|    USA| null|     null|               null|           null|            null|            null|                     null|2025-07-26 01:49:...|\n",
       "|e3b0c44298fc1c149...|     null|      null|          null|      null|      null|    null|    USA| null|     null|               null|           null|            null|            null|                     null|2025-07-26 01:49:...|\n",
       "|e3b0c44298fc1c149...|     null|      null|          null|      null|      null|    null|    USA| null|     null|               null|           null|            null|            null|                     null|2025-07-26 01:49:...|\n",
       "|e3b0c44298fc1c149...|     null|      null|          null|      null|      null|    null|    USA| null|     null|               null|           null|            null|            null|                     null|2025-07-26 01:49:...|\n",
       "|e3b0c44298fc1c149...|     null|      null|          null|      null|      null|    null|    USA| null|     null|               null|           null|            null|            null|                     null|2025-07-26 01:49:...|\n",
       "|e3b0c44298fc1c149...|     null|      null|          null|      null|      null|    null|    USA| null|     null|               null|           null|            null|            null|                     null|2025-07-26 01:49:...|\n",
       "|e3b0c44298fc1c149...|     null|      null|          null|      null|      null|    null|    USA| null|     null|               null|           null|            null|            null|                     null|2025-07-26 01:49:...|\n",
       "|e3b0c44298fc1c149...|     null|      null|          null|      null|      null|    null|    USA| null|     null|               null|           null|            null|            null|                     null|2025-07-26 01:49:...|\n",
       "|e3b0c44298fc1c149...|     null|      null|          null|      null|      null|    null|    USA| null|     null|               null|           null|            null|            null|                     null|2025-07-26 01:49:...|\n",
       "|e3b0c44298fc1c149...|     null|      null|          null|      null|      null|    null|    USA| null|     null|               null|           null|            null|            null|                     null|2025-07-26 01:49:...|\n",
       "|e3b0c44298fc1c149...|     null|      null|          null|      null|      null|    null|    USA| null|     null|               null|           null|            null|            null|                     null|2025-07-26 01:49:...|\n",
       "|e3b0c44298fc1c149...|     null|      null|          null|      null|      null|    null|    USA| null|     null|               null|           null|            null|            null|                     null|2025-07-26 01:49:...|\n",
       "|e3b0c44298fc1c149...|     null|      null|          null|      null|      null|    null|    USA| null|     null|               null|           null|            null|            null|                     null|2025-07-26 01:49:...|\n",
       "|e3b0c44298fc1c149...|     null|      null|          null|      null|      null|    null|    USA| null|     null|               null|           null|            null|            null|                     null|2025-07-26 01:49:...|\n",
       "|e3b0c44298fc1c149...|     null|      null|          null|      null|      null|    null|    USA| null|     null|               null|           null|            null|            null|                     null|2025-07-26 01:49:...|\n",
       "|e3b0c44298fc1c149...|     null|      null|          null|      null|      null|    null|    USA| null|     null|               null|           null|            null|            null|                     null|2025-07-26 01:49:...|\n",
       "|e3b0c44298fc1c149...|     null|      null|          null|      null|      null|    null|    USA| null|     null|               null|           null|            null|            null|                     null|2025-07-26 01:49:...|\n",
       "|e3b0c44298fc1c149...|     null|      null|          null|      null|      null|    null|    USA| null|     null|               null|           null|            null|            null|                     null|2025-07-26 01:49:...|\n",
       "+--------------------+---------+----------+--------------+----------+----------+--------+-------+-----+---------+-------------------+---------------+----------------+----------------+-------------------------+--------------------+\n",
       "only showing top 20 rows"
      ]
     },
     "execution_count": 24,
     "metadata": {},
     "output_type": "execute_result"
    }
   ],
   "source": [
    "df3.filter(\"annual_inc is null\")"
   ]
  },
  {
   "cell_type": "code",
   "execution_count": 25,
   "id": "57cebd5e",
   "metadata": {},
   "outputs": [
    {
     "data": {
      "text/plain": [
       "37"
      ]
     },
     "execution_count": 25,
     "metadata": {},
     "output_type": "execute_result"
    }
   ],
   "source": [
    "df3.filter(\"annual_inc is null\").count()"
   ]
  },
  {
   "cell_type": "code",
   "execution_count": 26,
   "id": "d9c2726d",
   "metadata": {},
   "outputs": [
    {
     "data": {
      "text/plain": [
       "2260701"
      ]
     },
     "execution_count": 26,
     "metadata": {},
     "output_type": "execute_result"
    }
   ],
   "source": [
    "df3.count()"
   ]
  },
  {
   "cell_type": "code",
   "execution_count": 27,
   "id": "7910573a",
   "metadata": {},
   "outputs": [],
   "source": [
    "columns = [\n",
    "    \"emp_title\", \"emp_length\", \"home_ownership\", \"annual_inc\", \"addr_state\",\n",
    "    \"zip_code\", \"country\", \"grade\", \"sub_grade\", \"verification_status\",\n",
    "    \"tot_hi_cred_lim\", \"application_type\", \"annual_inc_joint\", \"verification_status_joint\"\n",
    "]"
   ]
  },
  {
   "cell_type": "code",
   "execution_count": 28,
   "id": "ef894f25",
   "metadata": {},
   "outputs": [],
   "source": [
    "df4 = df3.na.drop(subset = columns)   # use wisely"
   ]
  },
  {
   "cell_type": "code",
   "execution_count": 29,
   "id": "ca8a3173",
   "metadata": {},
   "outputs": [
    {
     "data": {
      "text/plain": [
       "98112"
      ]
     },
     "execution_count": 29,
     "metadata": {},
     "output_type": "execute_result"
    }
   ],
   "source": [
    "df4.count()"
   ]
  },
  {
   "cell_type": "code",
   "execution_count": 30,
   "id": "0dbaf0e5",
   "metadata": {},
   "outputs": [
    {
     "data": {
      "text/html": [
       "<table border='1'>\n",
       "<tr><th>member_id</th><th>emp_title</th><th>emp_length</th><th>home_ownership</th><th>annual_inc</th><th>addr_state</th><th>zip_code</th><th>country</th><th>grade</th><th>sub_grade</th><th>verification_status</th><th>tot_hi_cred_lim</th><th>application_type</th><th>annual_inc_joint</th><th>verification_status_joint</th><th>Time</th></tr>\n",
       "</table>\n"
      ],
      "text/plain": [
       "+---------+---------+----------+--------------+----------+----------+--------+-------+-----+---------+-------------------+---------------+----------------+----------------+-------------------------+----+\n",
       "|member_id|emp_title|emp_length|home_ownership|annual_inc|addr_state|zip_code|country|grade|sub_grade|verification_status|tot_hi_cred_lim|application_type|annual_inc_joint|verification_status_joint|Time|\n",
       "+---------+---------+----------+--------------+----------+----------+--------+-------+-----+---------+-------------------+---------------+----------------+----------------+-------------------------+----+\n",
       "+---------+---------+----------+--------------+----------+----------+--------+-------+-----+---------+-------------------+---------------+----------------+----------------+-------------------------+----+"
      ]
     },
     "execution_count": 30,
     "metadata": {},
     "output_type": "execute_result"
    }
   ],
   "source": [
    "df4.filter(\"annual_inc is null\")"
   ]
  },
  {
   "cell_type": "markdown",
   "id": "20132be3",
   "metadata": {},
   "source": [
    "# continue "
   ]
  },
  {
   "cell_type": "code",
   "execution_count": 31,
   "id": "a73905e9",
   "metadata": {},
   "outputs": [
    {
     "data": {
      "text/plain": [
       "2260664"
      ]
     },
     "execution_count": 31,
     "metadata": {},
     "output_type": "execute_result"
    }
   ],
   "source": [
    "df2.count()"
   ]
  },
  {
   "cell_type": "code",
   "execution_count": 32,
   "id": "0ca65486",
   "metadata": {},
   "outputs": [
    {
     "data": {
      "text/html": [
       "<table border='1'>\n",
       "<tr><th>member_id</th><th>emp_title</th><th>emp_length</th><th>home_ownership</th><th>annual_inc</th><th>addr_state</th><th>zip_code</th><th>country</th><th>grade</th><th>sub_grade</th><th>verification_status</th><th>tot_hi_cred_lim</th><th>application_type</th><th>annual_inc_joint</th><th>verification_status_joint</th></tr>\n",
       "<tr><td>b59d80da191f5b573...</td><td>null</td><td>null</td><td>RENT</td><td>50000.0</td><td>OR</td><td>973xx</td><td>USA</td><td>A</td><td>A5</td><td>Source Verified</td><td>8600.0</td><td>Individual</td><td>null</td><td>null</td></tr>\n",
       "<tr><td>202d9f56ecb7c3bc9...</td><td>police officer</td><td>7 years</td><td>OWN</td><td>85000.0</td><td>TX</td><td>799xx</td><td>USA</td><td>A</td><td>A5</td><td>Source Verified</td><td>272384.0</td><td>Individual</td><td>null</td><td>null</td></tr>\n",
       "<tr><td>e5a140c0922b554b9...</td><td>community living ...</td><td>6 years</td><td>RENT</td><td>48000.0</td><td>NY</td><td>146xx</td><td>USA</td><td>B</td><td>B2</td><td>Source Verified</td><td>85092.0</td><td>Individual</td><td>null</td><td>null</td></tr>\n",
       "<tr><td>e12aefc548f750777...</td><td>Office</td><td>10+ years</td><td>OWN</td><td>33000.0</td><td>CT</td><td>067xx</td><td>USA</td><td>F</td><td>F1</td><td>Verified</td><td>7100.0</td><td>Individual</td><td>null</td><td>null</td></tr>\n",
       "<tr><td>1b3a50d854fbbf97e...</td><td>Special Tooling I...</td><td>10+ years</td><td>MORTGAGE</td><td>81000.0</td><td>TX</td><td>791xx</td><td>USA</td><td>E</td><td>E5</td><td>Verified</td><td>190274.0</td><td>Individual</td><td>null</td><td>null</td></tr>\n",
       "</table>\n"
      ],
      "text/plain": [
       "+--------------------+--------------------+----------+--------------+----------+----------+--------+-------+-----+---------+-------------------+---------------+----------------+----------------+-------------------------+\n",
       "|           member_id|           emp_title|emp_length|home_ownership|annual_inc|addr_state|zip_code|country|grade|sub_grade|verification_status|tot_hi_cred_lim|application_type|annual_inc_joint|verification_status_joint|\n",
       "+--------------------+--------------------+----------+--------------+----------+----------+--------+-------+-----+---------+-------------------+---------------+----------------+----------------+-------------------------+\n",
       "|b59d80da191f5b573...|                null|      null|          RENT|   50000.0|        OR|   973xx|    USA|    A|       A5|    Source Verified|         8600.0|      Individual|            null|                     null|\n",
       "|202d9f56ecb7c3bc9...|      police officer|   7 years|           OWN|   85000.0|        TX|   799xx|    USA|    A|       A5|    Source Verified|       272384.0|      Individual|            null|                     null|\n",
       "|e5a140c0922b554b9...|community living ...|   6 years|          RENT|   48000.0|        NY|   146xx|    USA|    B|       B2|    Source Verified|        85092.0|      Individual|            null|                     null|\n",
       "|e12aefc548f750777...|              Office| 10+ years|           OWN|   33000.0|        CT|   067xx|    USA|    F|       F1|           Verified|         7100.0|      Individual|            null|                     null|\n",
       "|1b3a50d854fbbf97e...|Special Tooling I...| 10+ years|      MORTGAGE|   81000.0|        TX|   791xx|    USA|    E|       E5|           Verified|       190274.0|      Individual|            null|                     null|\n",
       "+--------------------+--------------------+----------+--------------+----------+----------+--------+-------+-----+---------+-------------------+---------------+----------------+----------------+-------------------------+"
      ]
     },
     "execution_count": 32,
     "metadata": {},
     "output_type": "execute_result"
    }
   ],
   "source": [
    "df2.limit(5)"
   ]
  },
  {
   "cell_type": "code",
   "execution_count": 33,
   "id": "9d3feca1",
   "metadata": {},
   "outputs": [],
   "source": [
    "df5 = df2.withColumn(\"emp_length\",regexp_replace(col(\"emp_length\"),\"\\D\",\" \"))"
   ]
  },
  {
   "cell_type": "code",
   "execution_count": 34,
   "id": "6440e161",
   "metadata": {},
   "outputs": [],
   "source": [
    "df6 = df5.withColumn(\"emp_length\",df5.emp_length.cast(\"int\"))"
   ]
  },
  {
   "cell_type": "code",
   "execution_count": 35,
   "id": "5dff1d77",
   "metadata": {},
   "outputs": [
    {
     "data": {
      "text/html": [
       "<table border='1'>\n",
       "<tr><th>member_id</th><th>emp_title</th><th>emp_length</th><th>home_ownership</th><th>annual_inc</th><th>addr_state</th><th>zip_code</th><th>country</th><th>grade</th><th>sub_grade</th><th>verification_status</th><th>tot_hi_cred_lim</th><th>application_type</th><th>annual_inc_joint</th><th>verification_status_joint</th></tr>\n",
       "<tr><td>6abfb202a2d279e5b...</td><td>Teacher</td><td>10</td><td>MORTGAGE</td><td>70000.0</td><td>OH</td><td>440xx</td><td>USA</td><td>A</td><td>A2</td><td>Source Verified</td><td>192719.0</td><td>Individual</td><td>null</td><td>null</td></tr>\n",
       "<tr><td>62150e21cb59a4f98...</td><td>Owner</td><td>3</td><td>RENT</td><td>55000.0</td><td>FL</td><td>339xx</td><td>USA</td><td>B</td><td>B4</td><td>Source Verified</td><td>24200.0</td><td>Individual</td><td>null</td><td>null</td></tr>\n",
       "<tr><td>e3eddc6b60c6a8572...</td><td>Director</td><td>3</td><td>MORTGAGE</td><td>275000.0</td><td>MO</td><td>630xx</td><td>USA</td><td>C</td><td>C3</td><td>Verified</td><td>616187.0</td><td>Individual</td><td>null</td><td>null</td></tr>\n",
       "<tr><td>1969aac54bd43471b...</td><td>Return processor</td><td>1</td><td>RENT</td><td>31000.0</td><td>PA</td><td>176xx</td><td>USA</td><td>C</td><td>C4</td><td>Not Verified</td><td>54451.0</td><td>Joint App</td><td>75000.0</td><td>Not Verified</td></tr>\n",
       "<tr><td>1ddfbc1602a396578...</td><td>Advisor</td><td>10</td><td>RENT</td><td>60000.0</td><td>CA</td><td>946xx</td><td>USA</td><td>G</td><td>G3</td><td>Source Verified</td><td>161548.0</td><td>Individual</td><td>null</td><td>null</td></tr>\n",
       "</table>\n"
      ],
      "text/plain": [
       "+--------------------+--------------------+----------+--------------+----------+----------+--------+-------+-----+---------+-------------------+---------------+----------------+----------------+-------------------------+\n",
       "|           member_id|           emp_title|emp_length|home_ownership|annual_inc|addr_state|zip_code|country|grade|sub_grade|verification_status|tot_hi_cred_lim|application_type|annual_inc_joint|verification_status_joint|\n",
       "+--------------------+--------------------+----------+--------------+----------+----------+--------+-------+-----+---------+-------------------+---------------+----------------+----------------+-------------------------+\n",
       "|e49013d6da05c1d0d...|  Owner and Operator|         4|          RENT|   38323.0|        FL|   322xx|    USA|    E|       E1|           Verified|        60070.0|      Individual|            null|                     null|\n",
       "|045fc7575519dbd3c...|               Owner|         3|      MORTGAGE|  180000.0|        NJ|   077xx|    USA|    C|       C4|       Not Verified|       348500.0|      Individual|            null|                     null|\n",
       "|4aa33ba9585209752...|           Office HR|         4|           OWN|   65000.0|        PA|   153xx|    USA|    A|       A5|           Verified|       284856.0|      Individual|            null|                     null|\n",
       "|8e4918d04a7d178a8...|            Corporal|        10|      MORTGAGE|   98000.0|        AZ|   864xx|    USA|    D|       D5|       Not Verified|       373560.0|      Individual|            null|                     null|\n",
       "|18cb2f9ac68fc2ca7...|Service Delivery ...|         8|      MORTGAGE|  105000.0|        KY|   400xx|    USA|    D|       D3|           Verified|       137644.0|      Individual|            null|                     null|\n",
       "+--------------------+--------------------+----------+--------------+----------+----------+--------+-------+-----+---------+-------------------+---------------+----------------+----------------+-------------------------+"
      ]
     },
     "execution_count": 35,
     "metadata": {},
     "output_type": "execute_result"
    }
   ],
   "source": [
    "df6.limit(5)"
   ]
  },
  {
   "cell_type": "code",
   "execution_count": 38,
   "id": "0fa9dd3a",
   "metadata": {},
   "outputs": [
    {
     "data": {
      "text/plain": [
       "2260664"
      ]
     },
     "execution_count": 38,
     "metadata": {},
     "output_type": "execute_result"
    }
   ],
   "source": [
    "df6.count()"
   ]
  },
  {
   "cell_type": "code",
   "execution_count": 39,
   "id": "30f88a79",
   "metadata": {},
   "outputs": [],
   "source": [
    "df7 = df6.distinct()"
   ]
  },
  {
   "cell_type": "code",
   "execution_count": 45,
   "id": "99c10cde",
   "metadata": {},
   "outputs": [
    {
     "data": {
      "text/plain": [
       "2260634"
      ]
     },
     "execution_count": 45,
     "metadata": {},
     "output_type": "execute_result"
    }
   ],
   "source": [
    "df7.count()"
   ]
  },
  {
   "cell_type": "code",
   "execution_count": 46,
   "id": "43e766b4",
   "metadata": {},
   "outputs": [],
   "source": [
    "df7.createOrReplaceTempView(\"cust_data\")"
   ]
  },
  {
   "cell_type": "code",
   "execution_count": 47,
   "id": "e929395f",
   "metadata": {},
   "outputs": [
    {
     "data": {
      "text/html": [
       "<table border='1'>\n",
       "<tr><th>member_id</th><th>emp_title</th><th>emp_length</th><th>home_ownership</th><th>annual_inc</th><th>addr_state</th><th>zip_code</th><th>country</th><th>grade</th><th>sub_grade</th><th>verification_status</th><th>tot_hi_cred_lim</th><th>application_type</th><th>annual_inc_joint</th><th>verification_status_joint</th></tr>\n",
       "<tr><td>1d4e1ef4353b73c00...</td><td>Electrician</td><td>2</td><td>MORTGAGE</td><td>50000.0</td><td>IL</td><td>606xx</td><td>USA</td><td>C</td><td>C3</td><td>Not Verified</td><td>66064.0</td><td>Individual</td><td>null</td><td>null</td></tr>\n",
       "<tr><td>cd3fca2113a8df06b...</td><td>Filler</td><td>10</td><td>RENT</td><td>50000.0</td><td>TX</td><td>750xx</td><td>USA</td><td>E</td><td>E3</td><td>Verified</td><td>65766.0</td><td>Individual</td><td>null</td><td>null</td></tr>\n",
       "<tr><td>483d0032e0cfb3814...</td><td>Pharmacy Technician</td><td>4</td><td>RENT</td><td>32895.0</td><td>CA</td><td>915xx</td><td>USA</td><td>B</td><td>B5</td><td>Not Verified</td><td>86191.0</td><td>Individual</td><td>null</td><td>null</td></tr>\n",
       "<tr><td>d1f96fc86e9db741d...</td><td>RN</td><td>7</td><td>MORTGAGE</td><td>95000.0</td><td>MI</td><td>484xx</td><td>USA</td><td>B</td><td>B1</td><td>Not Verified</td><td>240839.0</td><td>Individual</td><td>null</td><td>null</td></tr>\n",
       "<tr><td>f112010a451be99d9...</td><td>DSM</td><td>4</td><td>MORTGAGE</td><td>140000.0</td><td>CO</td><td>801xx</td><td>USA</td><td>D</td><td>D5</td><td>Source Verified</td><td>360864.0</td><td>Individual</td><td>null</td><td>null</td></tr>\n",
       "</table>\n"
      ],
      "text/plain": [
       "+--------------------+--------------------+----------+--------------+----------+----------+--------+-------+-----+---------+-------------------+---------------+----------------+----------------+-------------------------+\n",
       "|           member_id|           emp_title|emp_length|home_ownership|annual_inc|addr_state|zip_code|country|grade|sub_grade|verification_status|tot_hi_cred_lim|application_type|annual_inc_joint|verification_status_joint|\n",
       "+--------------------+--------------------+----------+--------------+----------+----------+--------+-------+-----+---------+-------------------+---------------+----------------+----------------+-------------------------+\n",
       "|2afa7e3a11a31c714...|                null|         7|           OWN|   75000.0|        PA|   191xx|    USA|    D|       D4|    Source Verified|        46447.0|      Individual|            null|                     null|\n",
       "|561709439602f72d9...|           Secretary|        10|          RENT|   24000.0|        OR|   973xx|    USA|    B|       B4|       Not Verified|        58432.0|      Individual|            null|                     null|\n",
       "|aa3b5db50e2e44315...|                null|         8|      MORTGAGE|  120000.0|        NH|   030xx|    USA|    C|       C3|           Verified|       331362.0|      Individual|            null|                     null|\n",
       "|a274317eb9bda7007...|Maintenance Super...|         2|      MORTGAGE|   65000.0|        TX|   775xx|    USA|    A|       A2|           Verified|       120500.0|      Individual|            null|                     null|\n",
       "|292c59d8572e43ddb...|     General Manager|         7|      MORTGAGE|   95000.0|        PA|   194xx|    USA|    C|       C2|       Not Verified|        56870.0|      Individual|            null|                     null|\n",
       "+--------------------+--------------------+----------+--------------+----------+----------+--------+-------+-----+---------+-------------------+---------------+----------------+----------------+-------------------------+"
      ]
     },
     "execution_count": 47,
     "metadata": {},
     "output_type": "execute_result"
    }
   ],
   "source": [
    "spark.sql(\"select * from cust_data limit 5\")"
   ]
  },
  {
   "cell_type": "code",
   "execution_count": 48,
   "id": "917ee037",
   "metadata": {},
   "outputs": [],
   "source": [
    "df8 = spark.sql(\"select floor(avg(emp_length)) as leng from cust_data\").collect()"
   ]
  },
  {
   "cell_type": "code",
   "execution_count": 51,
   "id": "f9ff6728",
   "metadata": {},
   "outputs": [],
   "source": [
    "df9 = df8[0][0]"
   ]
  },
  {
   "cell_type": "code",
   "execution_count": 53,
   "id": "a5ab04b7",
   "metadata": {},
   "outputs": [],
   "source": [
    "df10 = df7.na.fill(df9,subset=['emp_length'])"
   ]
  },
  {
   "cell_type": "code",
   "execution_count": 55,
   "id": "b63c4506",
   "metadata": {},
   "outputs": [
    {
     "data": {
      "text/html": [
       "<table border='1'>\n",
       "<tr><th>member_id</th><th>emp_title</th><th>emp_length</th><th>home_ownership</th><th>annual_inc</th><th>addr_state</th><th>zip_code</th><th>country</th><th>grade</th><th>sub_grade</th><th>verification_status</th><th>tot_hi_cred_lim</th><th>application_type</th><th>annual_inc_joint</th><th>verification_status_joint</th></tr>\n",
       "<tr><td>e6276e5fd0dc1025c...</td><td>Director of Finan...</td><td>10</td><td>MORTGAGE</td><td>55000.0</td><td>MS</td><td>391xx</td><td>USA</td><td>D</td><td>D2</td><td>Not Verified</td><td>136370.0</td><td>Individual</td><td>null</td><td>null</td></tr>\n",
       "<tr><td>f97af2fa6c6d36947...</td><td>Dock supervisor</td><td>10</td><td>MORTGAGE</td><td>75000.0</td><td>UT</td><td>840xx</td><td>USA</td><td>B</td><td>B1</td><td>Not Verified</td><td>291076.0</td><td>Individual</td><td>null</td><td>null</td></tr>\n",
       "<tr><td>4058b0a68819efa8c...</td><td>Sales Manager</td><td>9</td><td>MORTGAGE</td><td>205000.0</td><td>FL</td><td>320xx</td><td>USA</td><td>A</td><td>A4</td><td>Source Verified</td><td>543919.0</td><td>Individual</td><td>null</td><td>null</td></tr>\n",
       "<tr><td>66b0d8f9f34c63822...</td><td>Master painter</td><td>7</td><td>OWN</td><td>40000.0</td><td>PA</td><td>191xx</td><td>USA</td><td>B</td><td>B2</td><td>Not Verified</td><td>21300.0</td><td>Individual</td><td>null</td><td>null</td></tr>\n",
       "<tr><td>05f1f2469aa68e446...</td><td>Plant manager</td><td>4</td><td>MORTGAGE</td><td>102000.0</td><td>GA</td><td>304xx</td><td>USA</td><td>D</td><td>D1</td><td>Not Verified</td><td>344758.0</td><td>Individual</td><td>null</td><td>null</td></tr>\n",
       "<tr><td>35b43c772817a953d...</td><td>Pharmacy Manager</td><td>10</td><td>MORTGAGE</td><td>125000.0</td><td>FL</td><td>322xx</td><td>USA</td><td>A</td><td>A1</td><td>Verified</td><td>315302.0</td><td>Individual</td><td>null</td><td>null</td></tr>\n",
       "<tr><td>670a535867109cc0f...</td><td>Social Worker</td><td>9</td><td>RENT</td><td>66000.0</td><td>CA</td><td>907xx</td><td>USA</td><td>A</td><td>A4</td><td>Not Verified</td><td>85761.0</td><td>Individual</td><td>null</td><td>null</td></tr>\n",
       "<tr><td>a39678b787119fca4...</td><td>Locomotive Engineer</td><td>10</td><td>MORTGAGE</td><td>90000.0</td><td>NJ</td><td>077xx</td><td>USA</td><td>A</td><td>A2</td><td>Verified</td><td>304376.0</td><td>Joint App</td><td>155000.0</td><td>Not Verified</td></tr>\n",
       "<tr><td>8c2709f002e36c5fb...</td><td>Office manager</td><td>3</td><td>MORTGAGE</td><td>30000.0</td><td>WV</td><td>255xx</td><td>USA</td><td>B</td><td>B3</td><td>Verified</td><td>149487.0</td><td>Individual</td><td>null</td><td>null</td></tr>\n",
       "<tr><td>d72e66b19f12bfb0c...</td><td>Grocery manager</td><td>5</td><td>MORTGAGE</td><td>33425.6</td><td>AL</td><td>352xx</td><td>USA</td><td>B</td><td>B2</td><td>Verified</td><td>191175.0</td><td>Individual</td><td>null</td><td>null</td></tr>\n",
       "<tr><td>5ba63eabb17e62d64...</td><td>office/sales manager</td><td>5</td><td>RENT</td><td>60700.0</td><td>WA</td><td>984xx</td><td>USA</td><td>B</td><td>B2</td><td>Source Verified</td><td>115609.0</td><td>Individual</td><td>null</td><td>null</td></tr>\n",
       "<tr><td>1d98640fc0774f4e9...</td><td>Teacher</td><td>10</td><td>MORTGAGE</td><td>60000.0</td><td>MI</td><td>483xx</td><td>USA</td><td>D</td><td>D2</td><td>Source Verified</td><td>152582.0</td><td>Individual</td><td>null</td><td>null</td></tr>\n",
       "<tr><td>f6b2e26e882d9d417...</td><td>null</td><td>1</td><td>RENT</td><td>160000.0</td><td>CA</td><td>907xx</td><td>USA</td><td>E</td><td>E5</td><td>Source Verified</td><td>120670.0</td><td>Individual</td><td>null</td><td>null</td></tr>\n",
       "<tr><td>3f15fee0b1fa6f171...</td><td>Cashiering Mgr</td><td>7</td><td>RENT</td><td>69000.0</td><td>NJ</td><td>080xx</td><td>USA</td><td>B</td><td>B5</td><td>Source Verified</td><td>309942.0</td><td>Individual</td><td>null</td><td>null</td></tr>\n",
       "<tr><td>b5e4b703ab1890396...</td><td>Web Developer</td><td>5</td><td>RENT</td><td>84040.0</td><td>FL</td><td>327xx</td><td>USA</td><td>A</td><td>A1</td><td>Not Verified</td><td>123825.0</td><td>Individual</td><td>null</td><td>null</td></tr>\n",
       "<tr><td>1810d2f0845f81705...</td><td>Senior Production...</td><td>10</td><td>RENT</td><td>138000.0</td><td>TX</td><td>775xx</td><td>USA</td><td>D</td><td>D4</td><td>Not Verified</td><td>135806.0</td><td>Individual</td><td>null</td><td>null</td></tr>\n",
       "<tr><td>ea705702214f82651...</td><td>E5</td><td>10</td><td>RENT</td><td>60000.0</td><td>VA</td><td>221xx</td><td>USA</td><td>B</td><td>B5</td><td>Source Verified</td><td>53688.0</td><td>Individual</td><td>null</td><td>null</td></tr>\n",
       "<tr><td>10f41fef7c5360ebd...</td><td>Director St. Luke...</td><td>10</td><td>OWN</td><td>80000.0</td><td>KS</td><td>668xx</td><td>USA</td><td>B</td><td>B4</td><td>Not Verified</td><td>176877.0</td><td>Individual</td><td>null</td><td>null</td></tr>\n",
       "<tr><td>a275cd5426cabc56d...</td><td>Teacher</td><td>1</td><td>MORTGAGE</td><td>100000.0</td><td>NJ</td><td>080xx</td><td>USA</td><td>B</td><td>B5</td><td>Not Verified</td><td>233185.0</td><td>Individual</td><td>null</td><td>null</td></tr>\n",
       "<tr><td>9b143f4eba9a54225...</td><td>null</td><td>6</td><td>OWN</td><td>33000.0</td><td>FL</td><td>349xx</td><td>USA</td><td>A</td><td>A5</td><td>Source Verified</td><td>13000.0</td><td>Individual</td><td>null</td><td>null</td></tr>\n",
       "</table>\n",
       "only showing top 20 rows\n"
      ],
      "text/plain": [
       "DataFrame[member_id: string, emp_title: string, emp_length: int, home_ownership: string, annual_inc: string, addr_state: string, zip_code: string, country: string, grade: string, sub_grade: string, verification_status: string, tot_hi_cred_lim: string, application_type: string, annual_inc_joint: string, verification_status_joint: string]"
      ]
     },
     "execution_count": 55,
     "metadata": {},
     "output_type": "execute_result"
    }
   ],
   "source": [
    "df10"
   ]
  },
  {
   "cell_type": "code",
   "execution_count": 56,
   "id": "001cc798",
   "metadata": {},
   "outputs": [
    {
     "data": {
      "text/html": [
       "<table border='1'>\n",
       "<tr><th>member_id</th><th>emp_title</th><th>emp_length</th><th>home_ownership</th><th>annual_inc</th><th>addr_state</th><th>zip_code</th><th>country</th><th>grade</th><th>sub_grade</th><th>verification_status</th><th>tot_hi_cred_lim</th><th>application_type</th><th>annual_inc_joint</th><th>verification_status_joint</th></tr>\n",
       "<tr><td>14cdcfe33d4874cc3...</td><td>GSR Holdings Inc</td><td>10</td><td>RENT</td><td>32000.0</td><td>and help expand t...</td><td>and to be closer ...</td><td>USA</td><td>C</td><td>C2</td><td>Source Verified</td><td>null</td><td>0.0</td><td>18252.0</td><td>34.0</td></tr>\n",
       "<tr><td>62f74604b6e23cd77...</td><td>COMMUNISPACE CORP</td><td>2</td><td>RENT</td><td>41400.0</td><td>debt_consolidation</td><td>495.06&lt;br/&gt; Borro...</td><td>USA</td><td>C</td><td>C3</td><td>Not Verified</td><td>null</td><td>0.0</td><td>null</td><td>Individual</td></tr>\n",
       "<tr><td>ec384f7b0e9392f89...</td><td>Freedom Financial</td><td>4</td><td>RENT</td><td>60000.0</td><td>941xx</td><td>Paying Off a Loan...</td><td>USA</td><td>A</td><td>A4</td><td>Not Verified</td><td>0.0</td><td>1.0</td><td>Individual</td><td>null</td></tr>\n",
       "<tr><td>8a28488a7fb34eb52...</td><td>Pyramid Hotel Group</td><td>1</td><td>RENT</td><td>100000.0</td><td>000+) currently m...</td><td>000  Monthly expe...</td><td>USA</td><td>D</td><td>D5</td><td>Verified</td><td>null</td><td>Jun-2011</td><td>Mar-2019</td><td>570.0</td></tr>\n",
       "<tr><td>8d96e25325171af0b...</td><td>null</td><td>1</td><td>RENT</td><td>102000.0</td><td>and Child Health ...</td><td>Caterpillar</td><td>USA</td><td>D</td><td>D4</td><td>Not Verified</td><td>null</td><td>714.0</td><td>710.0</td><td>null</td></tr>\n",
       "<tr><td>3ba0b4b60c2058879...</td><td>CSC</td><td>2</td><td>MORTGAGE</td><td>64500.0</td><td>debt_consolidation</td><td>such that I do no...</td><td>USA</td><td>B</td><td>B3</td><td>Not Verified</td><td>null</td><td>0.0</td><td>null</td><td>Individual</td></tr>\n",
       "<tr><td>906dc706da2b45c73...</td><td>UPS</td><td>9</td><td>MORTGAGE</td><td>50400.0</td><td>Get our of debt</td><td>debt_consolidation</td><td>USA</td><td>F</td><td>F2</td><td>Verified</td><td>0.0</td><td>null</td><td>1.0</td><td>null</td></tr>\n",
       "<tr><td>16ebe35deb55028dc...</td><td>FDR Management LLC</td><td>2</td><td>RENT</td><td>52500.0</td><td>credit_card</td><td>if the $22500 LC ...</td><td>USA</td><td>D</td><td>D2</td><td>Verified</td><td>null</td><td>0.0</td><td>null</td><td>Individual</td></tr>\n",
       "<tr><td>7c976e904f66855ad...</td><td>SpanSource Techno...</td><td>1</td><td>MORTGAGE</td><td>100000.0</td><td>etc.  First</td><td>or legal arrangem...</td><td>USA</td><td>D</td><td>D1</td><td>Verified</td><td>null</td><td>7393.367160475102</td><td>7393.37</td><td>1393.37</td></tr>\n",
       "<tr><td>4131638a0988b03d6...</td><td>Barclay Card US</td><td>2</td><td>MORTGAGE</td><td>150000.0</td><td>is approximately ...</td><td>minus start-up co...</td><td>USA</td><td>E</td><td>E1</td><td>Not Verified</td><td>null</td><td>645.0</td><td>0.0</td><td>1.0</td></tr>\n",
       "<tr><td>5a16299964700b28e...</td><td>Harford County Go...</td><td>2</td><td>MORTGAGE</td><td>43900.0</td><td>without using thi...</td><td>400) by this Augu...</td><td>USA</td><td>B</td><td>B1</td><td>Not Verified</td><td>null</td><td>null</td><td>Jun-2014</td><td>695.0</td></tr>\n",
       "<tr><td>524a0935197fe360a...</td><td>MRM Entertainment...</td><td>10</td><td>RENT</td><td>71000.0</td><td>to get to the nex...</td><td>we have used our ...</td><td>USA</td><td>E</td><td>E3</td><td>Verified</td><td>null</td><td>11975.3</td><td>5342.91</td><td>419.38</td></tr>\n",
       "<tr><td>6541cb9a84f649071...</td><td>ITG TRANSPORTATIO...</td><td>2</td><td>RENT</td><td>54000.0</td><td>debt_consolidation</td><td>I would like to b...</td><td>USA</td><td>B</td><td>B1</td><td>Not Verified</td><td>null</td><td>0.0</td><td>null</td><td>Individual</td></tr>\n",
       "<tr><td>1c4a8199b62b11e9e...</td><td>Sungard Consultin...</td><td>1</td><td>RENT</td><td>59000.0</td><td>and have a strong...</td><td>and also administ...</td><td>USA</td><td>D</td><td>D1</td><td>Not Verified</td><td>null</td><td>725.0</td><td>0.0</td><td>1.0</td></tr>\n",
       "<tr><td>498e36178c1ef794c...</td><td>Expert Window Cle...</td><td>2</td><td>RENT</td><td>39456.0</td><td>these expenses we...</td><td>I would be fearfu...</td><td>USA</td><td>E</td><td>E1</td><td>Not Verified</td><td>null</td><td>Jan-2012</td><td>1822.88</td><td>Jan-2012</td></tr>\n",
       "<tr><td>094d105c6efd3422b...</td><td>PEC Management</td><td>3</td><td>OWN</td><td>15000.0</td><td>160xx</td><td>Duplex Investment</td><td>USA</td><td>A</td><td>A4</td><td>Not Verified</td><td>0.0</td><td>1.0</td><td>Individual</td><td>null</td></tr>\n",
       "<tr><td>3fa62b455020ff56f...</td><td>schlossberg solom...</td><td>10</td><td>OWN</td><td>69996.0</td><td>double sided body...</td><td>portable lint pac...</td><td>USA</td><td>A</td><td>A4</td><td>Not Verified</td><td>null</td><td>8541.663712072801</td><td>8007.81</td><td>541.67</td></tr>\n",
       "<tr><td>6f0fbded1c0c7ea3d...</td><td>FM Global</td><td>4</td><td>MORTGAGE</td><td>80000.0</td><td>Eliminating Credi...</td><td>debt_consolidation</td><td>USA</td><td>B</td><td>B5</td><td>Not Verified</td><td>1.0</td><td>null</td><td>1.0</td><td>null</td></tr>\n",
       "<tr><td>2a2053d67e3d585f6...</td><td>us government</td><td>10</td><td>MORTGAGE</td><td>158000.0</td><td>152xx</td><td>debt/medical</td><td>USA</td><td>C</td><td>C5</td><td>Verified</td><td>0.0</td><td>1.0</td><td>Individual</td><td>null</td></tr>\n",
       "<tr><td>fa77acf4ac602ab26...</td><td>US Air Force</td><td>9</td><td>MORTGAGE</td><td>91200.0</td><td>other</td><td>and am gainfully ...</td><td>USA</td><td>A</td><td>A2</td><td>Not Verified</td><td>null</td><td>0.0</td><td>null</td><td>Individual</td></tr>\n",
       "</table>\n",
       "only showing top 20 rows\n"
      ],
      "text/plain": [
       "+--------------------+--------------------+----------+--------------+----------+--------------------+--------------------+-------+-----+---------+-------------------+---------------+-----------------+----------------+-------------------------+\n",
       "|           member_id|           emp_title|emp_length|home_ownership|annual_inc|          addr_state|            zip_code|country|grade|sub_grade|verification_status|tot_hi_cred_lim| application_type|annual_inc_joint|verification_status_joint|\n",
       "+--------------------+--------------------+----------+--------------+----------+--------------------+--------------------+-------+-----+---------+-------------------+---------------+-----------------+----------------+-------------------------+\n",
       "|62f74604b6e23cd77...|   COMMUNISPACE CORP|         2|          RENT|   41400.0|  debt_consolidation|495.06<br/> Borro...|    USA|    C|       C3|       Not Verified|           null|              0.0|            null|               Individual|\n",
       "|ec384f7b0e9392f89...|   Freedom Financial|         4|          RENT|   60000.0|               941xx|Paying Off a Loan...|    USA|    A|       A4|       Not Verified|            0.0|              1.0|      Individual|                     null|\n",
       "|8a28488a7fb34eb52...| Pyramid Hotel Group|         1|          RENT|  100000.0|000+) currently m...|000  Monthly expe...|    USA|    D|       D5|           Verified|           null|         Jun-2011|        Mar-2019|                    570.0|\n",
       "|14cdcfe33d4874cc3...|    GSR Holdings Inc|        10|          RENT|   32000.0|and help expand t...|and to be closer ...|    USA|    C|       C2|    Source Verified|           null|              0.0|         18252.0|                     34.0|\n",
       "|8d96e25325171af0b...|                null|         1|          RENT|  102000.0|and Child Health ...|         Caterpillar|    USA|    D|       D4|       Not Verified|           null|            714.0|           710.0|                     null|\n",
       "|3ba0b4b60c2058879...|                 CSC|         2|      MORTGAGE|   64500.0|  debt_consolidation|such that I do no...|    USA|    B|       B3|       Not Verified|           null|              0.0|            null|               Individual|\n",
       "|16ebe35deb55028dc...|  FDR Management LLC|         2|          RENT|   52500.0|         credit_card|if the $22500 LC ...|    USA|    D|       D2|           Verified|           null|              0.0|            null|               Individual|\n",
       "|7c976e904f66855ad...|SpanSource Techno...|         1|      MORTGAGE|  100000.0|         etc.  First|or legal arrangem...|    USA|    D|       D1|           Verified|           null|7393.367160475102|         7393.37|                  1393.37|\n",
       "|906dc706da2b45c73...|                 UPS|         9|      MORTGAGE|   50400.0|     Get our of debt|  debt_consolidation|    USA|    F|       F2|           Verified|            0.0|             null|             1.0|                     null|\n",
       "|4131638a0988b03d6...|     Barclay Card US|         2|      MORTGAGE|  150000.0|is approximately ...|minus start-up co...|    USA|    E|       E1|       Not Verified|           null|            645.0|             0.0|                      1.0|\n",
       "|5a16299964700b28e...|Harford County Go...|         2|      MORTGAGE|   43900.0|without using thi...|400) by this Augu...|    USA|    B|       B1|       Not Verified|           null|             null|        Jun-2014|                    695.0|\n",
       "|524a0935197fe360a...|MRM Entertainment...|        10|          RENT|   71000.0|to get to the nex...|we have used our ...|    USA|    E|       E3|           Verified|           null|          11975.3|         5342.91|                   419.38|\n",
       "|6541cb9a84f649071...|ITG TRANSPORTATIO...|         2|          RENT|   54000.0|  debt_consolidation|I would like to b...|    USA|    B|       B1|       Not Verified|           null|              0.0|            null|               Individual|\n",
       "|1c4a8199b62b11e9e...|Sungard Consultin...|         1|          RENT|   59000.0|and have a strong...|and also administ...|    USA|    D|       D1|       Not Verified|           null|            725.0|             0.0|                      1.0|\n",
       "|498e36178c1ef794c...|Expert Window Cle...|         2|          RENT|   39456.0|these expenses we...|I would be fearfu...|    USA|    E|       E1|       Not Verified|           null|         Jan-2012|         1822.88|                 Jan-2012|\n",
       "|094d105c6efd3422b...|      PEC Management|         3|           OWN|   15000.0|               160xx|   Duplex Investment|    USA|    A|       A4|       Not Verified|            0.0|              1.0|      Individual|                     null|\n",
       "|3fa62b455020ff56f...|schlossberg solom...|        10|           OWN|   69996.0|double sided body...|portable lint pac...|    USA|    A|       A4|       Not Verified|           null|8541.663712072801|         8007.81|                   541.67|\n",
       "|6f0fbded1c0c7ea3d...|           FM Global|         4|      MORTGAGE|   80000.0|Eliminating Credi...|  debt_consolidation|    USA|    B|       B5|       Not Verified|            1.0|             null|             1.0|                     null|\n",
       "|2a2053d67e3d585f6...|       us government|        10|      MORTGAGE|  158000.0|               152xx|        debt/medical|    USA|    C|       C5|           Verified|            0.0|              1.0|      Individual|                     null|\n",
       "|fa77acf4ac602ab26...|        US Air Force|         9|      MORTGAGE|   91200.0|               other|and am gainfully ...|    USA|    A|       A2|       Not Verified|           null|              0.0|            null|               Individual|\n",
       "+--------------------+--------------------+----------+--------------+----------+--------------------+--------------------+-------+-----+---------+-------------------+---------------+-----------------+----------------+-------------------------+\n",
       "only showing top 20 rows"
      ]
     },
     "execution_count": 56,
     "metadata": {},
     "output_type": "execute_result"
    }
   ],
   "source": [
    "df10.filter(\"length(addr_state) > 2\")"
   ]
  },
  {
   "cell_type": "code",
   "execution_count": 58,
   "id": "0116c66e",
   "metadata": {},
   "outputs": [],
   "source": [
    "df11 = df10.withColumn(\"addr_state\",\n",
    "                      when(length(col(\"addr_state\")) > 2, 'NA').otherwise(col(\"addr_state\"))\n",
    "                      )"
   ]
  },
  {
   "cell_type": "code",
   "execution_count": 60,
   "id": "7ba908af",
   "metadata": {},
   "outputs": [],
   "source": [
    "df12 = df11.withColumn(\n",
    "    \"zip_code\",\n",
    "    when(~col(\"zip_code\").rlike(\"^[0-9]\"), \"not defined\").otherwise(col(\"zip_code\"))\n",
    ")"
   ]
  },
  {
   "cell_type": "code",
   "execution_count": 65,
   "id": "5a849d68",
   "metadata": {},
   "outputs": [
    {
     "ename": "AnalysisException",
     "evalue": "cannot resolve '`zip_code like 'n%' `' given input columns: [addr_state, cust_data.annual_inc, cust_data.annual_inc_joint, cust_data.application_type, cust_data.country, emp_length, cust_data.emp_title, cust_data.grade, cust_data.home_ownership, cust_data.member_id, cust_data.sub_grade, cust_data.tot_hi_cred_lim, cust_data.verification_status, cust_data.verification_status_joint, zip_code];\n'Aggregate ['zip_code like 'n%' ], ['zip_code like 'n%' , count(1) AS count#3117L]\n+- Project [member_id#16, emp_title#17, emp_length#2452, home_ownership#19, annual_inc#20, addr_state#2848, CASE WHEN NOT zip_code#22 RLIKE ^[0-9] THEN not defined ELSE zip_code#22 END AS zip_code#2864, country#23, grade#24, sub_grade#25, verification_status#26, tot_hi_cred_lim#27, application_type#28, annual_inc_joint#29, verification_status_joint#30]\n   +- Project [member_id#16, emp_title#17, emp_length#2452, home_ownership#19, annual_inc#20, CASE WHEN (length(addr_state#21) > 2) THEN NA ELSE addr_state#21 END AS addr_state#2848, zip_code#22, country#23, grade#24, sub_grade#25, verification_status#26, tot_hi_cred_lim#27, application_type#28, annual_inc_joint#29, verification_status_joint#30]\n      +- Project [member_id#16, emp_title#17, coalesce(emp_length#1792, cast(6.0 as int)) AS emp_length#2452, home_ownership#19, annual_inc#20, addr_state#21, zip_code#22, country#23, grade#24, sub_grade#25, verification_status#26, tot_hi_cred_lim#27, application_type#28, annual_inc_joint#29, verification_status_joint#30]\n         +- Deduplicate [emp_title#17, zip_code#22, home_ownership#19, sub_grade#25, tot_hi_cred_lim#27, emp_length#1792, verification_status#26, country#23, grade#24, addr_state#21, annual_inc_joint#29, member_id#16, annual_inc#20, application_type#28, verification_status_joint#30]\n            +- Project [member_id#16, emp_title#17, cast(emp_length#1776 as int) AS emp_length#1792, home_ownership#19, annual_inc#20, addr_state#21, zip_code#22, country#23, grade#24, sub_grade#25, verification_status#26, tot_hi_cred_lim#27, application_type#28, annual_inc_joint#29, verification_status_joint#30]\n               +- Project [member_id#16, emp_title#17, regexp_replace(emp_length#18, \\D,  , 1) AS emp_length#1776, home_ownership#19, annual_inc#20, addr_state#21, zip_code#22, country#23, grade#24, sub_grade#25, verification_status#26, tot_hi_cred_lim#27, application_type#28, annual_inc_joint#29, verification_status_joint#30]\n                  +- Project [member_id#16, emp_title#17, emp_length#18, home_ownership#19, annual_inc#20, addr_state#21, zip_code#22, country#23, grade#24, sub_grade#25, verification_status#26, tot_hi_cred_lim#27, application_type#28, annual_inc_joint#29, verification_status_joint#30]\n                     +- Filter isnotnull(annual_inc#20)\n                        +- SubqueryAlias cust_data\n                           +- Relation[member_id#16,emp_title#17,emp_length#18,home_ownership#19,annual_inc#20,addr_state#21,zip_code#22,country#23,grade#24,sub_grade#25,verification_status#26,tot_hi_cred_lim#27,application_type#28,annual_inc_joint#29,verification_status_joint#30] csv\n",
     "output_type": "error",
     "traceback": [
      "\u001b[0;31m---------------------------------------------------------------------------\u001b[0m",
      "\u001b[0;31mAnalysisException\u001b[0m                         Traceback (most recent call last)",
      "\u001b[0;32m<ipython-input-65-a40ec5f53a06>\u001b[0m in \u001b[0;36m<module>\u001b[0;34m\u001b[0m\n\u001b[0;32m----> 1\u001b[0;31m \u001b[0mdf12\u001b[0m\u001b[0;34m.\u001b[0m\u001b[0mgroupBy\u001b[0m\u001b[0;34m(\u001b[0m\u001b[0;34m\"zip_code like 'n%' \"\u001b[0m\u001b[0;34m)\u001b[0m\u001b[0;34m.\u001b[0m\u001b[0mcount\u001b[0m\u001b[0;34m(\u001b[0m\u001b[0;34m)\u001b[0m\u001b[0;34m\u001b[0m\u001b[0;34m\u001b[0m\u001b[0m\n\u001b[0m",
      "\u001b[0;32m/opt/spark-3.1.2-bin-hadoop3.2/python/pyspark/sql/group.py\u001b[0m in \u001b[0;36m_api\u001b[0;34m(self)\u001b[0m\n\u001b[1;32m     29\u001b[0m     \u001b[0;32mdef\u001b[0m \u001b[0m_api\u001b[0m\u001b[0;34m(\u001b[0m\u001b[0mself\u001b[0m\u001b[0;34m)\u001b[0m\u001b[0;34m:\u001b[0m\u001b[0;34m\u001b[0m\u001b[0;34m\u001b[0m\u001b[0m\n\u001b[1;32m     30\u001b[0m         \u001b[0mname\u001b[0m \u001b[0;34m=\u001b[0m \u001b[0mf\u001b[0m\u001b[0;34m.\u001b[0m\u001b[0m__name__\u001b[0m\u001b[0;34m\u001b[0m\u001b[0;34m\u001b[0m\u001b[0m\n\u001b[0;32m---> 31\u001b[0;31m         \u001b[0mjdf\u001b[0m \u001b[0;34m=\u001b[0m \u001b[0mgetattr\u001b[0m\u001b[0;34m(\u001b[0m\u001b[0mself\u001b[0m\u001b[0;34m.\u001b[0m\u001b[0m_jgd\u001b[0m\u001b[0;34m,\u001b[0m \u001b[0mname\u001b[0m\u001b[0;34m)\u001b[0m\u001b[0;34m(\u001b[0m\u001b[0;34m)\u001b[0m\u001b[0;34m\u001b[0m\u001b[0;34m\u001b[0m\u001b[0m\n\u001b[0m\u001b[1;32m     32\u001b[0m         \u001b[0;32mreturn\u001b[0m \u001b[0mDataFrame\u001b[0m\u001b[0;34m(\u001b[0m\u001b[0mjdf\u001b[0m\u001b[0;34m,\u001b[0m \u001b[0mself\u001b[0m\u001b[0;34m.\u001b[0m\u001b[0msql_ctx\u001b[0m\u001b[0;34m)\u001b[0m\u001b[0;34m\u001b[0m\u001b[0;34m\u001b[0m\u001b[0m\n\u001b[1;32m     33\u001b[0m     \u001b[0m_api\u001b[0m\u001b[0;34m.\u001b[0m\u001b[0m__name__\u001b[0m \u001b[0;34m=\u001b[0m \u001b[0mf\u001b[0m\u001b[0;34m.\u001b[0m\u001b[0m__name__\u001b[0m\u001b[0;34m\u001b[0m\u001b[0;34m\u001b[0m\u001b[0m\n",
      "\u001b[0;32m/opt/spark-3.1.2-bin-hadoop3.2/python/lib/py4j-0.10.9-src.zip/py4j/java_gateway.py\u001b[0m in \u001b[0;36m__call__\u001b[0;34m(self, *args)\u001b[0m\n\u001b[1;32m   1303\u001b[0m         \u001b[0manswer\u001b[0m \u001b[0;34m=\u001b[0m \u001b[0mself\u001b[0m\u001b[0;34m.\u001b[0m\u001b[0mgateway_client\u001b[0m\u001b[0;34m.\u001b[0m\u001b[0msend_command\u001b[0m\u001b[0;34m(\u001b[0m\u001b[0mcommand\u001b[0m\u001b[0;34m)\u001b[0m\u001b[0;34m\u001b[0m\u001b[0;34m\u001b[0m\u001b[0m\n\u001b[1;32m   1304\u001b[0m         return_value = get_return_value(\n\u001b[0;32m-> 1305\u001b[0;31m             answer, self.gateway_client, self.target_id, self.name)\n\u001b[0m\u001b[1;32m   1306\u001b[0m \u001b[0;34m\u001b[0m\u001b[0m\n\u001b[1;32m   1307\u001b[0m         \u001b[0;32mfor\u001b[0m \u001b[0mtemp_arg\u001b[0m \u001b[0;32min\u001b[0m \u001b[0mtemp_args\u001b[0m\u001b[0;34m:\u001b[0m\u001b[0;34m\u001b[0m\u001b[0;34m\u001b[0m\u001b[0m\n",
      "\u001b[0;32m/opt/spark-3.1.2-bin-hadoop3.2/python/pyspark/sql/utils.py\u001b[0m in \u001b[0;36mdeco\u001b[0;34m(*a, **kw)\u001b[0m\n\u001b[1;32m    115\u001b[0m                 \u001b[0;31m# Hide where the exception came from that shows a non-Pythonic\u001b[0m\u001b[0;34m\u001b[0m\u001b[0;34m\u001b[0m\u001b[0;34m\u001b[0m\u001b[0m\n\u001b[1;32m    116\u001b[0m                 \u001b[0;31m# JVM exception message.\u001b[0m\u001b[0;34m\u001b[0m\u001b[0;34m\u001b[0m\u001b[0;34m\u001b[0m\u001b[0m\n\u001b[0;32m--> 117\u001b[0;31m                 \u001b[0;32mraise\u001b[0m \u001b[0mconverted\u001b[0m \u001b[0;32mfrom\u001b[0m \u001b[0;32mNone\u001b[0m\u001b[0;34m\u001b[0m\u001b[0;34m\u001b[0m\u001b[0m\n\u001b[0m\u001b[1;32m    118\u001b[0m             \u001b[0;32melse\u001b[0m\u001b[0;34m:\u001b[0m\u001b[0;34m\u001b[0m\u001b[0;34m\u001b[0m\u001b[0m\n\u001b[1;32m    119\u001b[0m                 \u001b[0;32mraise\u001b[0m\u001b[0;34m\u001b[0m\u001b[0;34m\u001b[0m\u001b[0m\n",
      "\u001b[0;31mAnalysisException\u001b[0m: cannot resolve '`zip_code like 'n%' `' given input columns: [addr_state, cust_data.annual_inc, cust_data.annual_inc_joint, cust_data.application_type, cust_data.country, emp_length, cust_data.emp_title, cust_data.grade, cust_data.home_ownership, cust_data.member_id, cust_data.sub_grade, cust_data.tot_hi_cred_lim, cust_data.verification_status, cust_data.verification_status_joint, zip_code];\n'Aggregate ['zip_code like 'n%' ], ['zip_code like 'n%' , count(1) AS count#3117L]\n+- Project [member_id#16, emp_title#17, emp_length#2452, home_ownership#19, annual_inc#20, addr_state#2848, CASE WHEN NOT zip_code#22 RLIKE ^[0-9] THEN not defined ELSE zip_code#22 END AS zip_code#2864, country#23, grade#24, sub_grade#25, verification_status#26, tot_hi_cred_lim#27, application_type#28, annual_inc_joint#29, verification_status_joint#30]\n   +- Project [member_id#16, emp_title#17, emp_length#2452, home_ownership#19, annual_inc#20, CASE WHEN (length(addr_state#21) > 2) THEN NA ELSE addr_state#21 END AS addr_state#2848, zip_code#22, country#23, grade#24, sub_grade#25, verification_status#26, tot_hi_cred_lim#27, application_type#28, annual_inc_joint#29, verification_status_joint#30]\n      +- Project [member_id#16, emp_title#17, coalesce(emp_length#1792, cast(6.0 as int)) AS emp_length#2452, home_ownership#19, annual_inc#20, addr_state#21, zip_code#22, country#23, grade#24, sub_grade#25, verification_status#26, tot_hi_cred_lim#27, application_type#28, annual_inc_joint#29, verification_status_joint#30]\n         +- Deduplicate [emp_title#17, zip_code#22, home_ownership#19, sub_grade#25, tot_hi_cred_lim#27, emp_length#1792, verification_status#26, country#23, grade#24, addr_state#21, annual_inc_joint#29, member_id#16, annual_inc#20, application_type#28, verification_status_joint#30]\n            +- Project [member_id#16, emp_title#17, cast(emp_length#1776 as int) AS emp_length#1792, home_ownership#19, annual_inc#20, addr_state#21, zip_code#22, country#23, grade#24, sub_grade#25, verification_status#26, tot_hi_cred_lim#27, application_type#28, annual_inc_joint#29, verification_status_joint#30]\n               +- Project [member_id#16, emp_title#17, regexp_replace(emp_length#18, \\D,  , 1) AS emp_length#1776, home_ownership#19, annual_inc#20, addr_state#21, zip_code#22, country#23, grade#24, sub_grade#25, verification_status#26, tot_hi_cred_lim#27, application_type#28, annual_inc_joint#29, verification_status_joint#30]\n                  +- Project [member_id#16, emp_title#17, emp_length#18, home_ownership#19, annual_inc#20, addr_state#21, zip_code#22, country#23, grade#24, sub_grade#25, verification_status#26, tot_hi_cred_lim#27, application_type#28, annual_inc_joint#29, verification_status_joint#30]\n                     +- Filter isnotnull(annual_inc#20)\n                        +- SubqueryAlias cust_data\n                           +- Relation[member_id#16,emp_title#17,emp_length#18,home_ownership#19,annual_inc#20,addr_state#21,zip_code#22,country#23,grade#24,sub_grade#25,verification_status#26,tot_hi_cred_lim#27,application_type#28,annual_inc_joint#29,verification_status_joint#30] csv\n"
     ]
    }
   ],
   "source": [
    "df12.groupBy(\"zip_code like 'n%' \").count()"
   ]
  },
  {
   "cell_type": "code",
   "execution_count": null,
   "id": "246765a3",
   "metadata": {},
   "outputs": [],
   "source": []
  }
 ],
 "metadata": {
  "kernelspec": {
   "display_name": "Pyspark 3",
   "language": "python",
   "name": "pyspark3"
  },
  "language_info": {
   "codemirror_mode": {
    "name": "ipython",
    "version": 3
   },
   "file_extension": ".py",
   "mimetype": "text/x-python",
   "name": "python",
   "nbconvert_exporter": "python",
   "pygments_lexer": "ipython3",
   "version": "3.6.12"
  }
 },
 "nbformat": 4,
 "nbformat_minor": 5
}
