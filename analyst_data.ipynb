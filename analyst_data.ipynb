{
 "cells": [
  {
   "cell_type": "code",
   "execution_count": 1,
   "id": "fa51005c",
   "metadata": {},
   "outputs": [],
   "source": [
    "from pyspark.sql import SparkSession "
   ]
  },
  {
   "cell_type": "code",
   "execution_count": 2,
   "id": "3f712375",
   "metadata": {},
   "outputs": [],
   "source": [
    "spark = SparkSession .\\\n",
    "builder .\\\n",
    "appName(\"spark\") .\\\n",
    "config(\"spark.sql.warehouse.dir\",\"/user/itv016843/warehouse\") .\\\n",
    "enableHiveSupport() .\\\n",
    "master(\"yarn\") .\\\n",
    "getOrCreate()"
   ]
  },
  {
   "cell_type": "code",
   "execution_count": 3,
   "id": "e542f027",
   "metadata": {},
   "outputs": [
    {
     "data": {
      "text/html": [
       "\n",
       "            <div>\n",
       "                <p><b>SparkSession - hive</b></p>\n",
       "                \n",
       "        <div>\n",
       "            <p><b>SparkContext</b></p>\n",
       "\n",
       "            <p><a href=\"http://g02.itversity.com:4040\">Spark UI</a></p>\n",
       "\n",
       "            <dl>\n",
       "              <dt>Version</dt>\n",
       "                <dd><code>v3.1.2</code></dd>\n",
       "              <dt>Master</dt>\n",
       "                <dd><code>yarn</code></dd>\n",
       "              <dt>AppName</dt>\n",
       "                <dd><code>spark</code></dd>\n",
       "            </dl>\n",
       "        </div>\n",
       "        \n",
       "            </div>\n",
       "        "
      ],
      "text/plain": [
       "<pyspark.sql.session.SparkSession at 0x7f65955c5b38>"
      ]
     },
     "execution_count": 3,
     "metadata": {},
     "output_type": "execute_result"
    }
   ],
   "source": [
    "spark"
   ]
  },
  {
   "cell_type": "code",
   "execution_count": null,
   "id": "7b3d0b64",
   "metadata": {},
   "outputs": [],
   "source": []
  },
  {
   "cell_type": "code",
   "execution_count": 4,
   "id": "d3e4e2bf",
   "metadata": {},
   "outputs": [],
   "source": [
    "df1 = spark.read \\\n",
    ".format(\"parquet\") \\\n",
    ".option(\"header\",True) \\\n",
    ".load(\"/public/trendytech/lendingclubproject/cleaned/customers_parquet\")"
   ]
  },
  {
   "cell_type": "code",
   "execution_count": 5,
   "id": "1666c172",
   "metadata": {},
   "outputs": [
    {
     "data": {
      "text/html": [
       "<table border='1'>\n",
       "<tr><th>member_id</th><th>emp_title</th><th>emp_length</th><th>home_ownership</th><th>annual_income</th><th>address_state</th><th>address_zipcode</th><th>address_country</th><th>grade</th><th>sub_grade</th><th>verification_status</th><th>total_high_credit_limit</th><th>application_type</th><th>join_annual_income</th><th>verification_status_joint</th><th>ingest_date</th></tr>\n",
       "<tr><td>45c47c49ef9346a50...</td><td>area sales manager</td><td>5</td><td>MORTGAGE</td><td>48000.0</td><td>NY</td><td>131xx</td><td>USA</td><td>C</td><td>C2</td><td>Source Verified</td><td>221587.0</td><td>Joint App</td><td>90000.0</td><td>Source Verified</td><td>2023-09-15 17:18:...</td></tr>\n",
       "<tr><td>ae8702f966762bdde...</td><td>Manager</td><td>7</td><td>MORTGAGE</td><td>105000.0</td><td>NJ</td><td>087xx</td><td>USA</td><td>C</td><td>C3</td><td>Source Verified</td><td>51300.0</td><td>Individual</td><td>null</td><td>null</td><td>2023-09-15 17:18:...</td></tr>\n",
       "<tr><td>bfdd1a23cef47a143...</td><td>Admitting</td><td>9</td><td>MORTGAGE</td><td>70000.0</td><td>OR</td><td>970xx</td><td>USA</td><td>B</td><td>B2</td><td>Source Verified</td><td>331700.0</td><td>Individual</td><td>null</td><td>null</td><td>2023-09-15 17:18:...</td></tr>\n",
       "<tr><td>449c9106149e63f46...</td><td>technical Support</td><td>9</td><td>RENT</td><td>39000.0</td><td>FL</td><td>337xx</td><td>USA</td><td>D</td><td>D5</td><td>Not Verified</td><td>24700.0</td><td>Individual</td><td>null</td><td>null</td><td>2023-09-15 17:18:...</td></tr>\n",
       "<tr><td>ed2036be1311f9c09...</td><td>Branch Manager</td><td>3</td><td>RENT</td><td>65000.0</td><td>CA</td><td>926xx</td><td>USA</td><td>C</td><td>C5</td><td>Not Verified</td><td>28826.0</td><td>Individual</td><td>null</td><td>null</td><td>2023-09-15 17:18:...</td></tr>\n",
       "</table>\n"
      ],
      "text/plain": [
       "+--------------------+------------------+----------+--------------+-------------+-------------+---------------+---------------+-----+---------+-------------------+-----------------------+----------------+------------------+-------------------------+--------------------+\n",
       "|           member_id|         emp_title|emp_length|home_ownership|annual_income|address_state|address_zipcode|address_country|grade|sub_grade|verification_status|total_high_credit_limit|application_type|join_annual_income|verification_status_joint|         ingest_date|\n",
       "+--------------------+------------------+----------+--------------+-------------+-------------+---------------+---------------+-----+---------+-------------------+-----------------------+----------------+------------------+-------------------------+--------------------+\n",
       "|45c47c49ef9346a50...|area sales manager|         5|      MORTGAGE|      48000.0|           NY|          131xx|            USA|    C|       C2|    Source Verified|               221587.0|       Joint App|           90000.0|          Source Verified|2023-09-15 17:18:...|\n",
       "|ae8702f966762bdde...|           Manager|         7|      MORTGAGE|     105000.0|           NJ|          087xx|            USA|    C|       C3|    Source Verified|                51300.0|      Individual|              null|                     null|2023-09-15 17:18:...|\n",
       "|bfdd1a23cef47a143...|         Admitting|         9|      MORTGAGE|      70000.0|           OR|          970xx|            USA|    B|       B2|    Source Verified|               331700.0|      Individual|              null|                     null|2023-09-15 17:18:...|\n",
       "|449c9106149e63f46...| technical Support|         9|          RENT|      39000.0|           FL|          337xx|            USA|    D|       D5|       Not Verified|                24700.0|      Individual|              null|                     null|2023-09-15 17:18:...|\n",
       "|ed2036be1311f9c09...|    Branch Manager|         3|          RENT|      65000.0|           CA|          926xx|            USA|    C|       C5|       Not Verified|                28826.0|      Individual|              null|                     null|2023-09-15 17:18:...|\n",
       "+--------------------+------------------+----------+--------------+-------------+-------------+---------------+---------------+-----+---------+-------------------+-----------------------+----------------+------------------+-------------------------+--------------------+"
      ]
     },
     "execution_count": 5,
     "metadata": {},
     "output_type": "execute_result"
    }
   ],
   "source": [
    "df1.limit(5)"
   ]
  },
  {
   "cell_type": "code",
   "execution_count": 6,
   "id": "d6f2f0cd",
   "metadata": {},
   "outputs": [
    {
     "name": "stdout",
     "output_type": "stream",
     "text": [
      "root\n",
      " |-- member_id: string (nullable = true)\n",
      " |-- emp_title: string (nullable = true)\n",
      " |-- emp_length: integer (nullable = true)\n",
      " |-- home_ownership: string (nullable = true)\n",
      " |-- annual_income: float (nullable = true)\n",
      " |-- address_state: string (nullable = true)\n",
      " |-- address_zipcode: string (nullable = true)\n",
      " |-- address_country: string (nullable = true)\n",
      " |-- grade: string (nullable = true)\n",
      " |-- sub_grade: string (nullable = true)\n",
      " |-- verification_status: string (nullable = true)\n",
      " |-- total_high_credit_limit: float (nullable = true)\n",
      " |-- application_type: string (nullable = true)\n",
      " |-- join_annual_income: float (nullable = true)\n",
      " |-- verification_status_joint: string (nullable = true)\n",
      " |-- ingest_date: timestamp (nullable = true)\n",
      "\n"
     ]
    }
   ],
   "source": [
    "df1.printSchema()"
   ]
  },
  {
   "cell_type": "code",
   "execution_count": null,
   "id": "a9a6c07e",
   "metadata": {},
   "outputs": [],
   "source": [
    "\t1.\t/public/trendytech/lendingclubproject/cleaned/customers_parquet\n",
    "\t2.\t/public/trendytech/lendingclubproject/cleaned/loans_parquet\n",
    "\t3.\t/public/trendytech/lendingclubproject/cleaned/loans_defaulters_delinq_parquet\n",
    "\t4.\t/public/trendytech/lendingclubproject/cleaned/loans_defaulters_detail_records_enq_parquet\n",
    "\t5.\t/public/trendytech/lendingclubproject/cleaned/loans_defaulters_records_enq_parquet\n",
    "\t6.\t/public/trendytech/lendingclubproject/cleaned/loans_repayments_parquet"
   ]
  },
  {
   "cell_type": "code",
   "execution_count": null,
   "id": "df50f0be",
   "metadata": {},
   "outputs": [],
   "source": []
  },
  {
   "cell_type": "code",
   "execution_count": 10,
   "id": "a3dc1235",
   "metadata": {},
   "outputs": [
    {
     "data": {
      "text/html": [
       "<table border='1'>\n",
       "<tr><th></th></tr>\n",
       "</table>\n"
      ],
      "text/plain": [
       "++\n",
       "||\n",
       "++\n",
       "++"
      ]
     },
     "execution_count": 10,
     "metadata": {},
     "output_type": "execute_result"
    }
   ],
   "source": [
    "spark.sql(\"\"\"\n",
    "CREATE EXTERNAL TABLE customers (\n",
    "  member_id STRING,\n",
    "  emp_title STRING,\n",
    "  emp_length INT,\n",
    "  home_ownership STRING,\n",
    "  annual_income FLOAT,\n",
    "  address_state STRING,\n",
    "  address_zipcode STRING,\n",
    "  address_country STRING,\n",
    "  grade STRING,\n",
    "  sub_grade STRING,\n",
    "  verification_status STRING,\n",
    "  total_high_credit_limit FLOAT,\n",
    "  application_type STRING,\n",
    "  join_annual_income FLOAT,\n",
    "  verification_status_joint STRING,\n",
    "  ingest_date TIMESTAMP\n",
    ")\n",
    "STORED AS PARQUET\n",
    "LOCATION '/public/trendytech/lendingclubproject/cleaned/customers_parquet'\n",
    "\"\"\")"
   ]
  },
  {
   "cell_type": "code",
   "execution_count": 11,
   "id": "49c9c0eb",
   "metadata": {},
   "outputs": [],
   "source": [
    "df2 = spark.read \\\n",
    ".format(\"parquet\") \\\n",
    ".option(\"header\",True) \\\n",
    ".load(\"/public/trendytech/lendingclubproject/cleaned/loans_parquet\")"
   ]
  },
  {
   "cell_type": "code",
   "execution_count": 12,
   "id": "205ec67f",
   "metadata": {},
   "outputs": [
    {
     "name": "stdout",
     "output_type": "stream",
     "text": [
      "root\n",
      " |-- loan_id: string (nullable = true)\n",
      " |-- member_id: string (nullable = true)\n",
      " |-- loan_amount: float (nullable = true)\n",
      " |-- funded_amount: float (nullable = true)\n",
      " |-- loan_term_years: integer (nullable = true)\n",
      " |-- interest_rate: float (nullable = true)\n",
      " |-- monthly_installment: float (nullable = true)\n",
      " |-- issue_date: string (nullable = true)\n",
      " |-- loan_status: string (nullable = true)\n",
      " |-- loan_purpose: string (nullable = true)\n",
      " |-- loan_title: string (nullable = true)\n",
      " |-- ingest_date: timestamp (nullable = true)\n",
      "\n"
     ]
    }
   ],
   "source": [
    "df2.printSchema()"
   ]
  },
  {
   "cell_type": "code",
   "execution_count": 13,
   "id": "4f082fcf",
   "metadata": {},
   "outputs": [
    {
     "data": {
      "text/html": [
       "<table border='1'>\n",
       "<tr><th></th></tr>\n",
       "</table>\n"
      ],
      "text/plain": [
       "++\n",
       "||\n",
       "++\n",
       "++"
      ]
     },
     "execution_count": 13,
     "metadata": {},
     "output_type": "execute_result"
    }
   ],
   "source": [
    "spark.sql(\"\"\"\n",
    "CREATE EXTERNAL TABLE loans (\n",
    "  loan_id STRING,\n",
    "  member_id STRING,\n",
    "  loan_amount FLOAT,\n",
    "  funded_amount FLOAT,\n",
    "  loan_term_years INT,\n",
    "  interest_rate FLOAT,\n",
    "  monthly_installment FLOAT,\n",
    "  issue_date STRING,\n",
    "  loan_status STRING,\n",
    "  loan_purpose STRING,\n",
    "  loan_title STRING,\n",
    "  ingest_date TIMESTAMP\n",
    ")\n",
    "STORED AS PARQUET\n",
    "LOCATION '/public/trendytech/lendingclubproject/cleaned/loans_parquet'\n",
    "\"\"\")"
   ]
  },
  {
   "cell_type": "code",
   "execution_count": 16,
   "id": "f2e76b06",
   "metadata": {},
   "outputs": [],
   "source": [
    "df3 = spark.read \\\n",
    ".format(\"parquet\") \\\n",
    ".option(\"header\",True) \\\n",
    ".load(\"/public/trendytech/lendingclubproject/cleaned/loans_defaulters_delinq_parquet\")"
   ]
  },
  {
   "cell_type": "code",
   "execution_count": 17,
   "id": "3fac841e",
   "metadata": {},
   "outputs": [
    {
     "name": "stdout",
     "output_type": "stream",
     "text": [
      "root\n",
      " |-- member_id: string (nullable = true)\n",
      " |-- delinq_2yrs: integer (nullable = true)\n",
      " |-- delinq_amnt: float (nullable = true)\n",
      " |-- mths_since_last_delinq: integer (nullable = true)\n",
      "\n"
     ]
    }
   ],
   "source": [
    "df3.printSchema()"
   ]
  },
  {
   "cell_type": "code",
   "execution_count": 18,
   "id": "aafd82e7",
   "metadata": {},
   "outputs": [
    {
     "data": {
      "text/html": [
       "<table border='1'>\n",
       "<tr><th></th></tr>\n",
       "</table>\n"
      ],
      "text/plain": [
       "++\n",
       "||\n",
       "++\n",
       "++"
      ]
     },
     "execution_count": 18,
     "metadata": {},
     "output_type": "execute_result"
    }
   ],
   "source": [
    "spark.sql(\"\"\"\n",
    "CREATE EXTERNAL TABLE loans_defaulters_delinq (\n",
    "  member_id STRING,\n",
    "  delinq_2yrs INT,\n",
    "  delinq_amnt FLOAT,\n",
    "  mths_since_last_delinq INT\n",
    ")\n",
    "STORED AS PARQUET\n",
    "LOCATION '/public/trendytech/lendingclubproject/cleaned/loans_defaulters_delinq_parquet'\n",
    "\"\"\")"
   ]
  },
  {
   "cell_type": "code",
   "execution_count": 19,
   "id": "fda52207",
   "metadata": {},
   "outputs": [],
   "source": [
    "df4 = spark.read \\\n",
    ".format(\"parquet\") \\\n",
    ".option(\"header\",True) \\\n",
    ".load(\"/public/trendytech/lendingclubproject/cleaned/loans_defaulters_detail_records_enq_parquet\")"
   ]
  },
  {
   "cell_type": "code",
   "execution_count": 20,
   "id": "2a92ffb0",
   "metadata": {},
   "outputs": [
    {
     "name": "stdout",
     "output_type": "stream",
     "text": [
      "root\n",
      " |-- member_id: string (nullable = true)\n",
      " |-- pub_rec: integer (nullable = true)\n",
      " |-- pub_rec_bankruptcies: integer (nullable = true)\n",
      " |-- inq_last_6mths: integer (nullable = true)\n",
      "\n"
     ]
    }
   ],
   "source": [
    "df4.printSchema()"
   ]
  },
  {
   "cell_type": "code",
   "execution_count": 21,
   "id": "739ffaff",
   "metadata": {},
   "outputs": [
    {
     "data": {
      "text/html": [
       "<table border='1'>\n",
       "<tr><th></th></tr>\n",
       "</table>\n"
      ],
      "text/plain": [
       "++\n",
       "||\n",
       "++\n",
       "++"
      ]
     },
     "execution_count": 21,
     "metadata": {},
     "output_type": "execute_result"
    }
   ],
   "source": [
    "spark.sql(\"\"\"\n",
    "CREATE EXTERNAL TABLE loans_defaulters_records_enq (\n",
    "  member_id STRING,\n",
    "  pub_rec INT,\n",
    "  pub_rec_bankruptcies INT,\n",
    "  inq_last_6mths INT\n",
    ")\n",
    "STORED AS PARQUET\n",
    "LOCATION '/public/trendytech/lendingclubproject/cleaned/loans_defaulters_records_enq_parquet'\n",
    "\"\"\")"
   ]
  },
  {
   "cell_type": "code",
   "execution_count": 24,
   "id": "e9cb809d",
   "metadata": {},
   "outputs": [],
   "source": [
    "df5 = spark.read \\\n",
    ".format(\"parquet\") \\\n",
    ".option(\"header\",True) \\\n",
    ".load(\"/public/trendytech/lendingclubproject/cleaned/loans_repayments_parquet\")"
   ]
  },
  {
   "cell_type": "code",
   "execution_count": 25,
   "id": "8fbc3dca",
   "metadata": {},
   "outputs": [
    {
     "name": "stdout",
     "output_type": "stream",
     "text": [
      "root\n",
      " |-- loan_id: string (nullable = true)\n",
      " |-- total_principal_received: float (nullable = true)\n",
      " |-- total_interest_received: float (nullable = true)\n",
      " |-- total_late_fee_received: float (nullable = true)\n",
      " |-- total_payment_received: float (nullable = true)\n",
      " |-- last_payment_amount: float (nullable = true)\n",
      " |-- last_payment_date: string (nullable = true)\n",
      " |-- next_payment_date: string (nullable = true)\n",
      " |-- ingest_date: timestamp (nullable = true)\n",
      "\n"
     ]
    }
   ],
   "source": [
    "df5.printSchema()"
   ]
  },
  {
   "cell_type": "code",
   "execution_count": null,
   "id": "56047c4e",
   "metadata": {},
   "outputs": [],
   "source": []
  }
 ],
 "metadata": {
  "kernelspec": {
   "display_name": "Pyspark 3",
   "language": "python",
   "name": "pyspark3"
  },
  "language_info": {
   "codemirror_mode": {
    "name": "ipython",
    "version": 3
   },
   "file_extension": ".py",
   "mimetype": "text/x-python",
   "name": "python",
   "nbconvert_exporter": "python",
   "pygments_lexer": "ipython3",
   "version": "3.6.12"
  }
 },
 "nbformat": 4,
 "nbformat_minor": 5
}
