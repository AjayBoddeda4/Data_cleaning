{
 "cells": [
  {
   "cell_type": "code",
   "execution_count": 1,
   "id": "a93d1a0c",
   "metadata": {},
   "outputs": [],
   "source": [
    "from pyspark.sql import SparkSession "
   ]
  },
  {
   "cell_type": "code",
   "execution_count": 2,
   "id": "ebcdefd9",
   "metadata": {},
   "outputs": [],
   "source": [
    "spark = SparkSession .\\\n",
    "builder .\\\n",
    "appName(\"spark\") .\\\n",
    "config(\"spark.sql.warehouse.dir\",\"/user/itv016843/warehouse\") .\\\n",
    "enableHiveSupport() .\\\n",
    "master(\"yarn\") .\\\n",
    "getOrCreate()"
   ]
  },
  {
   "cell_type": "code",
   "execution_count": 3,
   "id": "107acf7b",
   "metadata": {},
   "outputs": [
    {
     "data": {
      "text/html": [
       "\n",
       "            <div>\n",
       "                <p><b>SparkSession - hive</b></p>\n",
       "                \n",
       "        <div>\n",
       "            <p><b>SparkContext</b></p>\n",
       "\n",
       "            <p><a href=\"http://g02.itversity.com:4040\">Spark UI</a></p>\n",
       "\n",
       "            <dl>\n",
       "              <dt>Version</dt>\n",
       "                <dd><code>v3.1.2</code></dd>\n",
       "              <dt>Master</dt>\n",
       "                <dd><code>yarn</code></dd>\n",
       "              <dt>AppName</dt>\n",
       "                <dd><code>spark</code></dd>\n",
       "            </dl>\n",
       "        </div>\n",
       "        \n",
       "            </div>\n",
       "        "
      ],
      "text/plain": [
       "<pyspark.sql.session.SparkSession at 0x7f8005578b70>"
      ]
     },
     "execution_count": 3,
     "metadata": {},
     "output_type": "execute_result"
    }
   ],
   "source": [
    "spark"
   ]
  },
  {
   "cell_type": "code",
   "execution_count": null,
   "id": "9f119872",
   "metadata": {},
   "outputs": [],
   "source": []
  },
  {
   "cell_type": "code",
   "execution_count": 4,
   "id": "b27776a5",
   "metadata": {},
   "outputs": [],
   "source": [
    "from pyspark.sql.functions import *"
   ]
  },
  {
   "cell_type": "code",
   "execution_count": 5,
   "id": "bd39052a",
   "metadata": {},
   "outputs": [],
   "source": [
    "from pyspark.sql import *"
   ]
  },
  {
   "cell_type": "code",
   "execution_count": null,
   "id": "738e7bf9",
   "metadata": {},
   "outputs": [],
   "source": []
  },
  {
   "cell_type": "code",
   "execution_count": 6,
   "id": "e1af58c7",
   "metadata": {},
   "outputs": [
    {
     "name": "stdout",
     "output_type": "stream",
     "text": [
      "Found 4 items\n",
      "drwxr-xr-x   - itv005857 supergroup          0 2023-09-15 14:40 /public/trendytech/lendingclubproject/raw/customers_data_csv\n",
      "drwxr-xr-x   - itv005857 supergroup          0 2023-09-17 22:57 /public/trendytech/lendingclubproject/raw/loans_data_csv\n",
      "drwxr-xr-x   - itv005857 supergroup          0 2023-09-18 07:32 /public/trendytech/lendingclubproject/raw/loans_defaulters_csv\n",
      "drwxr-xr-x   - itv005857 supergroup          0 2023-09-18 07:31 /public/trendytech/lendingclubproject/raw/loans_repayments_csv\n"
     ]
    }
   ],
   "source": [
    "! hadoop fs -ls /public/trendytech/lendingclubproject/raw"
   ]
  },
  {
   "cell_type": "code",
   "execution_count": 7,
   "id": "36aa5b7d",
   "metadata": {},
   "outputs": [],
   "source": [
    "loan_schema = 'loan_id string,total_rec_prncp float,total_rec_int float,total_rec_late_fee float,total_pymnt float,last_pymnt_amnt float,last_pymnt_d string,next_pymnt_d string'\n"
   ]
  },
  {
   "cell_type": "code",
   "execution_count": 8,
   "id": "2f398e30",
   "metadata": {},
   "outputs": [],
   "source": [
    "df1 = spark.read \\\n",
    ".format(\"csv\") \\\n",
    ".option(\"header\",True) \\\n",
    ".schema(loan_schema) \\\n",
    ".load(\"/public/trendytech/lendingclubproject/raw/loans_repayments_csv\")"
   ]
  },
  {
   "cell_type": "code",
   "execution_count": 9,
   "id": "67f55a9d",
   "metadata": {},
   "outputs": [
    {
     "data": {
      "text/html": [
       "<table border='1'>\n",
       "<tr><th>loan_id</th><th>total_rec_prncp</th><th>total_rec_int</th><th>total_rec_late_fee</th><th>total_pymnt</th><th>last_pymnt_amnt</th><th>last_pymnt_d</th><th>next_pymnt_d</th></tr>\n",
       "<tr><td>141581221</td><td>1055.81</td><td>2591.7</td><td>0.0</td><td>3647.51</td><td>709.23</td><td>Mar-2019</td><td>Apr-2019</td></tr>\n",
       "<tr><td>141506948</td><td>1252.75</td><td>306.04</td><td>0.0</td><td>1558.79</td><td>312.63</td><td>Mar-2019</td><td>Apr-2019</td></tr>\n",
       "<tr><td>141357400</td><td>626.37</td><td>354.96</td><td>0.0</td><td>981.33</td><td>197.27</td><td>Mar-2019</td><td>Apr-2019</td></tr>\n",
       "<tr><td>139445427</td><td>1118.16</td><td>297.36</td><td>0.0</td><td>1415.52</td><td>283.95</td><td>Mar-2019</td><td>Apr-2019</td></tr>\n",
       "<tr><td>141407409</td><td>1169.72</td><td>3605.3</td><td>0.0</td><td>4775.02</td><td>964.9</td><td>Mar-2019</td><td>Apr-2019</td></tr>\n",
       "</table>\n"
      ],
      "text/plain": [
       "+---------+---------------+-------------+------------------+-----------+---------------+------------+------------+\n",
       "|  loan_id|total_rec_prncp|total_rec_int|total_rec_late_fee|total_pymnt|last_pymnt_amnt|last_pymnt_d|next_pymnt_d|\n",
       "+---------+---------------+-------------+------------------+-----------+---------------+------------+------------+\n",
       "|141581221|        1055.81|       2591.7|               0.0|    3647.51|         709.23|    Mar-2019|    Apr-2019|\n",
       "|141506948|        1252.75|       306.04|               0.0|    1558.79|         312.63|    Mar-2019|    Apr-2019|\n",
       "|141357400|         626.37|       354.96|               0.0|     981.33|         197.27|    Mar-2019|    Apr-2019|\n",
       "|139445427|        1118.16|       297.36|               0.0|    1415.52|         283.95|    Mar-2019|    Apr-2019|\n",
       "|141407409|        1169.72|       3605.3|               0.0|    4775.02|          964.9|    Mar-2019|    Apr-2019|\n",
       "+---------+---------------+-------------+------------------+-----------+---------------+------------+------------+"
      ]
     },
     "execution_count": 9,
     "metadata": {},
     "output_type": "execute_result"
    }
   ],
   "source": [
    "df1.limit(5)"
   ]
  },
  {
   "cell_type": "code",
   "execution_count": 10,
   "id": "8470ba30",
   "metadata": {},
   "outputs": [],
   "source": [
    "df2 = df1.withColumn(\"Time\",current_timestamp())"
   ]
  },
  {
   "cell_type": "code",
   "execution_count": 11,
   "id": "0840fcb7",
   "metadata": {},
   "outputs": [
    {
     "data": {
      "text/html": [
       "<table border='1'>\n",
       "<tr><th>loan_id</th><th>total_rec_prncp</th><th>total_rec_int</th><th>total_rec_late_fee</th><th>total_pymnt</th><th>last_pymnt_amnt</th><th>last_pymnt_d</th><th>next_pymnt_d</th><th>Time</th></tr>\n",
       "<tr><td>28674390</td><td>7884.28</td><td>5178.41</td><td>0.0</td><td>14329.62</td><td>482.23</td><td>Nov-2016</td><td>null</td><td>2025-07-26 04:22:...</td></tr>\n",
       "<tr><td>28563513</td><td>9000.0</td><td>955.61</td><td>0.0</td><td>9955.61</td><td>6420.29</td><td>Nov-2015</td><td>null</td><td>2025-07-26 04:22:...</td></tr>\n",
       "<tr><td>28694706</td><td>22125.0</td><td>751.39</td><td>0.0</td><td>22876.39</td><td>22073.85</td><td>Dec-2014</td><td>null</td><td>2025-07-26 04:22:...</td></tr>\n",
       "<tr><td>28722876</td><td>3196.23</td><td>1259.77</td><td>0.0</td><td>4639.79</td><td>178.24</td><td>Nov-2016</td><td>null</td><td>2025-07-26 04:22:...</td></tr>\n",
       "<tr><td>28644402</td><td>26400.0</td><td>2150.7</td><td>0.0</td><td>28550.7</td><td>19292.99</td><td>Oct-2015</td><td>null</td><td>2025-07-26 04:22:...</td></tr>\n",
       "</table>\n"
      ],
      "text/plain": [
       "+--------+---------------+-------------+------------------+-----------+---------------+------------+------------+--------------------+\n",
       "| loan_id|total_rec_prncp|total_rec_int|total_rec_late_fee|total_pymnt|last_pymnt_amnt|last_pymnt_d|next_pymnt_d|                Time|\n",
       "+--------+---------------+-------------+------------------+-----------+---------------+------------+------------+--------------------+\n",
       "|28674390|        7884.28|      5178.41|               0.0|   14329.62|         482.23|    Nov-2016|        null|2025-07-26 04:22:...|\n",
       "|28563513|         9000.0|       955.61|               0.0|    9955.61|        6420.29|    Nov-2015|        null|2025-07-26 04:22:...|\n",
       "|28694706|        22125.0|       751.39|               0.0|   22876.39|       22073.85|    Dec-2014|        null|2025-07-26 04:22:...|\n",
       "|28722876|        3196.23|      1259.77|               0.0|    4639.79|         178.24|    Nov-2016|        null|2025-07-26 04:22:...|\n",
       "|28644402|        26400.0|       2150.7|               0.0|    28550.7|       19292.99|    Oct-2015|        null|2025-07-26 04:22:...|\n",
       "+--------+---------------+-------------+------------------+-----------+---------------+------------+------------+--------------------+"
      ]
     },
     "execution_count": 11,
     "metadata": {},
     "output_type": "execute_result"
    }
   ],
   "source": [
    "df2.limit(5)"
   ]
  },
  {
   "cell_type": "code",
   "execution_count": 12,
   "id": "06bb8d6b",
   "metadata": {},
   "outputs": [],
   "source": [
    "drop_columns = [\n",
    "    \"loan_id\", \"total_rec_prncp\", \"total_rec_int\", \"total_rec_late_fee\", \"total_pymnt\",\n",
    "    \"last_pymnt_amnt\", \"last_pymnt_d\", \"next_pymnt_d\"\n",
    "]\n"
   ]
  },
  {
   "cell_type": "code",
   "execution_count": 13,
   "id": "af1d29f8",
   "metadata": {},
   "outputs": [],
   "source": [
    "df3 = df2.na.drop(subset = drop_columns)"
   ]
  },
  {
   "cell_type": "code",
   "execution_count": 14,
   "id": "9ffcda48",
   "metadata": {},
   "outputs": [
    {
     "data": {
      "text/html": [
       "<table border='1'>\n",
       "<tr><th>loan_id</th><th>total_rec_prncp</th><th>total_rec_int</th><th>total_rec_late_fee</th><th>total_pymnt</th><th>last_pymnt_amnt</th><th>last_pymnt_d</th><th>next_pymnt_d</th><th>Time</th></tr>\n",
       "</table>\n"
      ],
      "text/plain": [
       "+-------+---------------+-------------+------------------+-----------+---------------+------------+------------+----+\n",
       "|loan_id|total_rec_prncp|total_rec_int|total_rec_late_fee|total_pymnt|last_pymnt_amnt|last_pymnt_d|next_pymnt_d|Time|\n",
       "+-------+---------------+-------------+------------------+-----------+---------------+------------+------------+----+\n",
       "+-------+---------------+-------------+------------------+-----------+---------------+------------+------------+----+"
      ]
     },
     "execution_count": 14,
     "metadata": {},
     "output_type": "execute_result"
    }
   ],
   "source": [
    "df3.filter(\"total_pymnt is null\")"
   ]
  },
  {
   "cell_type": "code",
   "execution_count": null,
   "id": "c646b02c",
   "metadata": {},
   "outputs": [],
   "source": []
  },
  {
   "cell_type": "code",
   "execution_count": 15,
   "id": "f7a67b98",
   "metadata": {},
   "outputs": [],
   "source": [
    "df4 = df3.withColumn(\n",
    "    \"total_pymnt\",\n",
    "    when(\n",
    "        (col(\"total_rec_prncp\") != 0.0) & (col(\"total_pymnt\") == 0.0),\n",
    "        col(\"total_rec_prncp\") + col(\"total_rec_int\") + col(\"total_rec_late_fee\")\n",
    "    ).otherwise(col(\"total_pymnt\"))\n",
    ")"
   ]
  },
  {
   "cell_type": "code",
   "execution_count": 16,
   "id": "a04d9141",
   "metadata": {},
   "outputs": [
    {
     "data": {
      "text/html": [
       "<table border='1'>\n",
       "<tr><th>loan_id</th><th>total_rec_prncp</th><th>total_rec_int</th><th>total_rec_late_fee</th><th>total_pymnt</th><th>last_pymnt_amnt</th><th>last_pymnt_d</th><th>next_pymnt_d</th><th>Time</th></tr>\n",
       "<tr><td>28654395</td><td>18134.86</td><td>10868.86</td><td>0.0</td><td>29003.72</td><td>547.24</td><td>Mar-2019</td><td>Apr-2019</td><td>2025-07-26 04:22:...</td></tr>\n",
       "<tr><td>28714308</td><td>10134.68</td><td>4648.3</td><td>0.0</td><td>14782.98</td><td>279.1</td><td>Mar-2019</td><td>Apr-2019</td><td>2025-07-26 04:22:...</td></tr>\n",
       "<tr><td>7383129</td><td>14472.21</td><td>5487.4</td><td>0.0</td><td>19959.61</td><td>375.33</td><td>Mar-2019</td><td>Apr-2019</td><td>2025-07-26 04:22:...</td></tr>\n",
       "<tr><td>28613524</td><td>12062.42</td><td>6639.6</td><td>0.0</td><td>18702.02</td><td>352.41</td><td>Mar-2019</td><td>Apr-2019</td><td>2025-07-26 04:22:...</td></tr>\n",
       "<tr><td>27512265</td><td>10157.19</td><td>4456.22</td><td>0.0</td><td>14613.41</td><td>275.2</td><td>Mar-2019</td><td>Apr-2019</td><td>2025-07-26 04:22:...</td></tr>\n",
       "</table>\n"
      ],
      "text/plain": [
       "+--------+---------------+-------------+------------------+-----------+---------------+------------+------------+--------------------+\n",
       "| loan_id|total_rec_prncp|total_rec_int|total_rec_late_fee|total_pymnt|last_pymnt_amnt|last_pymnt_d|next_pymnt_d|                Time|\n",
       "+--------+---------------+-------------+------------------+-----------+---------------+------------+------------+--------------------+\n",
       "|28654395|       18134.86|     10868.86|               0.0|   29003.72|         547.24|    Mar-2019|    Apr-2019|2025-07-26 04:22:...|\n",
       "|28714308|       10134.68|       4648.3|               0.0|   14782.98|          279.1|    Mar-2019|    Apr-2019|2025-07-26 04:22:...|\n",
       "| 7383129|       14472.21|       5487.4|               0.0|   19959.61|         375.33|    Mar-2019|    Apr-2019|2025-07-26 04:22:...|\n",
       "|28613524|       12062.42|       6639.6|               0.0|   18702.02|         352.41|    Mar-2019|    Apr-2019|2025-07-26 04:22:...|\n",
       "|27512265|       10157.19|      4456.22|               0.0|   14613.41|          275.2|    Mar-2019|    Apr-2019|2025-07-26 04:22:...|\n",
       "+--------+---------------+-------------+------------------+-----------+---------------+------------+------------+--------------------+"
      ]
     },
     "execution_count": 16,
     "metadata": {},
     "output_type": "execute_result"
    }
   ],
   "source": [
    "df4.limit(5)"
   ]
  },
  {
   "cell_type": "code",
   "execution_count": null,
   "id": "8583070d",
   "metadata": {},
   "outputs": [],
   "source": []
  },
  {
   "cell_type": "code",
   "execution_count": 17,
   "id": "2d1289de",
   "metadata": {},
   "outputs": [
    {
     "data": {
      "text/html": [
       "<table border='1'>\n",
       "<tr><th>loan_id</th><th>total_rec_prncp</th><th>total_rec_int</th><th>total_rec_late_fee</th><th>total_pymnt</th><th>last_pymnt_amnt</th><th>last_pymnt_d</th><th>next_pymnt_d</th><th>Time</th></tr>\n",
       "</table>\n"
      ],
      "text/plain": [
       "+-------+---------------+-------------+------------------+-----------+---------------+------------+------------+----+\n",
       "|loan_id|total_rec_prncp|total_rec_int|total_rec_late_fee|total_pymnt|last_pymnt_amnt|last_pymnt_d|next_pymnt_d|Time|\n",
       "+-------+---------------+-------------+------------------+-----------+---------------+------------+------------+----+\n",
       "+-------+---------------+-------------+------------------+-----------+---------------+------------+------------+----+"
      ]
     },
     "execution_count": 17,
     "metadata": {},
     "output_type": "execute_result"
    }
   ],
   "source": [
    "df4.filter(\"total_pymnt=0.0\")"
   ]
  },
  {
   "cell_type": "code",
   "execution_count": 18,
   "id": "2cc94e0d",
   "metadata": {},
   "outputs": [],
   "source": [
    "\n",
    "df5 = df4.withColumn(\n",
    "    \"last_pymnt_d\",\n",
    "    when(col(\"last_pymnt_d\").rlike(\"^[0-9]\"), 'NULL')  \n",
    "    .otherwise(col(\"last_pymnt_d\"))  \n",
    ")"
   ]
  },
  {
   "cell_type": "code",
   "execution_count": null,
   "id": "5cec722a",
   "metadata": {},
   "outputs": [],
   "source": []
  },
  {
   "cell_type": "code",
   "execution_count": 19,
   "id": "e7ce4d93",
   "metadata": {},
   "outputs": [],
   "source": [
    "df6 = df4.withColumn(\n",
    "    \"next_pymnt_d\",\n",
    "    when(col(\"next_pymnt_d\").rlike(\"^[0-9]\"), 'NULL')  \n",
    "    .otherwise(col(\"next_pymnt_d\"))  \n",
    ")"
   ]
  },
  {
   "cell_type": "code",
   "execution_count": 20,
   "id": "ac762c2c",
   "metadata": {},
   "outputs": [
    {
     "data": {
      "text/plain": [
       "<pyspark.sql.readwriter.DataFrameWriter at 0x7f8004f7d0b8>"
      ]
     },
     "execution_count": 20,
     "metadata": {},
     "output_type": "execute_result"
    }
   ],
   "source": [
    "df6.write \\\n",
    ".format(\"csv\") \\\n",
    ".option(\"header\",True) \\\n",
    ".mode(\"overwrite\") \\\n",
    ".option(\"path\",\"/user/itv016843/cleaned/loans_1\")"
   ]
  },
  {
   "cell_type": "code",
   "execution_count": null,
   "id": "f567e0cb",
   "metadata": {},
   "outputs": [],
   "source": []
  }
 ],
 "metadata": {
  "kernelspec": {
   "display_name": "Pyspark 3",
   "language": "python",
   "name": "pyspark3"
  },
  "language_info": {
   "codemirror_mode": {
    "name": "ipython",
    "version": 3
   },
   "file_extension": ".py",
   "mimetype": "text/x-python",
   "name": "python",
   "nbconvert_exporter": "python",
   "pygments_lexer": "ipython3",
   "version": "3.6.12"
  }
 },
 "nbformat": 4,
 "nbformat_minor": 5
}
