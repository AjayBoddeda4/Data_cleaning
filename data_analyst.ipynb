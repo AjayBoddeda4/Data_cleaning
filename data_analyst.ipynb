{
 "cells": [
  {
   "cell_type": "code",
   "execution_count": 1,
   "id": "df81e1df",
   "metadata": {},
   "outputs": [],
   "source": [
    "from pyspark.sql import SparkSession"
   ]
  },
  {
   "cell_type": "code",
   "execution_count": null,
   "id": "b113c40a",
   "metadata": {},
   "outputs": [],
   "source": [
    "spark = SparkSession .\\\n",
    "builder .\\\n",
    "appName(\"spark\") .\\\n",
    "config(\"spark.sql.warehouse.dir\",\"/user/itv016843/warehouse\") .\\\n",
    "enableHiveSupport() .\\\n",
    "master(\"yarn\") .\\\n",
    "getOrCreate()"
   ]
  },
  {
   "cell_type": "code",
   "execution_count": null,
   "id": "cc812f5d",
   "metadata": {},
   "outputs": [],
   "source": [
    "spark"
   ]
  },
  {
   "cell_type": "code",
   "execution_count": null,
   "id": "24019811",
   "metadata": {},
   "outputs": [],
   "source": []
  },
  {
   "cell_type": "code",
   "execution_count": null,
   "id": "4237435e",
   "metadata": {},
   "outputs": [],
   "source": [
    "! hadoop fs -ls /public/trendytech/lendingclubproject/cleaned"
   ]
  },
  {
   "cell_type": "code",
   "execution_count": null,
   "id": "1ef5334a",
   "metadata": {},
   "outputs": [],
   "source": [
    "! hadoop fs -ls /user/itv016843/cleaned"
   ]
  },
  {
   "cell_type": "code",
   "execution_count": null,
   "id": "5bb71570",
   "metadata": {},
   "outputs": [],
   "source": [
    "df1 = spark.read \\\n",
    ".format(\"parquet\") \\\n",
    ".option(\"header\",True) \\\n",
    ".load(\"/public/trendytech/lendingclubproject/cleaned/customers_parquet\")"
   ]
  },
  {
   "cell_type": "code",
   "execution_count": null,
   "id": "9ed3071a",
   "metadata": {},
   "outputs": [],
   "source": [
    "df1.limit(5)"
   ]
  },
  {
   "cell_type": "code",
   "execution_count": null,
   "id": "5f0cdee0",
   "metadata": {},
   "outputs": [],
   "source": [
    "spark.sql(\"use ajdb1\")"
   ]
  },
  {
   "cell_type": "code",
   "execution_count": null,
   "id": "34e64644",
   "metadata": {},
   "outputs": [],
   "source": [
    "spark.sql(\"show tables\")"
   ]
  },
  {
   "cell_type": "code",
   "execution_count": null,
   "id": "6bc15600",
   "metadata": {},
   "outputs": [],
   "source": [
    "drop table customers"
   ]
  },
  {
   "cell_type": "code",
   "execution_count": null,
   "id": "3e9b191c",
   "metadata": {},
   "outputs": [],
   "source": [
    "spark.sql(\"\"\"\n",
    "CREATE EXTERNAL TABLE customers (\n",
    "  member_id STRING,\n",
    "  emp_title STRING,\n",
    "  emp_length STRING,\n",
    "  home_ownership STRING,\n",
    "  annual_income DOUBLE,\n",
    "  address_state STRING,\n",
    "  address_zipcode STRING,\n",
    "  address_country STRING,\n",
    "  grade STRING,\n",
    "  sub_grade STRING,\n",
    "  verification_status STRING,\n",
    "  total_high_credit_limit DOUBLE,\n",
    "  application_type STRING,\n",
    "  join_annual_income DOUBLE,\n",
    "  verification_status_joint STRING)\n",
    "  \n",
    "  stored as parquet location '/public/trendytech/lendingclubproject/cleaned/customers_parquet'\n",
    "\"\"\")"
   ]
  },
  {
   "cell_type": "code",
   "execution_count": null,
   "id": "746c8e5c",
   "metadata": {},
   "outputs": [],
   "source": [
    "df2 = spark.read \\\n",
    ".format(\"csv\") \\\n",
    ".option(\"header\",True) \\\n",
    ".load(\"/public/trendytech/lendingclubproject/cleaned/loans_csv\")"
   ]
  },
  {
   "cell_type": "code",
   "execution_count": null,
   "id": "0cf106af",
   "metadata": {},
   "outputs": [],
   "source": [
    "df2.limit(5)"
   ]
  },
  {
   "cell_type": "code",
   "execution_count": null,
   "id": "c8cff226",
   "metadata": {},
   "outputs": [],
   "source": [
    "drop table loans"
   ]
  },
  {
   "cell_type": "code",
   "execution_count": null,
   "id": "e25a1214",
   "metadata": {},
   "outputs": [],
   "source": [
    "spark.sql(\"\"\"\n",
    "CREATE EXTERNAL TABLE loans (\n",
    "  loan_id STRING,\n",
    "  member_id STRING,\n",
    "  loan_amount DOUBLE,\n",
    "  funded_amount DOUBLE,\n",
    "  loan_term_years INT,\n",
    "  interest_rate DOUBLE,\n",
    "  monthly_installment DOUBLE,\n",
    "  issue_date STRING,\n",
    "  loan_status STRING,\n",
    "  loan_purpose STRING,\n",
    "  loan_title STRING\n",
    ")\n",
    "STORED AS PARQUET\n",
    "LOCATION '/public/trendytech/lendingclubproject/cleaned/loans_parquet'\n",
    "\"\"\")"
   ]
  },
  {
   "cell_type": "code",
   "execution_count": null,
   "id": "a4ac803f",
   "metadata": {},
   "outputs": [],
   "source": [
    "df2 = spark.read \\\n",
    ".format(\"csv\") \\\n",
    ".option(\"header\",True) \\\n",
    ".load(\"/public/trendytech/lendingclubproject/cleaned/loans_defaulters_detail_records_enq_csv\")"
   ]
  },
  {
   "cell_type": "code",
   "execution_count": null,
   "id": "0b87e302",
   "metadata": {},
   "outputs": [],
   "source": [
    "df2.limit(5)"
   ]
  },
  {
   "cell_type": "code",
   "execution_count": null,
   "id": "1206c91b",
   "metadata": {},
   "outputs": [],
   "source": [
    "spark.sql(\"\"\"\n",
    "CREATE EXTERNAL TABLE credit_info (\n",
    "  member_id STRING,\n",
    "  pub_rec INT,\n",
    "  pub_rec_bankruptcies INT,\n",
    "  inq_last_6mths INT\n",
    ")\n",
    "ROW FORMAT DELIMITED\n",
    "FIELDS TERMINATED BY ','\n",
    "STORED AS TEXTFILE\n",
    "LOCATION '/public/trendytech/lendingclubproject/cleaned/loans_defaulters_detail_records_enq_csv'\n",
    "\"\"\")"
   ]
  },
  {
   "cell_type": "code",
   "execution_count": null,
   "id": "40a071db",
   "metadata": {},
   "outputs": [],
   "source": []
  },
  {
   "cell_type": "code",
   "execution_count": null,
   "id": "ba53431f",
   "metadata": {},
   "outputs": [],
   "source": []
  },
  {
   "cell_type": "code",
   "execution_count": null,
   "id": "1974b17e",
   "metadata": {},
   "outputs": [],
   "source": []
  },
  {
   "cell_type": "code",
   "execution_count": null,
   "id": "0a50aee3",
   "metadata": {},
   "outputs": [],
   "source": []
  }
 ],
 "metadata": {
  "kernelspec": {
   "display_name": "Pyspark 3",
   "language": "python",
   "name": "pyspark3"
  },
  "language_info": {
   "codemirror_mode": {
    "name": "ipython",
    "version": 3
   },
   "file_extension": ".py",
   "mimetype": "text/x-python",
   "name": "python",
   "nbconvert_exporter": "python",
   "pygments_lexer": "ipython3",
   "version": "3.6.12"
  }
 },
 "nbformat": 4,
 "nbformat_minor": 5
}
