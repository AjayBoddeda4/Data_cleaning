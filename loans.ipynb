{
 "cells": [
  {
   "cell_type": "code",
   "execution_count": 1,
   "id": "903e1809",
   "metadata": {},
   "outputs": [],
   "source": [
    "from pyspark.sql import SparkSession"
   ]
  },
  {
   "cell_type": "code",
   "execution_count": 2,
   "id": "3c6c08a9",
   "metadata": {},
   "outputs": [],
   "source": [
    "spark = SparkSession .\\\n",
    "builder .\\\n",
    "appName(\"spark\") .\\\n",
    "config(\"spark.sql.warehouse.dir\",\"/user/itv016843/warehouse\") .\\\n",
    "enableHiveSupport() .\\\n",
    "master(\"yarn\") .\\\n",
    "getOrCreate()"
   ]
  },
  {
   "cell_type": "code",
   "execution_count": 3,
   "id": "0c1834f1",
   "metadata": {},
   "outputs": [
    {
     "data": {
      "text/html": [
       "\n",
       "            <div>\n",
       "                <p><b>SparkSession - hive</b></p>\n",
       "                \n",
       "        <div>\n",
       "            <p><b>SparkContext</b></p>\n",
       "\n",
       "            <p><a href=\"http://g02.itversity.com:4040\">Spark UI</a></p>\n",
       "\n",
       "            <dl>\n",
       "              <dt>Version</dt>\n",
       "                <dd><code>v3.1.2</code></dd>\n",
       "              <dt>Master</dt>\n",
       "                <dd><code>yarn</code></dd>\n",
       "              <dt>AppName</dt>\n",
       "                <dd><code>spark</code></dd>\n",
       "            </dl>\n",
       "        </div>\n",
       "        \n",
       "            </div>\n",
       "        "
      ],
      "text/plain": [
       "<pyspark.sql.session.SparkSession at 0x7f64035e9a58>"
      ]
     },
     "execution_count": 3,
     "metadata": {},
     "output_type": "execute_result"
    }
   ],
   "source": [
    "spark"
   ]
  },
  {
   "cell_type": "code",
   "execution_count": null,
   "id": "a47937e0",
   "metadata": {},
   "outputs": [],
   "source": []
  },
  {
   "cell_type": "code",
   "execution_count": 4,
   "id": "19dafa45",
   "metadata": {},
   "outputs": [],
   "source": [
    "from pyspark.sql.functions import *"
   ]
  },
  {
   "cell_type": "code",
   "execution_count": 5,
   "id": "78f562a4",
   "metadata": {},
   "outputs": [],
   "source": [
    "from pyspark.sql import *"
   ]
  },
  {
   "cell_type": "code",
   "execution_count": 6,
   "id": "4b892143",
   "metadata": {},
   "outputs": [
    {
     "name": "stdout",
     "output_type": "stream",
     "text": [
      "Found 4 items\n",
      "drwxr-xr-x   - itv005857 supergroup          0 2023-09-15 14:40 /public/trendytech/lendingclubproject/raw/customers_data_csv\n",
      "drwxr-xr-x   - itv005857 supergroup          0 2023-09-17 22:57 /public/trendytech/lendingclubproject/raw/loans_data_csv\n",
      "drwxr-xr-x   - itv005857 supergroup          0 2023-09-18 07:32 /public/trendytech/lendingclubproject/raw/loans_defaulters_csv\n",
      "drwxr-xr-x   - itv005857 supergroup          0 2023-09-18 07:31 /public/trendytech/lendingclubproject/raw/loans_repayments_csv\n"
     ]
    }
   ],
   "source": [
    "! hadoop fs -ls /public/trendytech/lendingclubproject/raw"
   ]
  },
  {
   "cell_type": "code",
   "execution_count": null,
   "id": "377aba85",
   "metadata": {},
   "outputs": [],
   "source": []
  },
  {
   "cell_type": "code",
   "execution_count": 7,
   "id": "f5cf72ef",
   "metadata": {},
   "outputs": [],
   "source": [
    "df1 = spark.read \\\n",
    ".format(\"csv\") \\\n",
    ".option(\"header\",True) \\\n",
    ".load(\"/public/trendytech/lendingclubproject/raw/loans_data_csv\")"
   ]
  },
  {
   "cell_type": "code",
   "execution_count": 8,
   "id": "6f37edc7",
   "metadata": {},
   "outputs": [
    {
     "data": {
      "text/html": [
       "<table border='1'>\n",
       "<tr><th>loan_id</th><th>member_id</th><th>loan_amnt</th><th>funded_amnt</th><th>term</th><th>int_rate</th><th>installment</th><th>issue_d</th><th>loan_status</th><th>purpose</th><th>title</th></tr>\n",
       "<tr><td>56633077</td><td>b59d80da191f5b573...</td><td>3000.0</td><td>3000.0</td><td>36 months</td><td>7.89</td><td>93.86</td><td>Aug-2015</td><td>Fully Paid</td><td>credit_card</td><td>Credit card refin...</td></tr>\n",
       "<tr><td>55927518</td><td>202d9f56ecb7c3bc9...</td><td>15600.0</td><td>15600.0</td><td>36 months</td><td>7.89</td><td>488.06</td><td>Aug-2015</td><td>Fully Paid</td><td>credit_card</td><td>Credit card refin...</td></tr>\n",
       "<tr><td>56473345</td><td>e5a140c0922b554b9...</td><td>20000.0</td><td>20000.0</td><td>36 months</td><td>9.17</td><td>637.58</td><td>Aug-2015</td><td>Fully Paid</td><td>debt_consolidation</td><td>Debt consolidation</td></tr>\n",
       "<tr><td>56463188</td><td>e12aefc548f750777...</td><td>11200.0</td><td>11200.0</td><td>60 months</td><td>21.99</td><td>309.27</td><td>Aug-2015</td><td>Fully Paid</td><td>home_improvement</td><td>Home improvement</td></tr>\n",
       "<tr><td>56473316</td><td>1b3a50d854fbbf97e...</td><td>16000.0</td><td>16000.0</td><td>60 months</td><td>20.99</td><td>432.77</td><td>Aug-2015</td><td>Charged Off</td><td>debt_consolidation</td><td>Debt consolidation</td></tr>\n",
       "</table>\n"
      ],
      "text/plain": [
       "+--------+--------------------+---------+-----------+---------+--------+-----------+--------+-----------+------------------+--------------------+\n",
       "| loan_id|           member_id|loan_amnt|funded_amnt|     term|int_rate|installment| issue_d|loan_status|           purpose|               title|\n",
       "+--------+--------------------+---------+-----------+---------+--------+-----------+--------+-----------+------------------+--------------------+\n",
       "|56633077|b59d80da191f5b573...|   3000.0|     3000.0|36 months|    7.89|      93.86|Aug-2015| Fully Paid|       credit_card|Credit card refin...|\n",
       "|55927518|202d9f56ecb7c3bc9...|  15600.0|    15600.0|36 months|    7.89|     488.06|Aug-2015| Fully Paid|       credit_card|Credit card refin...|\n",
       "|56473345|e5a140c0922b554b9...|  20000.0|    20000.0|36 months|    9.17|     637.58|Aug-2015| Fully Paid|debt_consolidation|  Debt consolidation|\n",
       "|56463188|e12aefc548f750777...|  11200.0|    11200.0|60 months|   21.99|     309.27|Aug-2015| Fully Paid|  home_improvement|    Home improvement|\n",
       "|56473316|1b3a50d854fbbf97e...|  16000.0|    16000.0|60 months|   20.99|     432.77|Aug-2015|Charged Off|debt_consolidation|  Debt consolidation|\n",
       "+--------+--------------------+---------+-----------+---------+--------+-----------+--------+-----------+------------------+--------------------+"
      ]
     },
     "execution_count": 8,
     "metadata": {},
     "output_type": "execute_result"
    }
   ],
   "source": [
    "df1.limit(5)"
   ]
  },
  {
   "cell_type": "code",
   "execution_count": null,
   "id": "7a513d81",
   "metadata": {},
   "outputs": [],
   "source": []
  },
  {
   "cell_type": "code",
   "execution_count": 9,
   "id": "74063794",
   "metadata": {},
   "outputs": [],
   "source": [
    "df2 = df1.withColumn(\"Time\",current_timestamp())"
   ]
  },
  {
   "cell_type": "code",
   "execution_count": 10,
   "id": "68d59d57",
   "metadata": {},
   "outputs": [
    {
     "data": {
      "text/html": [
       "<table border='1'>\n",
       "<tr><th>loan_id</th><th>member_id</th><th>loan_amnt</th><th>funded_amnt</th><th>term</th><th>int_rate</th><th>installment</th><th>issue_d</th><th>loan_status</th><th>purpose</th><th>title</th><th>Time</th></tr>\n",
       "<tr><td>145499677</td><td>a703357afc7be3fe3...</td><td>10000.0</td><td>10000.0</td><td>36 months</td><td>8.19</td><td>314.25</td><td>Dec-2018</td><td>Fully Paid</td><td>debt_consolidation</td><td>Debt consolidation</td><td>2025-07-26 02:52:...</td></tr>\n",
       "<tr><td>144538467</td><td>a0c637c3df6764663...</td><td>5000.0</td><td>5000.0</td><td>36 months</td><td>15.02</td><td>173.38</td><td>Dec-2018</td><td>Current</td><td>other</td><td>Other</td><td>2025-07-26 02:52:...</td></tr>\n",
       "<tr><td>145515405</td><td>63571114d3a96e5bc...</td><td>7500.0</td><td>7500.0</td><td>36 months</td><td>10.33</td><td>243.17</td><td>Dec-2018</td><td>Current</td><td>debt_consolidation</td><td>Debt consolidation</td><td>2025-07-26 02:52:...</td></tr>\n",
       "<tr><td>145207340</td><td>4db14234c3f2f87c1...</td><td>20400.0</td><td>20400.0</td><td>60 months</td><td>16.14</td><td>497.61</td><td>Dec-2018</td><td>Current</td><td>home_improvement</td><td>Home improvement</td><td>2025-07-26 02:52:...</td></tr>\n",
       "<tr><td>145467050</td><td>88a6f97ff3afc51b6...</td><td>12000.0</td><td>12000.0</td><td>36 months</td><td>7.02</td><td>370.64</td><td>Dec-2018</td><td>Current</td><td>credit_card</td><td>Credit card refin...</td><td>2025-07-26 02:52:...</td></tr>\n",
       "</table>\n"
      ],
      "text/plain": [
       "+--------+--------------------+---------+-----------+---------+--------+-----------+--------+-----------+------------------+--------------------+--------------------+\n",
       "| loan_id|           member_id|loan_amnt|funded_amnt|     term|int_rate|installment| issue_d|loan_status|           purpose|               title|                Time|\n",
       "+--------+--------------------+---------+-----------+---------+--------+-----------+--------+-----------+------------------+--------------------+--------------------+\n",
       "|56633077|b59d80da191f5b573...|   3000.0|     3000.0|36 months|    7.89|      93.86|Aug-2015| Fully Paid|       credit_card|Credit card refin...|2025-07-26 02:52:...|\n",
       "|55927518|202d9f56ecb7c3bc9...|  15600.0|    15600.0|36 months|    7.89|     488.06|Aug-2015| Fully Paid|       credit_card|Credit card refin...|2025-07-26 02:52:...|\n",
       "|56473345|e5a140c0922b554b9...|  20000.0|    20000.0|36 months|    9.17|     637.58|Aug-2015| Fully Paid|debt_consolidation|  Debt consolidation|2025-07-26 02:52:...|\n",
       "|56463188|e12aefc548f750777...|  11200.0|    11200.0|60 months|   21.99|     309.27|Aug-2015| Fully Paid|  home_improvement|    Home improvement|2025-07-26 02:52:...|\n",
       "|56473316|1b3a50d854fbbf97e...|  16000.0|    16000.0|60 months|   20.99|     432.77|Aug-2015|Charged Off|debt_consolidation|  Debt consolidation|2025-07-26 02:52:...|\n",
       "+--------+--------------------+---------+-----------+---------+--------+-----------+--------+-----------+------------------+--------------------+--------------------+"
      ]
     },
     "execution_count": 10,
     "metadata": {},
     "output_type": "execute_result"
    }
   ],
   "source": [
    "df2.limit(5)"
   ]
  },
  {
   "cell_type": "code",
   "execution_count": 11,
   "id": "40dc4226",
   "metadata": {},
   "outputs": [
    {
     "data": {
      "text/plain": [
       "2260701"
      ]
     },
     "execution_count": 11,
     "metadata": {},
     "output_type": "execute_result"
    }
   ],
   "source": [
    "df2.count()"
   ]
  },
  {
   "cell_type": "code",
   "execution_count": null,
   "id": "b4900153",
   "metadata": {},
   "outputs": [],
   "source": []
  },
  {
   "cell_type": "code",
   "execution_count": 12,
   "id": "f8c94cf6",
   "metadata": {},
   "outputs": [],
   "source": [
    "columns = [\n",
    "    \"loan_amnt\", \"funded_amnt\", \"term\", \"int_rate\", \"installment\",\n",
    "    \"issue_d\", \"loan_status\", \"purpose\", \"title\"\n",
    "]"
   ]
  },
  {
   "cell_type": "code",
   "execution_count": 13,
   "id": "537da256",
   "metadata": {},
   "outputs": [],
   "source": [
    "df3 = df2.na.drop(subset = columns)"
   ]
  },
  {
   "cell_type": "code",
   "execution_count": 14,
   "id": "cd88678c",
   "metadata": {},
   "outputs": [
    {
     "data": {
      "text/plain": [
       "2237341"
      ]
     },
     "execution_count": 14,
     "metadata": {},
     "output_type": "execute_result"
    }
   ],
   "source": [
    "df3.count()"
   ]
  },
  {
   "cell_type": "code",
   "execution_count": 15,
   "id": "5c9820b2",
   "metadata": {},
   "outputs": [
    {
     "data": {
      "text/html": [
       "<table border='1'>\n",
       "<tr><th>loan_id</th><th>member_id</th><th>loan_amnt</th><th>funded_amnt</th><th>term</th><th>int_rate</th><th>installment</th><th>issue_d</th><th>loan_status</th><th>purpose</th><th>title</th><th>Time</th></tr>\n",
       "<tr><td>13048578</td><td>ae2a45f96691a33e2...</td><td>30000.0</td><td>30000.0</td><td>60 months</td><td>22.45</td><td>836.27</td><td>Mar-2014</td><td>Fully Paid</td><td>debt_consolidation</td><td>Debt consolidation</td><td>2025-07-26 02:52:...</td></tr>\n",
       "<tr><td>13028587</td><td>bc56a941d1b4a0ded...</td><td>3500.0</td><td>3500.0</td><td>36 months</td><td>13.65</td><td>119.03</td><td>Mar-2014</td><td>Fully Paid</td><td>debt_consolidation</td><td>Debt consolidation</td><td>2025-07-26 02:52:...</td></tr>\n",
       "<tr><td>13048646</td><td>ec235820c5f579fe6...</td><td>20000.0</td><td>20000.0</td><td>60 months</td><td>18.92</td><td>517.94</td><td>Apr-2014</td><td>Charged Off</td><td>medical</td><td>Medical expenses</td><td>2025-07-26 02:52:...</td></tr>\n",
       "<tr><td>13045633</td><td>87c71f39b975e9b1c...</td><td>10000.0</td><td>10000.0</td><td>60 months</td><td>15.61</td><td>241.12</td><td>Mar-2014</td><td>Fully Paid</td><td>credit_card</td><td>Credit card refin...</td><td>2025-07-26 02:52:...</td></tr>\n",
       "<tr><td>13018547</td><td>8ce13bae24094c318...</td><td>30000.0</td><td>30000.0</td><td>60 months</td><td>19.99</td><td>794.65</td><td>Mar-2014</td><td>Fully Paid</td><td>debt_consolidation</td><td>Debt consolidation</td><td>2025-07-26 02:52:...</td></tr>\n",
       "</table>\n"
      ],
      "text/plain": [
       "+--------+--------------------+---------+-----------+---------+--------+-----------+--------+-----------+------------------+--------------------+--------------------+\n",
       "| loan_id|           member_id|loan_amnt|funded_amnt|     term|int_rate|installment| issue_d|loan_status|           purpose|               title|                Time|\n",
       "+--------+--------------------+---------+-----------+---------+--------+-----------+--------+-----------+------------------+--------------------+--------------------+\n",
       "|13048578|ae2a45f96691a33e2...|  30000.0|    30000.0|60 months|   22.45|     836.27|Mar-2014| Fully Paid|debt_consolidation|  Debt consolidation|2025-07-26 02:52:...|\n",
       "|13028587|bc56a941d1b4a0ded...|   3500.0|     3500.0|36 months|   13.65|     119.03|Mar-2014| Fully Paid|debt_consolidation|  Debt consolidation|2025-07-26 02:52:...|\n",
       "|13048646|ec235820c5f579fe6...|  20000.0|    20000.0|60 months|   18.92|     517.94|Apr-2014|Charged Off|           medical|    Medical expenses|2025-07-26 02:52:...|\n",
       "|13045633|87c71f39b975e9b1c...|  10000.0|    10000.0|60 months|   15.61|     241.12|Mar-2014| Fully Paid|       credit_card|Credit card refin...|2025-07-26 02:52:...|\n",
       "|13018547|8ce13bae24094c318...|  30000.0|    30000.0|60 months|   19.99|     794.65|Mar-2014| Fully Paid|debt_consolidation|  Debt consolidation|2025-07-26 02:52:...|\n",
       "+--------+--------------------+---------+-----------+---------+--------+-----------+--------+-----------+------------------+--------------------+--------------------+"
      ]
     },
     "execution_count": 15,
     "metadata": {},
     "output_type": "execute_result"
    }
   ],
   "source": [
    "df3.limit(5)"
   ]
  },
  {
   "cell_type": "code",
   "execution_count": 16,
   "id": "bb6e332e",
   "metadata": {},
   "outputs": [],
   "source": [
    "df4 = df3.withColumn(\"term\",regexp_replace(col(\"term\"),\"months\",\" \").cast(\"int\")/12)"
   ]
  },
  {
   "cell_type": "code",
   "execution_count": 17,
   "id": "53340090",
   "metadata": {},
   "outputs": [
    {
     "data": {
      "text/html": [
       "<table border='1'>\n",
       "<tr><th>loan_id</th><th>member_id</th><th>loan_amnt</th><th>funded_amnt</th><th>term</th><th>int_rate</th><th>installment</th><th>issue_d</th><th>loan_status</th><th>purpose</th><th>title</th><th>Time</th></tr>\n",
       "<tr><td>56633077</td><td>b59d80da191f5b573...</td><td>3000.0</td><td>3000.0</td><td>3.0</td><td>7.89</td><td>93.86</td><td>Aug-2015</td><td>Fully Paid</td><td>credit_card</td><td>Credit card refin...</td><td>2025-07-26 02:52:...</td></tr>\n",
       "<tr><td>55927518</td><td>202d9f56ecb7c3bc9...</td><td>15600.0</td><td>15600.0</td><td>3.0</td><td>7.89</td><td>488.06</td><td>Aug-2015</td><td>Fully Paid</td><td>credit_card</td><td>Credit card refin...</td><td>2025-07-26 02:52:...</td></tr>\n",
       "<tr><td>56473345</td><td>e5a140c0922b554b9...</td><td>20000.0</td><td>20000.0</td><td>3.0</td><td>9.17</td><td>637.58</td><td>Aug-2015</td><td>Fully Paid</td><td>debt_consolidation</td><td>Debt consolidation</td><td>2025-07-26 02:52:...</td></tr>\n",
       "<tr><td>56463188</td><td>e12aefc548f750777...</td><td>11200.0</td><td>11200.0</td><td>5.0</td><td>21.99</td><td>309.27</td><td>Aug-2015</td><td>Fully Paid</td><td>home_improvement</td><td>Home improvement</td><td>2025-07-26 02:52:...</td></tr>\n",
       "<tr><td>56473316</td><td>1b3a50d854fbbf97e...</td><td>16000.0</td><td>16000.0</td><td>5.0</td><td>20.99</td><td>432.77</td><td>Aug-2015</td><td>Charged Off</td><td>debt_consolidation</td><td>Debt consolidation</td><td>2025-07-26 02:52:...</td></tr>\n",
       "</table>\n"
      ],
      "text/plain": [
       "+--------+--------------------+---------+-----------+----+--------+-----------+--------+-----------+------------------+--------------------+--------------------+\n",
       "| loan_id|           member_id|loan_amnt|funded_amnt|term|int_rate|installment| issue_d|loan_status|           purpose|               title|                Time|\n",
       "+--------+--------------------+---------+-----------+----+--------+-----------+--------+-----------+------------------+--------------------+--------------------+\n",
       "|56633077|b59d80da191f5b573...|   3000.0|     3000.0| 3.0|    7.89|      93.86|Aug-2015| Fully Paid|       credit_card|Credit card refin...|2025-07-26 02:52:...|\n",
       "|55927518|202d9f56ecb7c3bc9...|  15600.0|    15600.0| 3.0|    7.89|     488.06|Aug-2015| Fully Paid|       credit_card|Credit card refin...|2025-07-26 02:52:...|\n",
       "|56473345|e5a140c0922b554b9...|  20000.0|    20000.0| 3.0|    9.17|     637.58|Aug-2015| Fully Paid|debt_consolidation|  Debt consolidation|2025-07-26 02:52:...|\n",
       "|56463188|e12aefc548f750777...|  11200.0|    11200.0| 5.0|   21.99|     309.27|Aug-2015| Fully Paid|  home_improvement|    Home improvement|2025-07-26 02:52:...|\n",
       "|56473316|1b3a50d854fbbf97e...|  16000.0|    16000.0| 5.0|   20.99|     432.77|Aug-2015|Charged Off|debt_consolidation|  Debt consolidation|2025-07-26 02:52:...|\n",
       "+--------+--------------------+---------+-----------+----+--------+-----------+--------+-----------+------------------+--------------------+--------------------+"
      ]
     },
     "execution_count": 17,
     "metadata": {},
     "output_type": "execute_result"
    }
   ],
   "source": [
    "df4.limit(5)"
   ]
  },
  {
   "cell_type": "code",
   "execution_count": 18,
   "id": "c0682ee3",
   "metadata": {},
   "outputs": [],
   "source": [
    "df5 = df4.withColumn(\"term\",df4.term.cast(\"int\"))"
   ]
  },
  {
   "cell_type": "code",
   "execution_count": 19,
   "id": "430c3208",
   "metadata": {},
   "outputs": [
    {
     "data": {
      "text/html": [
       "<table border='1'>\n",
       "<tr><th>loan_id</th><th>member_id</th><th>loan_amnt</th><th>funded_amnt</th><th>term</th><th>int_rate</th><th>installment</th><th>issue_d</th><th>loan_status</th><th>purpose</th><th>title</th><th>Time</th></tr>\n",
       "<tr><td>56633077</td><td>b59d80da191f5b573...</td><td>3000.0</td><td>3000.0</td><td>3</td><td>7.89</td><td>93.86</td><td>Aug-2015</td><td>Fully Paid</td><td>credit_card</td><td>Credit card refin...</td><td>2025-07-26 02:52:...</td></tr>\n",
       "<tr><td>55927518</td><td>202d9f56ecb7c3bc9...</td><td>15600.0</td><td>15600.0</td><td>3</td><td>7.89</td><td>488.06</td><td>Aug-2015</td><td>Fully Paid</td><td>credit_card</td><td>Credit card refin...</td><td>2025-07-26 02:52:...</td></tr>\n",
       "<tr><td>56473345</td><td>e5a140c0922b554b9...</td><td>20000.0</td><td>20000.0</td><td>3</td><td>9.17</td><td>637.58</td><td>Aug-2015</td><td>Fully Paid</td><td>debt_consolidation</td><td>Debt consolidation</td><td>2025-07-26 02:52:...</td></tr>\n",
       "<tr><td>56463188</td><td>e12aefc548f750777...</td><td>11200.0</td><td>11200.0</td><td>5</td><td>21.99</td><td>309.27</td><td>Aug-2015</td><td>Fully Paid</td><td>home_improvement</td><td>Home improvement</td><td>2025-07-26 02:52:...</td></tr>\n",
       "<tr><td>56473316</td><td>1b3a50d854fbbf97e...</td><td>16000.0</td><td>16000.0</td><td>5</td><td>20.99</td><td>432.77</td><td>Aug-2015</td><td>Charged Off</td><td>debt_consolidation</td><td>Debt consolidation</td><td>2025-07-26 02:52:...</td></tr>\n",
       "</table>\n"
      ],
      "text/plain": [
       "+--------+--------------------+---------+-----------+----+--------+-----------+--------+-----------+------------------+--------------------+--------------------+\n",
       "| loan_id|           member_id|loan_amnt|funded_amnt|term|int_rate|installment| issue_d|loan_status|           purpose|               title|                Time|\n",
       "+--------+--------------------+---------+-----------+----+--------+-----------+--------+-----------+------------------+--------------------+--------------------+\n",
       "|13048578|ae2a45f96691a33e2...|  30000.0|    30000.0|   5|   22.45|     836.27|Mar-2014| Fully Paid|debt_consolidation|  Debt consolidation|2025-07-26 02:52:...|\n",
       "|13028587|bc56a941d1b4a0ded...|   3500.0|     3500.0|   3|   13.65|     119.03|Mar-2014| Fully Paid|debt_consolidation|  Debt consolidation|2025-07-26 02:52:...|\n",
       "|13048646|ec235820c5f579fe6...|  20000.0|    20000.0|   5|   18.92|     517.94|Apr-2014|Charged Off|           medical|    Medical expenses|2025-07-26 02:52:...|\n",
       "|13045633|87c71f39b975e9b1c...|  10000.0|    10000.0|   5|   15.61|     241.12|Mar-2014| Fully Paid|       credit_card|Credit card refin...|2025-07-26 02:52:...|\n",
       "|13018547|8ce13bae24094c318...|  30000.0|    30000.0|   5|   19.99|     794.65|Mar-2014| Fully Paid|debt_consolidation|  Debt consolidation|2025-07-26 02:52:...|\n",
       "+--------+--------------------+---------+-----------+----+--------+-----------+--------+-----------+------------------+--------------------+--------------------+"
      ]
     },
     "execution_count": 19,
     "metadata": {},
     "output_type": "execute_result"
    }
   ],
   "source": [
    "df5.limit(5)"
   ]
  },
  {
   "cell_type": "code",
   "execution_count": 21,
   "id": "de21db41",
   "metadata": {},
   "outputs": [
    {
     "data": {
      "text/html": [
       "<table border='1'>\n",
       "<tr><th>purpose</th><th>count</th></tr>\n",
       "<tr><td>debt_consolidation</td><td>1263422</td></tr>\n",
       "<tr><td>credit_card</td><td>511459</td></tr>\n",
       "<tr><td>home_improvement</td><td>149141</td></tr>\n",
       "<tr><td>other</td><td>138623</td></tr>\n",
       "<tr><td>major_purchase</td><td>50050</td></tr>\n",
       "<tr><td>medical</td><td>27247</td></tr>\n",
       "<tr><td>small_business</td><td>24416</td></tr>\n",
       "<tr><td>car</td><td>23815</td></tr>\n",
       "<tr><td>vacation</td><td>15373</td></tr>\n",
       "<tr><td>moving</td><td>15297</td></tr>\n",
       "<tr><td>house</td><td>14051</td></tr>\n",
       "<tr><td>wedding</td><td>2351</td></tr>\n",
       "<tr><td>renewable_energy</td><td>1433</td></tr>\n",
       "<tr><td>educational</td><td>410</td></tr>\n",
       "<tr><td>please feel free ...</td><td>1</td></tr>\n",
       "<tr><td>putting together ...</td><td>1</td></tr>\n",
       "<tr><td>but we cant all b...</td><td>1</td></tr>\n",
       "<tr><td>on one of the bus...</td><td>1</td></tr>\n",
       "<tr><td>I became his prim...</td><td>1</td></tr>\n",
       "<tr><td>brakes</td><td>1</td></tr>\n",
       "</table>\n",
       "only showing top 20 rows\n"
      ],
      "text/plain": [
       "+--------------------+-------+\n",
       "|             purpose|  count|\n",
       "+--------------------+-------+\n",
       "|  debt_consolidation|1263422|\n",
       "|         credit_card| 511459|\n",
       "|    home_improvement| 149141|\n",
       "|               other| 138623|\n",
       "|      major_purchase|  50050|\n",
       "|             medical|  27247|\n",
       "|      small_business|  24416|\n",
       "|                 car|  23815|\n",
       "|            vacation|  15373|\n",
       "|              moving|  15297|\n",
       "|               house|  14051|\n",
       "|             wedding|   2351|\n",
       "|    renewable_energy|   1433|\n",
       "|         educational|    410|\n",
       "|but not much info...|      1|\n",
       "|              stocks|      1|\n",
       "|and also pay off ...|      1|\n",
       "|putting together ...|      1|\n",
       "|please feel free ...|      1|\n",
       "|but I've still go...|      1|\n",
       "+--------------------+-------+\n",
       "only showing top 20 rows"
      ]
     },
     "execution_count": 21,
     "metadata": {},
     "output_type": "execute_result"
    }
   ],
   "source": [
    "df5.groupBy(\"purpose\").count().sort(\"count\",ascending=False)"
   ]
  },
  {
   "cell_type": "code",
   "execution_count": 22,
   "id": "0ee91c5d",
   "metadata": {},
   "outputs": [],
   "source": [
    "purpose_col = [\"debt_consolidation\", \"credit_card\", \"home_improvement\", \"other\", \"major_purchase\",\n",
    " \"medical\", \"small_business\", \"car\", \"vacation\", \"moving\", \"house\", \"wedding\",\n",
    " \"renewable_energy\", \"educational\"]"
   ]
  },
  {
   "cell_type": "code",
   "execution_count": null,
   "id": "66abc9fa",
   "metadata": {},
   "outputs": [],
   "source": []
  },
  {
   "cell_type": "code",
   "execution_count": 23,
   "id": "7369dfd6",
   "metadata": {},
   "outputs": [],
   "source": [
    "df6 = df5.withColumn(\"purpose\",\n",
    "                    when(col(\"purpose\").isin(purpose_col),col(\"purpose\")).otherwise(\"other\")\n",
    "                    )"
   ]
  },
  {
   "cell_type": "code",
   "execution_count": 26,
   "id": "70dd6bd9",
   "metadata": {},
   "outputs": [
    {
     "data": {
      "text/html": [
       "<table border='1'>\n",
       "<tr><th>purpose</th><th>count</th></tr>\n",
       "<tr><td>debt_consolidation</td><td>1263422</td></tr>\n",
       "<tr><td>credit_card</td><td>511459</td></tr>\n",
       "<tr><td>home_improvement</td><td>149141</td></tr>\n",
       "<tr><td>other</td><td>138876</td></tr>\n",
       "<tr><td>major_purchase</td><td>50050</td></tr>\n",
       "<tr><td>medical</td><td>27247</td></tr>\n",
       "<tr><td>small_business</td><td>24416</td></tr>\n",
       "<tr><td>car</td><td>23815</td></tr>\n",
       "<tr><td>vacation</td><td>15373</td></tr>\n",
       "<tr><td>moving</td><td>15297</td></tr>\n",
       "<tr><td>house</td><td>14051</td></tr>\n",
       "<tr><td>wedding</td><td>2351</td></tr>\n",
       "<tr><td>renewable_energy</td><td>1433</td></tr>\n",
       "<tr><td>educational</td><td>410</td></tr>\n",
       "</table>\n"
      ],
      "text/plain": [
       "+------------------+-------+\n",
       "|           purpose|  count|\n",
       "+------------------+-------+\n",
       "|debt_consolidation|1263422|\n",
       "|       credit_card| 511459|\n",
       "|  home_improvement| 149141|\n",
       "|             other| 138876|\n",
       "|    major_purchase|  50050|\n",
       "|           medical|  27247|\n",
       "|    small_business|  24416|\n",
       "|               car|  23815|\n",
       "|          vacation|  15373|\n",
       "|            moving|  15297|\n",
       "|             house|  14051|\n",
       "|           wedding|   2351|\n",
       "|  renewable_energy|   1433|\n",
       "|       educational|    410|\n",
       "+------------------+-------+"
      ]
     },
     "execution_count": 26,
     "metadata": {},
     "output_type": "execute_result"
    }
   ],
   "source": [
    "df6.groupBy(\"purpose\").count().sort(\"count\",ascending=False)"
   ]
  },
  {
   "cell_type": "code",
   "execution_count": 27,
   "id": "321c2725",
   "metadata": {},
   "outputs": [
    {
     "data": {
      "text/html": [
       "<table border='1'>\n",
       "<tr><th>loan_id</th><th>member_id</th><th>loan_amnt</th><th>funded_amnt</th><th>term</th><th>int_rate</th><th>installment</th><th>issue_d</th><th>loan_status</th><th>purpose</th><th>title</th><th>Time</th></tr>\n",
       "<tr><td>56633077</td><td>b59d80da191f5b573...</td><td>3000.0</td><td>3000.0</td><td>3</td><td>7.89</td><td>93.86</td><td>Aug-2015</td><td>Fully Paid</td><td>credit_card</td><td>Credit card refin...</td><td>2025-07-26 03:00:...</td></tr>\n",
       "<tr><td>55927518</td><td>202d9f56ecb7c3bc9...</td><td>15600.0</td><td>15600.0</td><td>3</td><td>7.89</td><td>488.06</td><td>Aug-2015</td><td>Fully Paid</td><td>credit_card</td><td>Credit card refin...</td><td>2025-07-26 03:00:...</td></tr>\n",
       "<tr><td>56473345</td><td>e5a140c0922b554b9...</td><td>20000.0</td><td>20000.0</td><td>3</td><td>9.17</td><td>637.58</td><td>Aug-2015</td><td>Fully Paid</td><td>debt_consolidation</td><td>Debt consolidation</td><td>2025-07-26 03:00:...</td></tr>\n",
       "<tr><td>56463188</td><td>e12aefc548f750777...</td><td>11200.0</td><td>11200.0</td><td>5</td><td>21.99</td><td>309.27</td><td>Aug-2015</td><td>Fully Paid</td><td>home_improvement</td><td>Home improvement</td><td>2025-07-26 03:00:...</td></tr>\n",
       "<tr><td>56473316</td><td>1b3a50d854fbbf97e...</td><td>16000.0</td><td>16000.0</td><td>5</td><td>20.99</td><td>432.77</td><td>Aug-2015</td><td>Charged Off</td><td>debt_consolidation</td><td>Debt consolidation</td><td>2025-07-26 03:00:...</td></tr>\n",
       "</table>\n"
      ],
      "text/plain": [
       "+--------+--------------------+---------+-----------+----+--------+-----------+--------+-----------+------------------+--------------------+--------------------+\n",
       "| loan_id|           member_id|loan_amnt|funded_amnt|term|int_rate|installment| issue_d|loan_status|           purpose|               title|                Time|\n",
       "+--------+--------------------+---------+-----------+----+--------+-----------+--------+-----------+------------------+--------------------+--------------------+\n",
       "|56633077|b59d80da191f5b573...|   3000.0|     3000.0|   3|    7.89|      93.86|Aug-2015| Fully Paid|       credit_card|Credit card refin...|2025-07-26 03:00:...|\n",
       "|55927518|202d9f56ecb7c3bc9...|  15600.0|    15600.0|   3|    7.89|     488.06|Aug-2015| Fully Paid|       credit_card|Credit card refin...|2025-07-26 03:00:...|\n",
       "|56473345|e5a140c0922b554b9...|  20000.0|    20000.0|   3|    9.17|     637.58|Aug-2015| Fully Paid|debt_consolidation|  Debt consolidation|2025-07-26 03:00:...|\n",
       "|56463188|e12aefc548f750777...|  11200.0|    11200.0|   5|   21.99|     309.27|Aug-2015| Fully Paid|  home_improvement|    Home improvement|2025-07-26 03:00:...|\n",
       "|56473316|1b3a50d854fbbf97e...|  16000.0|    16000.0|   5|   20.99|     432.77|Aug-2015|Charged Off|debt_consolidation|  Debt consolidation|2025-07-26 03:00:...|\n",
       "+--------+--------------------+---------+-----------+----+--------+-----------+--------+-----------+------------------+--------------------+--------------------+"
      ]
     },
     "execution_count": 27,
     "metadata": {},
     "output_type": "execute_result"
    }
   ],
   "source": [
    "df6.limit(5)"
   ]
  },
  {
   "cell_type": "code",
   "execution_count": null,
   "id": "021d5bb7",
   "metadata": {},
   "outputs": [],
   "source": []
  },
  {
   "cell_type": "code",
   "execution_count": null,
   "id": "272bf22b",
   "metadata": {},
   "outputs": [],
   "source": []
  }
 ],
 "metadata": {
  "kernelspec": {
   "display_name": "Pyspark 3",
   "language": "python",
   "name": "pyspark3"
  },
  "language_info": {
   "codemirror_mode": {
    "name": "ipython",
    "version": 3
   },
   "file_extension": ".py",
   "mimetype": "text/x-python",
   "name": "python",
   "nbconvert_exporter": "python",
   "pygments_lexer": "ipython3",
   "version": "3.6.12"
  }
 },
 "nbformat": 4,
 "nbformat_minor": 5
}
